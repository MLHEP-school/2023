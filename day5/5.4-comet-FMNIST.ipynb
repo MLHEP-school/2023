{
  "cells": [
    {
      "cell_type": "code",
      "execution_count": null,
      "metadata": {
        "colab": {
          "base_uri": "https://localhost:8080/",
          "height": 361
        },
        "colab_type": "code",
        "id": "n6d98zVNZeO6",
        "outputId": "9d63190e-3d8f-479a-e640-4010b9202c55"
      },
      "outputs": [],
      "source": [
        "#!pip install comet_ml "
      ]
    },
    {
      "cell_type": "code",
      "execution_count": null,
      "metadata": {
        "colab": {},
        "colab_type": "code",
        "id": "k2Ze4ExpdDr4"
      },
      "outputs": [],
      "source": [
        "from comet_ml import Experiment"
      ]
    },
    {
      "cell_type": "code",
      "execution_count": null,
      "metadata": {
        "colab": {
          "base_uri": "https://localhost:8080/",
          "height": 35
        },
        "colab_type": "code",
        "id": "Idrj-_DU2nfT",
        "outputId": "970acc84-d01c-4d72-86a8-5b7ef36579a8"
      },
      "outputs": [],
      "source": [
        "import numpy as np\n",
        "import matplotlib.pyplot as plt\n",
        "%matplotlib inline\n",
        "import torch\n",
        "from sklearn.metrics import accuracy_score\n",
        "print(torch.__version__)"
      ]
    },
    {
      "cell_type": "markdown",
      "metadata": {
        "colab_type": "text",
        "id": "QjrsEoVl6gm5"
      },
      "source": [
        "## Fashion MINST dataset\n"
      ]
    },
    {
      "cell_type": "code",
      "execution_count": null,
      "metadata": {
        "colab": {},
        "colab_type": "code",
        "id": "6usBsSGi6k6u"
      },
      "outputs": [],
      "source": [
        "from torchvision.datasets import FashionMNIST"
      ]
    },
    {
      "cell_type": "code",
      "execution_count": null,
      "metadata": {
        "colab": {
          "base_uri": "https://localhost:8080/",
          "height": 181
        },
        "colab_type": "code",
        "id": "r49OsLdH6yRo",
        "outputId": "591ed5c2-aa15-434b-9f94-a0b03044af6e"
      },
      "outputs": [],
      "source": [
        "# Getting the train and test parts of the dataset\n",
        "data_train = FashionMNIST(\"FashionMNIST/\",\n",
        "                          download=True,\n",
        "                          train=True)\n",
        "\n",
        "data_test = FashionMNIST(\"FashionMNIST/\",\n",
        "                          download=True,\n",
        "                          train=False)\n",
        "\n",
        "# In fact, it's already stored as torch tensor, but we'll need\n",
        "# to work with the numpy representation, so let's do the convertion:\n",
        "X_train = data_train.train_data.numpy()\n",
        "y_train = data_train.train_labels.numpy()\n",
        "\n",
        "X_test = data_test.test_data.numpy()\n",
        "y_test = data_test.test_labels.numpy()\n"
      ]
    },
    {
      "cell_type": "markdown",
      "metadata": {
        "colab_type": "text",
        "id": "p-VvVjxj8IEk"
      },
      "source": [
        "The datasets consists of images belonging to one out of 10 classes:\n",
        "\n",
        "| Label | Description | Label | Description |\n",
        "| --- | --- | ---  |---   |\n",
        "| 0        | T-shirt/top   | 5        | Sandal         |\n",
        "| 1        | Trouser        | 6        | Shirt             |\n",
        "| 2        | Pullover       | 7        | Sneaker       |\n",
        "| 3        | Dress           | 8        | Bag              |\n",
        "| 4        | Coat             | 9        | Ankle boot  |\n",
        "\n",
        "\n",
        "\n"
      ]
    },
    {
      "cell_type": "code",
      "execution_count": null,
      "metadata": {
        "colab": {
          "base_uri": "https://localhost:8080/",
          "height": 575
        },
        "colab_type": "code",
        "id": "_SF_1SOE2Tvj",
        "outputId": "945f6398-2d65-493b-f81f-d078795b2a85"
      },
      "outputs": [],
      "source": [
        "categories = [\n",
        "    X_train[y_train == i]\n",
        "    for i in range(10)\n",
        "]\n",
        "\n",
        "ten_of_each = np.array([c[:10] for c in categories])\n",
        "ten_of_each = np.transpose(ten_of_each, (0, 2, 1, 3)).reshape(280, 280)\n",
        "\n",
        "plt.figure(figsize=(10, 10))\n",
        "plt.imshow(ten_of_each, cmap='hot')\n",
        "plt.axis('off');"
      ]
    },
    {
      "cell_type": "markdown",
      "metadata": {
        "colab_type": "text",
        "id": "gSPYLKzJAgzO"
      },
      "source": [
        "### Input preprocessing"
      ]
    },
    {
      "cell_type": "markdown",
      "metadata": {
        "colab_type": "text",
        "id": "Vl-0UxIJxTkn"
      },
      "source": [
        "So far our data is held as numpy arrays of unsigned byte type, i.e. it lies within a range from 0 to 255. Also, the shape of our input is 3-dimensional (num_images, height, width), while our `model` takes 2-dimensional \"arrays of 1-dimensional images\" (num_images, height * width)."
      ]
    },
    {
      "cell_type": "markdown",
      "metadata": {
        "colab_type": "text",
        "id": "XF2nptPHx3-g"
      },
      "source": [
        "We have to convert that to `torch` tensors and reshape the input. Also, it's a good idea to normalize your image data to lie within a $[0, 1]$ interval. Let's write a function that does all these things:"
      ]
    },
    {
      "cell_type": "code",
      "execution_count": null,
      "metadata": {
        "colab": {},
        "colab_type": "code",
        "id": "TMiuBEH42Hso"
      },
      "outputs": [],
      "source": [
        "# Write a function to convert X and y to torch tensors while\n",
        "# rescaling X to fit into [0, 1] interval and reshaping it properly\n",
        "\n",
        "# Hint: make sure your input tensor dtype is same as the\n",
        "# parameters of the model (should be torch.float)\n",
        "\n",
        "def preprocess_data(X, y):\n",
        "  X_preprocessed = torch.reshape(torch.from_numpy(X/ 255.).type(torch.float32), (-1, 784))\n",
        "  y_preprocessed = torch.from_numpy(y)\n",
        "  return X_preprocessed, y_preprocessed"
      ]
    },
    {
      "cell_type": "markdown",
      "metadata": {
        "colab_type": "text",
        "id": "NL1rGhZUxshQ"
      },
      "source": [
        "### Some utilities"
      ]
    },
    {
      "cell_type": "code",
      "execution_count": null,
      "metadata": {
        "colab": {},
        "colab_type": "code",
        "id": "FKlNWpZ5kOQX"
      },
      "outputs": [],
      "source": [
        "# Batch generator\n",
        "# (here's a very brief description of what python generators are:\n",
        "# https://stackoverflow.com/a/231855/3801744)\n",
        "def get_batches(X, y, batch_size, shuffle=False):\n",
        "  if shuffle:\n",
        "    shuffle_ids = np.random.permutation(len(X))\n",
        "    X = X[shuffle_ids].copy()\n",
        "    y = y[shuffle_ids].copy()\n",
        "  for i_picture in range(0, len(X), batch_size):\n",
        "    # Get batch and preprocess it:\n",
        "    batch_X = X[i_picture:i_picture + batch_size]\n",
        "    batch_y = y[i_picture:i_picture + batch_size]\n",
        "    \n",
        "    # 'return' the batch (see the link above to\n",
        "    # better understand what 'yield' does)\n",
        "    yield preprocess_data(batch_X, batch_y)"
      ]
    },
    {
      "cell_type": "code",
      "execution_count": null,
      "metadata": {
        "colab": {},
        "colab_type": "code",
        "id": "qSEGq892e9qZ"
      },
      "outputs": [],
      "source": [
        "def get_test_predictions(model, batch_size=100):\n",
        "  predictions_test = np.concatenate([\n",
        "    model(batch_X).to('cpu').detach().numpy()\n",
        "    for batch_X, batch_y in get_batches(X_test, y_test, batch_size)\n",
        "  ], axis=0)\n",
        "  return np.argmax(predictions_test, axis=1)\n"
      ]
    },
    {
      "cell_type": "markdown",
      "metadata": {
        "colab_type": "text",
        "id": "MFDC8dtcT64T"
      },
      "source": [
        "## Main training loop\n"
      ]
    },
    {
      "cell_type": "code",
      "execution_count": null,
      "metadata": {
        "colab": {},
        "colab_type": "code",
        "id": "erph8tObicBU"
      },
      "outputs": [],
      "source": [
        "def train_and_log(experiment, *args, **kwargs):\n",
        "  experiment.log_parameters(kwargs)\n",
        "  \n",
        "  accuracy, loss = train_model(*args, **kwargs)\n",
        "\n",
        "  experiment.log_metrics({'accuracy': accuracy, 'loss': loss})\n",
        "  return accuracy"
      ]
    },
    {
      "cell_type": "code",
      "execution_count": null,
      "metadata": {
        "colab": {},
        "colab_type": "code",
        "id": "4U3YMWEUvL6T"
      },
      "outputs": [],
      "source": [
        "def train_model(n_epochs, batch_size=100, learning_rate=0.001, hidden_size=100):\n",
        "  # Defining the model\n",
        "  input_size = 28 * 28 # number of pixels per image\n",
        "  output_size = 10 # number of classes\n",
        "\n",
        "  model = torch.nn.Sequential(\n",
        "    torch.nn.Linear(input_size, hidden_size),\n",
        "    torch.nn.ELU(),\n",
        "    torch.nn.Linear(hidden_size, output_size),\n",
        "  )\n",
        "\n",
        "  # Defining the loss function:\n",
        "  loss_function = torch.nn.CrossEntropyLoss()\n",
        "\n",
        "  # Setting up the optimizer\n",
        "  optimizer = torch.optim.Adam(model.parameters(), lr=learning_rate)\n",
        "\n",
        "  # Train / eval loop\n",
        "  for i_epoch in range(n_epochs):\n",
        "    for batch_X, batch_y in get_batches(X_train, y_train,\n",
        "                                        batch_size=batch_size,\n",
        "                                        shuffle=True):\n",
        "\n",
        "      # Compute the loss, zero the gradients, and make an optimization step\n",
        "      predictions = model(batch_X) # compute the predictions\n",
        "      loss = loss_function(predictions, batch_y) # compute the loss\n",
        "\n",
        "      model.zero_grad() # zero the gradients\n",
        "      loss.backward() # compute new gradients\n",
        "      optimizer.step() # do an optimization step\n",
        "\n",
        "    for batch_X, batch_y in get_batches(X_test, y_test,\n",
        "                                        batch_size=batch_size):\n",
        "\n",
        "      # Compute the loss\n",
        "      predictions = model(batch_X) # compute the predictions\n",
        "      loss = loss_function(predictions, batch_y) # compute the loss\n",
        "    accuracy = accuracy_score(get_test_predictions(model), y_test)\n",
        "\n",
        "  return accuracy, loss.item()"
      ]
    },
    {
      "cell_type": "code",
      "execution_count": null,
      "metadata": {
        "colab": {
          "base_uri": "https://localhost:8080/",
          "height": 35
        },
        "colab_type": "code",
        "id": "p0l9Ti9SoLFz",
        "outputId": "e6468140-4472-4496-e833-5d7d67556c30"
      },
      "outputs": [],
      "source": [
        "from getpass import getpass\n",
        "api_key = getpass(\"Enter key: \")"
      ]
    },
    {
      "cell_type": "code",
      "execution_count": null,
      "metadata": {
        "colab": {
          "base_uri": "https://localhost:8080/",
          "height": 73
        },
        "colab_type": "code",
        "id": "Qv6R9kqbl5Of",
        "outputId": "6d6bd575-5820-4779-cb49-efef4191ca95"
      },
      "outputs": [],
      "source": [
        "experiment = Experiment(api_key=api_key, project_name=\"comet FMNIST\", workspace=\"anaderix-demo\")"
      ]
    },
    {
      "cell_type": "code",
      "execution_count": null,
      "metadata": {
        "colab": {
          "base_uri": "https://localhost:8080/",
          "height": 35
        },
        "colab_type": "code",
        "id": "Z3Z6B4p8gjx5",
        "outputId": "0cb13b84-63b9-4d78-c5cc-08d7e2bf9f19"
      },
      "outputs": [],
      "source": [
        "n_epochs = 6\n",
        "learning_rate = 0.0005\n",
        "hidden_size = 150\n",
        "\n",
        "score = train_and_log(experiment, n_epochs=n_epochs, learning_rate=learning_rate, \n",
        "                      hidden_size=hidden_size)\n",
        "print (\"Score: {}\".format(score))\n",
        "experiment.end()\n"
      ]
    },
    {
      "cell_type": "markdown",
      "metadata": {
        "colab_type": "text",
        "id": "BnD-vbonmrjj"
      },
      "source": [
        "## Let's examine how it looks at comet.ml"
      ]
    },
    {
      "cell_type": "code",
      "execution_count": null,
      "metadata": {
        "colab": {
          "base_uri": "https://localhost:8080/",
          "height": 821
        },
        "colab_type": "code",
        "id": "EAD-7v2OgJ0X",
        "outputId": "720ec38b-7ae6-47fa-8b3e-efc59ed5410a"
      },
      "outputs": [],
      "source": [
        "# experiment.display()"
      ]
    },
    {
      "cell_type": "markdown",
      "metadata": {
        "colab_type": "text",
        "id": "XrqmIEKhuCu2"
      },
      "source": [
        "## Comet.ml logging capabilities"
      ]
    },
    {
      "cell_type": "code",
      "execution_count": null,
      "metadata": {
        "colab": {
          "base_uri": "https://localhost:8080/",
          "height": 1000
        },
        "colab_type": "code",
        "id": "4K0cnqSCgJ0h",
        "outputId": "a0a9b673-b564-4766-8a07-ea45036d4cc2"
      },
      "outputs": [],
      "source": [
        "for hidden_size in [50, 150, 200]:\n",
        "  experiment = Experiment(api_key=api_key, project_name=\"comet FMNIST\")\n",
        "  score = train_and_log(experiment, n_epochs=n_epochs, learning_rate=learning_rate, \n",
        "                      hidden_size=hidden_size)\n",
        "  experiment.end()\n"
      ]
    },
    {
      "cell_type": "markdown",
      "metadata": {
        "colab_type": "text",
        "id": "fOLOsr26sAGo"
      },
      "source": [
        "### Click on one of the experiment links to explore Comet.ml charting capability"
      ]
    },
    {
      "cell_type": "markdown",
      "metadata": {
        "colab_type": "text",
        "id": "TLXkTwY06VoJ"
      },
      "source": [
        "## Homework\n",
        "\n",
        "1. Save experiments to specific `workspace` (should be created first and have unique name) and share it with your friend\n",
        "1. Add chart with 3 parallel axes: [`hidden_size`, `accuracy`, `loss`]\n",
        "1. Sort by `accuracy` first\n",
        "1. Optimise `learning_rate` and `hiddent_size` via scikit-optimize package\n",
        "1. (*) Cast more convolutional magic\n",
        "\n",
        "```\n",
        "model = torch.nn.Sequential(\n",
        "            Reshape(-1, 1, 28, 28),\n",
        "            torch.nn.Conv2d(in_channels=1,\n",
        "                            out_channels=8,\n",
        "                            kernel_size=3,\n",
        "                            padding=1),\n",
        "            torch.nn.Dropout(p=dropout_rate),\n",
        "            torch.nn.ELU(),\n",
        "            torch.nn.MaxPool2d(2),\n",
        "            torch.nn.Conv2d(in_channels=8,\n",
        "                            out_channels=16,\n",
        "                            kernel_size=3,\n",
        "                            padding=1),\n",
        "            torch.nn.Dropout(p=dropout_rate),\n",
        "            torch.nn.ELU(),\n",
        "            torch.nn.MaxPool2d(2),\n",
        "            torch.nn.Conv2d(in_channels=16,\n",
        "                            out_channels=32,\n",
        "                            kernel_size=3,\n",
        "                            padding=1),\n",
        "            torch.nn.Dropout(p=dropout_rate),\n",
        "            torch.nn.ELU(),\n",
        "            torch.nn.MaxPool2d(2, padding=1),\n",
        "            Reshape(-1, 512),\n",
        "            torch.nn.Linear(512, 10)\n",
        "        ).to(device)\n",
        "```\n",
        "\n"
      ]
    }
  ],
  "metadata": {
    "accelerator": "GPU",
    "colab": {
      "collapsed_sections": [],
      "name": "comet-FMNIST.ipynb",
      "provenance": []
    },
    "kernelspec": {
      "display_name": "py3",
      "language": "python",
      "name": "python3"
    },
    "language_info": {
      "codemirror_mode": {
        "name": "ipython",
        "version": 3
      },
      "file_extension": ".py",
      "mimetype": "text/x-python",
      "name": "python",
      "nbconvert_exporter": "python",
      "pygments_lexer": "ipython3",
      "version": "3.8.9"
    }
  },
  "nbformat": 4,
  "nbformat_minor": 0
}
