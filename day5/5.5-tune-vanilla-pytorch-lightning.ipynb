{
 "cells": [
  {
   "cell_type": "markdown",
   "id": "aa6af4d3",
   "metadata": {},
   "source": [
    "# Using PyTorch Lightning with Tune\n",
    "\n",
    "(tune-vanilla-pytorch-lightning-ref)=\n",
    "\n",
    "PyTorch Lightning is a framework which brings structure into training PyTorch models. It\n",
    "aims to avoid boilerplate code, so you don't have to write the same training\n",
    "loops all over again when building a new model.\n",
    "\n",
    "```{image} /images/pytorch_lightning_full.png\n",
    ":align: center\n",
    "```\n",
    "\n",
    "The main abstraction of PyTorch Lightning is the `LightningModule` class, which\n",
    "should be extended by your application. There is [a great post on how to transfer your models from vanilla PyTorch to Lightning](https://towardsdatascience.com/from-pytorch-to-pytorch-lightning-a-gentle-introduction-b371b7caaf09).\n",
    "\n",
    "The class structure of PyTorch Lightning makes it very easy to define and tune model\n",
    "parameters. This tutorial will show you how to use Tune to find the best set of\n",
    "parameters for your application on the example of training a MNIST classifier. Notably,\n",
    "the `LightningModule` does not have to be altered at all for this - so you can\n",
    "use it plug and play for your existing models, assuming their parameters are configurable!\n",
    "\n",
    ":::{note}\n",
    "To run this example, you will need to install the following:\n",
    "\n",
    "```bash\n",
    "$ pip install \"ray[tune]\" torch torchvision pytorch-lightning\n",
    "```\n",
    ":::\n",
    "\n",
    "```{contents}\n",
    ":backlinks: none\n",
    ":local: true\n",
    "```\n",
    "\n",
    "## PyTorch Lightning classifier for MNIST\n",
    "\n",
    "Let's first start with the basic PyTorch Lightning implementation of an MNIST classifier.\n",
    "This classifier does not include any tuning code at this point.\n",
    "\n",
    "Our example builds on the MNIST example from the [blog post we talked about\n",
    "earlier](https://towardsdatascience.com/from-pytorch-to-pytorch-lightning-a-gentle-introduction-b371b7caaf09).\n",
    "\n",
    "First, we run some imports:"
   ]
  },
  {
   "cell_type": "code",
   "execution_count": 2,
   "id": "e6e77570",
   "metadata": {},
   "outputs": [],
   "source": [
    "import math\n",
    "\n",
    "import torch\n",
    "import pytorch_lightning as pl\n",
    "from filelock import FileLock\n",
    "from torch.utils.data import DataLoader, random_split\n",
    "from torch.nn import functional as F\n",
    "from torchvision.datasets import MNIST\n",
    "from torchvision import transforms\n",
    "import os"
   ]
  },
  {
   "cell_type": "markdown",
   "id": "3c442e73",
   "metadata": {},
   "source": [
    "And then there is the Lightning model adapted from the blog post.\n",
    "Note that we left out the test set validation and made the model parameters\n",
    "configurable through a `config` dict that is passed on initialization.\n",
    "Also, we specify a `data_dir` where the MNIST data will be stored. Note that\n",
    "we use a `FileLock` for downloading data so that the dataset is only downloaded\n",
    "once per node.\n",
    "Lastly, we added a new metric, the validation accuracy, to the logs."
   ]
  },
  {
   "cell_type": "code",
   "execution_count": 3,
   "id": "48b20f48",
   "metadata": {},
   "outputs": [],
   "source": [
    "class LightningMNISTClassifier(pl.LightningModule):\n",
    "    \"\"\"\n",
    "    This has been adapted from\n",
    "    https://towardsdatascience.com/from-pytorch-to-pytorch-lightning-a-gentle-introduction-b371b7caaf09\n",
    "    \"\"\"\n",
    "\n",
    "    def __init__(self, config, data_dir=None):\n",
    "        super(LightningMNISTClassifier, self).__init__()\n",
    "\n",
    "        self.data_dir = data_dir or os.getcwd()\n",
    "\n",
    "        self.layer_1_size = config[\"layer_1_size\"]\n",
    "        self.layer_2_size = config[\"layer_2_size\"]\n",
    "        self.lr = config[\"lr\"]\n",
    "        self.batch_size = config[\"batch_size\"]\n",
    "\n",
    "        # mnist images are (1, 28, 28) (channels, width, height)\n",
    "        self.layer_1 = torch.nn.Linear(28 * 28, self.layer_1_size)\n",
    "        self.layer_2 = torch.nn.Linear(self.layer_1_size, self.layer_2_size)\n",
    "        self.layer_3 = torch.nn.Linear(self.layer_2_size, 10)\n",
    "\n",
    "    def forward(self, x):\n",
    "        batch_size, channels, width, height = x.size()\n",
    "        x = x.view(batch_size, -1)\n",
    "\n",
    "        x = self.layer_1(x)\n",
    "        x = torch.relu(x)\n",
    "\n",
    "        x = self.layer_2(x)\n",
    "        x = torch.relu(x)\n",
    "\n",
    "        x = self.layer_3(x)\n",
    "        x = torch.log_softmax(x, dim=1)\n",
    "\n",
    "        return x\n",
    "\n",
    "    def cross_entropy_loss(self, logits, labels):\n",
    "        return F.nll_loss(logits, labels)\n",
    "\n",
    "    def accuracy(self, logits, labels):\n",
    "        _, predicted = torch.max(logits.data, 1)\n",
    "        correct = (predicted == labels).sum().item()\n",
    "        accuracy = correct / len(labels)\n",
    "        return torch.tensor(accuracy)\n",
    "\n",
    "    def training_step(self, train_batch, batch_idx):\n",
    "        x, y = train_batch\n",
    "        logits = self.forward(x)\n",
    "        loss = self.cross_entropy_loss(logits, y)\n",
    "        accuracy = self.accuracy(logits, y)\n",
    "\n",
    "        self.log(\"ptl/train_loss\", loss)\n",
    "        self.log(\"ptl/train_accuracy\", accuracy)\n",
    "        return loss\n",
    "\n",
    "    def validation_step(self, val_batch, batch_idx):\n",
    "        x, y = val_batch\n",
    "        logits = self.forward(x)\n",
    "        loss = self.cross_entropy_loss(logits, y)\n",
    "        accuracy = self.accuracy(logits, y)\n",
    "        return {\"val_loss\": loss, \"val_accuracy\": accuracy}\n",
    "\n",
    "    def validation_epoch_end(self, outputs):\n",
    "        avg_loss = torch.stack([x[\"val_loss\"] for x in outputs]).mean()\n",
    "        avg_acc = torch.stack([x[\"val_accuracy\"] for x in outputs]).mean()\n",
    "        self.log(\"ptl/val_loss\", avg_loss)\n",
    "        self.log(\"ptl/val_accuracy\", avg_acc)\n",
    "\n",
    "    @staticmethod\n",
    "    def download_data(data_dir):\n",
    "        transform = transforms.Compose([\n",
    "            transforms.ToTensor(),\n",
    "            transforms.Normalize((0.1307, ), (0.3081, ))\n",
    "        ])\n",
    "        with FileLock(os.path.expanduser(\"~/.data.lock\")):\n",
    "            return MNIST(data_dir, train=True, download=True, transform=transform)\n",
    "\n",
    "    def prepare_data(self):\n",
    "        mnist_train = self.download_data(self.data_dir)\n",
    "\n",
    "        self.mnist_train, self.mnist_val = random_split(\n",
    "            mnist_train, [55000, 5000])\n",
    "\n",
    "    def train_dataloader(self):\n",
    "        return DataLoader(self.mnist_train, batch_size=int(self.batch_size))\n",
    "\n",
    "    def val_dataloader(self):\n",
    "        return DataLoader(self.mnist_val, batch_size=int(self.batch_size))\n",
    "\n",
    "    def configure_optimizers(self):\n",
    "        optimizer = torch.optim.Adam(self.parameters(), lr=self.lr)\n",
    "        return optimizer\n",
    "\n",
    "\n",
    "def train_mnist(config):\n",
    "    model = LightningMNISTClassifier(config)\n",
    "    trainer = pl.Trainer(max_epochs=10, enable_progress_bar=False)\n",
    "\n",
    "    trainer.fit(model)"
   ]
  },
  {
   "cell_type": "markdown",
   "id": "da1c3632",
   "metadata": {},
   "source": [
    "And that's it! You can now run `train_mnist(config)` to train the classifier, e.g.\n",
    "like so:"
   ]
  },
  {
   "cell_type": "code",
   "execution_count": 4,
   "id": "86df3d39",
   "metadata": {},
   "outputs": [],
   "source": [
    "def train_mnist_no_tune():\n",
    "    config = {\n",
    "        \"layer_1_size\": 128,\n",
    "        \"layer_2_size\": 256,\n",
    "        \"lr\": 1e-3,\n",
    "        \"batch_size\": 64\n",
    "    }\n",
    "    train_mnist(config)"
   ]
  },
  {
   "cell_type": "markdown",
   "id": "edcc0991",
   "metadata": {},
   "source": [
    "## Tuning the model parameters\n",
    "\n",
    "The parameters above should give you a good accuracy of over 90% already. However,\n",
    "we might improve on this simply by changing some of the hyperparameters. For instance,\n",
    "maybe we get an even higher accuracy if we used a larger batch size.\n",
    "\n",
    "Instead of guessing the parameter values, let's use Tune to systematically try out\n",
    "parameter combinations and find the best performing set.\n",
    "\n",
    "First, we need some additional imports:"
   ]
  },
  {
   "cell_type": "code",
   "execution_count": 5,
   "id": "34faeb3b",
   "metadata": {},
   "outputs": [],
   "source": [
    "from pytorch_lightning.loggers import TensorBoardLogger\n",
    "# import setproctitle\n",
    "from ray import tune, air\n",
    "from ray.air import session\n",
    "from ray.tune import CLIReporter, JupyterNotebookReporter\n",
    "from ray.tune.schedulers import ASHAScheduler, PopulationBasedTraining\n",
    "from ray.tune.integration.pytorch_lightning import TuneReportCallback, \\\n",
    "    TuneReportCheckpointCallback"
   ]
  },
  {
   "cell_type": "markdown",
   "id": "f65b9c5f",
   "metadata": {},
   "source": [
    "### Talking to Tune with a PyTorch Lightning callback\n",
    "\n",
    "PyTorch Lightning introduced [Callbacks](https://pytorch-lightning.readthedocs.io/en/latest/extensions/callbacks.html)\n",
    "that can be used to plug custom functions into the training loop. This way the original\n",
    "`LightningModule` does not have to be altered at all. Also, we could use the same\n",
    "callback for multiple modules.\n",
    "\n",
    "Ray Tune comes with ready-to-use PyTorch Lightning callbacks. To report metrics\n",
    "back to Tune after each validation epoch, we will use the `TuneReportCallback`:"
   ]
  },
  {
   "cell_type": "code",
   "execution_count": 6,
   "id": "4bab80bc",
   "metadata": {},
   "outputs": [
    {
     "data": {
      "text/plain": [
       "<ray.tune.integration.pytorch_lightning.TuneReportCallback at 0x131a122b0>"
      ]
     },
     "execution_count": 6,
     "metadata": {},
     "output_type": "execute_result"
    }
   ],
   "source": [
    "TuneReportCallback(\n",
    "    {\n",
    "        \"loss\": \"ptl/val_loss\",\n",
    "        \"mean_accuracy\": \"ptl/val_accuracy\"\n",
    "    },\n",
    "    on=\"validation_end\")"
   ]
  },
  {
   "cell_type": "markdown",
   "id": "286a1070",
   "metadata": {},
   "source": [
    "This callback will take the `val_loss` and `val_accuracy` values\n",
    "from the PyTorch Lightning trainer and report them to Tune as the `loss`\n",
    "and `mean_accuracy`, respectively.\n",
    "\n",
    "### Adding the Tune training function\n",
    "\n",
    "Then we specify our training function. Note that we added the `data_dir` as a\n",
    "parameter here to avoid\n",
    "that each training run downloads the full MNIST dataset. Instead, we want to access\n",
    "a shared data location.\n",
    "\n",
    "We are also able to specify the number of epochs to train each model, and the number\n",
    "of GPUs we want to use for training. We also create a TensorBoard logger that writes\n",
    "logfiles directly into Tune's root trial directory - if we didn't do that PyTorch\n",
    "Lightning would create subdirectories, and each trial would thus be shown twice in\n",
    "TensorBoard, one time for Tune's logs, and another time for PyTorch Lightning's logs."
   ]
  },
  {
   "cell_type": "code",
   "execution_count": 7,
   "id": "74e7d1c2",
   "metadata": {},
   "outputs": [],
   "source": [
    "def train_mnist_tune(config, num_epochs=10, num_gpus=0, data_dir=\"~/data\"):\n",
    "    data_dir = os.path.expanduser(data_dir)\n",
    "    model = LightningMNISTClassifier(config, data_dir)\n",
    "    trainer = pl.Trainer(\n",
    "        max_epochs=num_epochs,\n",
    "        # If fractional GPUs passed in, convert to int.\n",
    "        gpus=math.ceil(num_gpus),\n",
    "        logger=TensorBoardLogger(\n",
    "            save_dir=os.getcwd(), name=\"\", version=\".\"),\n",
    "        enable_progress_bar=False,\n",
    "        callbacks=[\n",
    "            TuneReportCallback(\n",
    "                {\n",
    "                    \"loss\": \"ptl/val_loss\",\n",
    "                    \"mean_accuracy\": \"ptl/val_accuracy\"\n",
    "                },\n",
    "                on=\"validation_end\")\n",
    "        ])\n",
    "    trainer.fit(model)"
   ]
  },
  {
   "cell_type": "markdown",
   "id": "cf0f6d6e",
   "metadata": {},
   "source": [
    "### Configuring the search space\n",
    "\n",
    "Now we configure the parameter search space. We would like to choose between three\n",
    "different layer and batch sizes. The learning rate should be sampled uniformly between\n",
    "`0.0001` and `0.1`. The `tune.loguniform()` function is syntactic sugar to make\n",
    "sampling between these different orders of magnitude easier, specifically\n",
    "we are able to also sample small values."
   ]
  },
  {
   "cell_type": "code",
   "execution_count": 8,
   "id": "a50645e9",
   "metadata": {},
   "outputs": [],
   "source": [
    "config = {\n",
    "    \"layer_1_size\": tune.choice([32, 64, 128]),\n",
    "    \"layer_2_size\": tune.choice([64, 128, 256]),\n",
    "    \"lr\": tune.loguniform(1e-4, 1e-1),\n",
    "    \"batch_size\": tune.choice([32, 64, 128]),\n",
    "}"
   ]
  },
  {
   "cell_type": "markdown",
   "id": "b1fb9ecd",
   "metadata": {},
   "source": [
    "### Selecting a scheduler\n",
    "\n",
    "In this example, we use an [Asynchronous Hyperband](https://blog.ml.cmu.edu/2018/12/12/massively-parallel-hyperparameter-optimization/)\n",
    "scheduler. This scheduler decides at each iteration which trials are likely to perform\n",
    "badly, and stops these trials. This way we don't waste any resources on bad hyperparameter\n",
    "configurations."
   ]
  },
  {
   "cell_type": "code",
   "execution_count": 9,
   "id": "a2596b01",
   "metadata": {},
   "outputs": [],
   "source": [
    "num_epochs = 10\n",
    "\n",
    "scheduler = ASHAScheduler(\n",
    "    max_t=num_epochs,\n",
    "    grace_period=1,\n",
    "    reduction_factor=2)"
   ]
  },
  {
   "cell_type": "markdown",
   "id": "9a49ae58",
   "metadata": {},
   "source": [
    "### Changing the CLI output\n",
    "\n",
    "We instantiate a `CLIReporter` to specify which metrics we would like to see in our\n",
    "output tables in the command line. This is optional, but can be used to make sure our\n",
    "output tables only include information we would like to see."
   ]
  },
  {
   "cell_type": "code",
   "execution_count": 10,
   "id": "cd605a16",
   "metadata": {},
   "outputs": [],
   "source": [
    "reporter = CLIReporter(\n",
    "    parameter_columns=[\"layer_1_size\", \"layer_2_size\", \"lr\", \"batch_size\"],\n",
    "    metric_columns=[\"loss\", \"mean_accuracy\", \"training_iteration\"])"
   ]
  },
  {
   "cell_type": "markdown",
   "id": "5ec9a305",
   "metadata": {},
   "source": [
    "### Passing constants to the train function\n",
    "\n",
    "The `data_dir`, `num_epochs` and `num_gpus` we pass to the training function\n",
    "are constants. To avoid including them as non-configurable parameters in the `config`\n",
    "specification, we can use `tune.with_parameters` to wrap around the training function."
   ]
  },
  {
   "cell_type": "code",
   "execution_count": 11,
   "id": "332668dc",
   "metadata": {},
   "outputs": [],
   "source": [
    "gpus_per_trial = 0\n",
    "data_dir = \"~/data\"\n",
    "\n",
    "train_fn_with_parameters = tune.with_parameters(train_mnist_tune,\n",
    "                                                num_epochs=num_epochs,\n",
    "                                                num_gpus=gpus_per_trial,\n",
    "                                                data_dir=data_dir)"
   ]
  },
  {
   "cell_type": "markdown",
   "id": "feef8c39",
   "metadata": {},
   "source": [
    "### Training with GPUs\n",
    "\n",
    "We can specify how many resources Tune should request for each trial.\n",
    "This also includes GPUs.\n",
    "\n",
    "PyTorch Lightning takes care of moving the training to the GPUs. We\n",
    "already made sure that our code is compatible with that, so there's\n",
    "nothing more to do here other than to specify the number of GPUs\n",
    "we would like to use:"
   ]
  },
  {
   "cell_type": "code",
   "execution_count": 12,
   "id": "dc402716",
   "metadata": {},
   "outputs": [],
   "source": [
    "resources_per_trial = {\"cpu\": 1, \"gpu\": gpus_per_trial}"
   ]
  },
  {
   "cell_type": "markdown",
   "id": "ca050dfa",
   "metadata": {},
   "source": [
    "You can also specify {ref}`fractional GPUs for Tune <tune-parallelism>`,\n",
    "allowing multiple trials to share GPUs and thus increase concurrency under resource constraints.\n",
    "While the `gpus_per_trial` passed into\n",
    "Tune is a decimal value, the `gpus` passed into the `pl.Trainer` should still be an integer.\n",
    "Please note that if using fractional GPUs, it is the user's responsibility to\n",
    "make sure multiple trials can share GPUs and there is enough memory to do so.\n",
    "Ray does not automatically handle this for you.\n",
    "\n",
    "If you want to use multiple GPUs per trial, you should check out the\n",
    "[Ray Lightning Library](https://github.com/ray-project/ray_lightning).\n",
    "This library makes it easy to run multiple concurrent trials with Ray Tune, with each trial also running\n",
    "in a distributed fashion using Ray.\n",
    "\n",
    "### Putting it together\n",
    "\n",
    "Lastly, we need to create a `Tuner()` object and start Ray Tune with `tuner.fit()`.\n",
    "\n",
    "The full code looks like this:"
   ]
  },
  {
   "cell_type": "code",
   "execution_count": 13,
   "id": "ea182330",
   "metadata": {},
   "outputs": [],
   "source": [
    "def tune_mnist_asha(num_samples=10, num_epochs=10, gpus_per_trial=0, data_dir=\"~/data\"):\n",
    "    config = {\n",
    "        \"layer_1_size\": tune.choice([32, 64, 128]),\n",
    "        \"layer_2_size\": tune.choice([64, 128, 256]),\n",
    "        \"lr\": tune.loguniform(1e-4, 1e-1),\n",
    "        \"batch_size\": tune.choice([32, 64, 128]),\n",
    "    }\n",
    "\n",
    "    scheduler = ASHAScheduler(\n",
    "        max_t=num_epochs,\n",
    "        grace_period=1,\n",
    "        reduction_factor=2)\n",
    "\n",
    "    # reporter = CLIReporter(\n",
    "    reporter = JupyterNotebookReporter(\n",
    "        parameter_columns=[\"layer_1_size\", \"layer_2_size\", \"lr\", \"batch_size\"],\n",
    "        metric_columns=[\"loss\", \"mean_accuracy\", \"training_iteration\"])\n",
    "\n",
    "    train_fn_with_parameters = tune.with_parameters(train_mnist_tune,\n",
    "                                                    num_epochs=num_epochs,\n",
    "                                                    num_gpus=gpus_per_trial,\n",
    "                                                    data_dir=data_dir)\n",
    "    resources_per_trial = {\"cpu\": 1, \"gpu\": gpus_per_trial}\n",
    "    \n",
    "    tuner = tune.Tuner(\n",
    "        tune.with_resources(\n",
    "            train_fn_with_parameters,\n",
    "            resources=resources_per_trial\n",
    "        ),\n",
    "        tune_config=tune.TuneConfig(\n",
    "            metric=\"loss\",\n",
    "            mode=\"min\",\n",
    "            scheduler=scheduler,\n",
    "            num_samples=num_samples,\n",
    "        ),\n",
    "        run_config=air.RunConfig(\n",
    "            local_dir=\"./runs\",\n",
    "            name=\"tune_mnist_asha\",\n",
    "            progress_reporter=reporter,\n",
    "            log_to_file=True,\n",
    "        ),\n",
    "        param_space=config,\n",
    "    )\n",
    "    results = tuner.fit()\n",
    "\n",
    "    print(\"Best hyperparameters found were: \", results.get_best_result().config)"
   ]
  },
  {
   "cell_type": "markdown",
   "id": "1fb96b6c",
   "metadata": {},
   "source": [
    "In the example above, Tune runs 10 trials with different hyperparameter configurations.\n",
    "An example output could look like so:\n",
    "\n",
    "```{code-block} bash\n",
    ":emphasize-lines: 12\n",
    "\n",
    "  +------------------------------+------------+-------+----------------+----------------+-------------+--------------+----------+-----------------+----------------------+\n",
    "  | Trial name                   | status     | loc   |   layer_1_size |   layer_2_size |          lr |   batch_size |     loss |   mean_accuracy |   training_iteration |\n",
    "  |------------------------------+------------+-------+----------------+----------------+-------------+--------------+----------+-----------------+----------------------|\n",
    "  | train_mnist_tune_63ecc_00000 | TERMINATED |       |            128 |             64 | 0.00121197  |          128 | 0.120173 |       0.972461  |                   10 |\n",
    "  | train_mnist_tune_63ecc_00001 | TERMINATED |       |             64 |            128 | 0.0301395   |          128 | 0.454836 |       0.868164  |                    4 |\n",
    "  | train_mnist_tune_63ecc_00002 | TERMINATED |       |             64 |            128 | 0.0432097   |          128 | 0.718396 |       0.718359  |                    1 |\n",
    "  | train_mnist_tune_63ecc_00003 | TERMINATED |       |             32 |            128 | 0.000294669 |           32 | 0.111475 |       0.965764  |                   10 |\n",
    "  | train_mnist_tune_63ecc_00004 | TERMINATED |       |             32 |            256 | 0.000386664 |           64 | 0.133538 |       0.960839  |                    8 |\n",
    "  | train_mnist_tune_63ecc_00005 | TERMINATED |       |            128 |            128 | 0.0837395   |           32 | 2.32628  |       0.0991242 |                    1 |\n",
    "  | train_mnist_tune_63ecc_00006 | TERMINATED |       |             64 |            128 | 0.000158761 |          128 | 0.134595 |       0.959766  |                   10 |\n",
    "  | train_mnist_tune_63ecc_00007 | TERMINATED |       |             64 |             64 | 0.000672126 |           64 | 0.118182 |       0.972903  |                   10 |\n",
    "  | train_mnist_tune_63ecc_00008 | TERMINATED |       |            128 |             64 | 0.000502428 |           32 | 0.11082  |       0.975518  |                   10 |\n",
    "  | train_mnist_tune_63ecc_00009 | TERMINATED |       |             64 |            256 | 0.00112894  |           32 | 0.13472  |       0.971935  |                    8 |\n",
    "  +------------------------------+------------+-------+----------------+----------------+-------------+--------------+----------+-----------------+----------------------+\n",
    "```\n",
    "\n",
    "As you can see in the `training_iteration` column, trials with a high loss\n",
    "(and low accuracy) have been terminated early. The best performing trial used\n",
    "`layer_1_size=128`, `layer_2_size=64`, `lr=0.000502428` and\n",
    "`batch_size=32`.\n",
    "\n",
    "## Using Population Based Training to find the best parameters\n",
    "\n",
    "The `ASHAScheduler` terminates those trials early that show bad performance.\n",
    "Sometimes, this stops trials that would get better after more training steps,\n",
    "and which might eventually even show better performance than other configurations.\n",
    "\n",
    "Another popular method for hyperparameter tuning, called\n",
    "[Population Based Training](https://deepmind.com/blog/article/population-based-training-neural-networks),\n",
    "instead perturbs hyperparameters during the training run. Tune implements PBT, and\n",
    "we only need to make some slight adjustments to our code.\n",
    "\n",
    "### Adding checkpoints to the PyTorch Lightning module\n",
    "\n",
    "First, we need to introduce\n",
    "another callback to save model checkpoints. Since Tune requires a call to\n",
    "`session.report()` after creating a new checkpoint to register it, we will use\n",
    "a combined reporting and checkpointing callback:"
   ]
  },
  {
   "cell_type": "code",
   "execution_count": 14,
   "id": "7f86e4d8",
   "metadata": {},
   "outputs": [
    {
     "data": {
      "text/plain": [
       "<ray.tune.integration.pytorch_lightning.TuneReportCheckpointCallback at 0x1121d04f0>"
      ]
     },
     "execution_count": 14,
     "metadata": {},
     "output_type": "execute_result"
    }
   ],
   "source": [
    "TuneReportCheckpointCallback(\n",
    "    metrics={\n",
    "        \"loss\": \"ptl/val_loss\",\n",
    "        \"mean_accuracy\": \"ptl/val_accuracy\"\n",
    "    },\n",
    "    filename=\"checkpoint\",\n",
    "    on=\"validation_end\")"
   ]
  },
  {
   "cell_type": "markdown",
   "id": "33a76d5b",
   "metadata": {},
   "source": [
    "The `checkpoint` value is the name of the checkpoint file within the\n",
    "checkpoint directory.\n",
    "\n",
    "We also include checkpoint loading in our training function:"
   ]
  },
  {
   "cell_type": "code",
   "execution_count": 15,
   "id": "746e962a",
   "metadata": {},
   "outputs": [],
   "source": [
    "def train_mnist_tune_checkpoint(config,\n",
    "                                checkpoint_dir=None,\n",
    "                                num_epochs=10,\n",
    "                                num_gpus=0,\n",
    "                                data_dir=\"~/data\"):\n",
    "    data_dir = os.path.expanduser(data_dir)\n",
    "    kwargs = {\n",
    "        \"max_epochs\": num_epochs,\n",
    "        # If fractional GPUs passed in, convert to int.\n",
    "        \"gpus\": math.ceil(num_gpus),\n",
    "        \"logger\": TensorBoardLogger(\n",
    "            save_dir=os.getcwd(), name=\"\", version=\".\"),\n",
    "        \"enable_progress_bar\": False,\n",
    "        \"callbacks\": [\n",
    "            TuneReportCheckpointCallback(\n",
    "                metrics={\n",
    "                    \"loss\": \"ptl/val_loss\",\n",
    "                    \"mean_accuracy\": \"ptl/val_accuracy\"\n",
    "                },\n",
    "                filename=\"checkpoint\",\n",
    "                on=\"validation_end\")\n",
    "        ]\n",
    "    }\n",
    "\n",
    "    if checkpoint_dir:\n",
    "        kwargs[\"resume_from_checkpoint\"] = os.path.join(\n",
    "            checkpoint_dir, \"checkpoint\")\n",
    "\n",
    "    model = LightningMNISTClassifier(config=config, data_dir=data_dir)\n",
    "    trainer = pl.Trainer(**kwargs)\n",
    "\n",
    "    trainer.fit(model)"
   ]
  },
  {
   "cell_type": "markdown",
   "id": "39dc7b46",
   "metadata": {},
   "source": [
    "### Configuring and running Population Based Training\n",
    "\n",
    "We need to call Tune slightly differently:"
   ]
  },
  {
   "cell_type": "code",
   "execution_count": 16,
   "id": "e12a1bd5",
   "metadata": {},
   "outputs": [],
   "source": [
    "def tune_mnist_pbt(num_samples=10, num_epochs=10, gpus_per_trial=0, data_dir=\"~/data\"):\n",
    "    config = {\n",
    "        \"layer_1_size\": tune.choice([32, 64, 128]),\n",
    "        \"layer_2_size\": tune.choice([64, 128, 256]),\n",
    "        \"lr\": 1e-3,\n",
    "        \"batch_size\": 64,\n",
    "    }\n",
    "\n",
    "    scheduler = PopulationBasedTraining(\n",
    "        perturbation_interval=4,\n",
    "        hyperparam_mutations={\n",
    "            \"lr\": tune.loguniform(1e-4, 1e-1),\n",
    "            \"batch_size\": [32, 64, 128]\n",
    "        })\n",
    "\n",
    "    reporter = CLIReporter(\n",
    "        parameter_columns=[\"layer_1_size\", \"layer_2_size\", \"lr\", \"batch_size\"],\n",
    "        metric_columns=[\"loss\", \"mean_accuracy\", \"training_iteration\"])\n",
    "    \n",
    "    tuner = tune.Tuner(\n",
    "        tune.with_resources(\n",
    "            tune.with_parameters(\n",
    "                train_mnist_tune_checkpoint,\n",
    "                num_epochs=num_epochs,\n",
    "                num_gpus=gpus_per_trial,\n",
    "                data_dir=data_dir),\n",
    "            resources={\n",
    "                \"cpu\": 1,\n",
    "                \"gpu\": gpus_per_trial\n",
    "            }\n",
    "        ),\n",
    "        tune_config=tune.TuneConfig(\n",
    "            metric=\"loss\",\n",
    "            mode=\"min\",\n",
    "            scheduler=scheduler,\n",
    "            num_samples=num_samples,\n",
    "        ),\n",
    "        run_config=air.RunConfig(\n",
    "            name=\"tune_mnist_asha\",\n",
    "            progress_reporter=reporter,\n",
    "        ),\n",
    "        param_space=config,\n",
    "    )\n",
    "    results = tuner.fit()\n",
    "\n",
    "    print(\"Best hyperparameters found were: \", results.get_best_result().config)"
   ]
  },
  {
   "cell_type": "markdown",
   "id": "6087f807",
   "metadata": {},
   "source": [
    "Instead of passing tune parameters to the `config` dict, we start\n",
    "with fixed values, though we are also able to sample some of them, like the\n",
    "layer sizes. Additionally, we have to tell PBT how to perturb the hyperparameters.\n",
    "Note that the layer sizes are not tuned right here. This is because we cannot simply\n",
    "change layer sizes during a training run - which is what would happen in PBT.\n",
    "\n",
    "To test running both of our main scripts (`tune_mnist_asha` and `tune_mnist_pbt`), all you have to do is specify\n",
    "a `data_dir` folder and run the scripts with reasonable parameters:"
   ]
  },
  {
   "cell_type": "code",
   "execution_count": 17,
   "id": "eb9faf3e",
   "metadata": {
    "pycharm": {
     "name": "#%%\n"
    }
   },
   "outputs": [
    {
     "data": {
      "text/html": [
       "<div class=\"tuneStatus\">\n",
       "  <div style=\"display: flex;flex-direction: row\">\n",
       "    <div style=\"display: flex;flex-direction: column;\">\n",
       "      <h3>Tune Status</h3>\n",
       "      <table>\n",
       "<tbody>\n",
       "<tr><td>Current time:</td><td>2023-04-15 07:02:33</td></tr>\n",
       "<tr><td>Running for: </td><td>00:00:59.81        </td></tr>\n",
       "<tr><td>Memory:      </td><td>10.9/16.0 GiB      </td></tr>\n",
       "</tbody>\n",
       "</table>\n",
       "    </div>\n",
       "    <div class=\"vDivider\"></div>\n",
       "    <div class=\"systemInfo\">\n",
       "      <h3>System Info</h3>\n",
       "      Using AsyncHyperBand: num_stopped=0<br>Bracket: Iter 4.000: None | Iter 2.000: None | Iter 1.000: None<br>Resources requested: 8.0/8 CPUs, 0/0 GPUs, 0.0/4.6 GiB heap, 0.0/2.0 GiB objects\n",
       "    </div>\n",
       "    \n",
       "  </div>\n",
       "  <div class=\"hDivider\"></div>\n",
       "  <div class=\"trialStatus\">\n",
       "    <h3>Trial Status</h3>\n",
       "    <table>\n",
       "<thead>\n",
       "<tr><th>Trial name                  </th><th>status  </th><th>loc            </th><th style=\"text-align: right;\">  layer_1_size</th><th style=\"text-align: right;\">  layer_2_size</th><th style=\"text-align: right;\">         lr</th><th style=\"text-align: right;\">  batch_size</th></tr>\n",
       "</thead>\n",
       "<tbody>\n",
       "<tr><td>train_mnist_tune_977e2_00000</td><td>RUNNING </td><td>127.0.0.1:57597</td><td style=\"text-align: right;\">           128</td><td style=\"text-align: right;\">           128</td><td style=\"text-align: right;\">0.0644753  </td><td style=\"text-align: right;\">          64</td></tr>\n",
       "<tr><td>train_mnist_tune_977e2_00001</td><td>RUNNING </td><td>127.0.0.1:57609</td><td style=\"text-align: right;\">           128</td><td style=\"text-align: right;\">           128</td><td style=\"text-align: right;\">0.00428978 </td><td style=\"text-align: right;\">          32</td></tr>\n",
       "<tr><td>train_mnist_tune_977e2_00002</td><td>RUNNING </td><td>127.0.0.1:57618</td><td style=\"text-align: right;\">            32</td><td style=\"text-align: right;\">           128</td><td style=\"text-align: right;\">0.00812826 </td><td style=\"text-align: right;\">          64</td></tr>\n",
       "<tr><td>train_mnist_tune_977e2_00003</td><td>RUNNING </td><td>127.0.0.1:57628</td><td style=\"text-align: right;\">            32</td><td style=\"text-align: right;\">           256</td><td style=\"text-align: right;\">0.000237569</td><td style=\"text-align: right;\">          64</td></tr>\n",
       "<tr><td>train_mnist_tune_977e2_00004</td><td>RUNNING </td><td>127.0.0.1:57635</td><td style=\"text-align: right;\">            64</td><td style=\"text-align: right;\">           128</td><td style=\"text-align: right;\">0.000176657</td><td style=\"text-align: right;\">          32</td></tr>\n",
       "<tr><td>train_mnist_tune_977e2_00005</td><td>RUNNING </td><td>127.0.0.1:57646</td><td style=\"text-align: right;\">            64</td><td style=\"text-align: right;\">            64</td><td style=\"text-align: right;\">0.0190303  </td><td style=\"text-align: right;\">          32</td></tr>\n",
       "<tr><td>train_mnist_tune_977e2_00006</td><td>RUNNING </td><td>127.0.0.1:57654</td><td style=\"text-align: right;\">            32</td><td style=\"text-align: right;\">           256</td><td style=\"text-align: right;\">0.00155692 </td><td style=\"text-align: right;\">          32</td></tr>\n",
       "<tr><td>train_mnist_tune_977e2_00007</td><td>RUNNING </td><td>127.0.0.1:57661</td><td style=\"text-align: right;\">            32</td><td style=\"text-align: right;\">            64</td><td style=\"text-align: right;\">0.00172033 </td><td style=\"text-align: right;\">          32</td></tr>\n",
       "<tr><td>train_mnist_tune_977e2_00008</td><td>PENDING </td><td>               </td><td style=\"text-align: right;\">            64</td><td style=\"text-align: right;\">           128</td><td style=\"text-align: right;\">0.00183517 </td><td style=\"text-align: right;\">         128</td></tr>\n",
       "<tr><td>train_mnist_tune_977e2_00009</td><td>PENDING </td><td>               </td><td style=\"text-align: right;\">            64</td><td style=\"text-align: right;\">            64</td><td style=\"text-align: right;\">0.0279331  </td><td style=\"text-align: right;\">          64</td></tr>\n",
       "<tr><td>train_mnist_tune_977e2_00010</td><td>PENDING </td><td>               </td><td style=\"text-align: right;\">            64</td><td style=\"text-align: right;\">            64</td><td style=\"text-align: right;\">0.00467245 </td><td style=\"text-align: right;\">         128</td></tr>\n",
       "<tr><td>train_mnist_tune_977e2_00011</td><td>PENDING </td><td>               </td><td style=\"text-align: right;\">           128</td><td style=\"text-align: right;\">           128</td><td style=\"text-align: right;\">0.00016043 </td><td style=\"text-align: right;\">          64</td></tr>\n",
       "<tr><td>train_mnist_tune_977e2_00012</td><td>PENDING </td><td>               </td><td style=\"text-align: right;\">            64</td><td style=\"text-align: right;\">           256</td><td style=\"text-align: right;\">0.000100537</td><td style=\"text-align: right;\">         128</td></tr>\n",
       "<tr><td>train_mnist_tune_977e2_00013</td><td>PENDING </td><td>               </td><td style=\"text-align: right;\">            64</td><td style=\"text-align: right;\">            64</td><td style=\"text-align: right;\">0.000113435</td><td style=\"text-align: right;\">         128</td></tr>\n",
       "<tr><td>train_mnist_tune_977e2_00014</td><td>PENDING </td><td>               </td><td style=\"text-align: right;\">           128</td><td style=\"text-align: right;\">           256</td><td style=\"text-align: right;\">0.000200012</td><td style=\"text-align: right;\">          64</td></tr>\n",
       "<tr><td>train_mnist_tune_977e2_00015</td><td>PENDING </td><td>               </td><td style=\"text-align: right;\">           128</td><td style=\"text-align: right;\">           128</td><td style=\"text-align: right;\">0.01705    </td><td style=\"text-align: right;\">          32</td></tr>\n",
       "</tbody>\n",
       "</table>\n",
       "  </div>\n",
       "</div>\n",
       "<style>\n",
       ".tuneStatus {\n",
       "  color: var(--jp-ui-font-color1);\n",
       "}\n",
       ".tuneStatus .systemInfo {\n",
       "  display: flex;\n",
       "  flex-direction: column;\n",
       "}\n",
       ".tuneStatus td {\n",
       "  white-space: nowrap;\n",
       "}\n",
       ".tuneStatus .trialStatus {\n",
       "  display: flex;\n",
       "  flex-direction: column;\n",
       "}\n",
       ".tuneStatus h3 {\n",
       "  font-weight: bold;\n",
       "}\n",
       ".tuneStatus .hDivider {\n",
       "  border-bottom-width: var(--jp-border-width);\n",
       "  border-bottom-color: var(--jp-border-color0);\n",
       "  border-bottom-style: solid;\n",
       "}\n",
       ".tuneStatus .vDivider {\n",
       "  border-left-width: var(--jp-border-width);\n",
       "  border-left-color: var(--jp-border-color0);\n",
       "  border-left-style: solid;\n",
       "  margin: 0.5em 1em 0.5em 1em;\n",
       "}\n",
       "</style>\n"
      ],
      "text/plain": [
       "<IPython.core.display.HTML object>"
      ]
     },
     "metadata": {},
     "output_type": "display_data"
    },
    {
     "name": "stderr",
     "output_type": "stream",
     "text": [
      "2023-04-15 07:01:31,743\tINFO worker.py:1553 -- Started a local Ray instance.\n",
      "\u001b[2m\u001b[36m(train_mnist_tune pid=57597)\u001b[0m /Users/anaderi/python_env/py3/lib/python3.8/site-packages/pytorch_lightning/trainer/connectors/accelerator_connector.py:478: LightningDeprecationWarning: Setting `Trainer(gpus=0)` is deprecated in v1.7 and will be removed in v2.0. Please use `Trainer(accelerator='gpu', devices=0)` instead.\n",
      "\u001b[2m\u001b[36m(train_mnist_tune pid=57597)\u001b[0m   rank_zero_deprecation(\n",
      "\u001b[2m\u001b[36m(train_mnist_tune pid=57597)\u001b[0m GPU available: False, used: False\n",
      "\u001b[2m\u001b[36m(train_mnist_tune pid=57597)\u001b[0m TPU available: False, using: 0 TPU cores\n",
      "\u001b[2m\u001b[36m(train_mnist_tune pid=57597)\u001b[0m IPU available: False, using: 0 IPUs\n",
      "\u001b[2m\u001b[36m(train_mnist_tune pid=57597)\u001b[0m HPU available: False, using: 0 HPUs\n"
     ]
    },
    {
     "name": "stdout",
     "output_type": "stream",
     "text": [
      "\u001b[2m\u001b[36m(train_mnist_tune pid=57597)\u001b[0m Downloading http://yann.lecun.com/exdb/mnist/train-images-idx3-ubyte.gz\n",
      "\u001b[2m\u001b[36m(train_mnist_tune pid=57597)\u001b[0m Downloading http://yann.lecun.com/exdb/mnist/train-images-idx3-ubyte.gz to data/MNIST/raw/train-images-idx3-ubyte.gz\n"
     ]
    },
    {
     "name": "stderr",
     "output_type": "stream",
     "text": [
      "  0%|          | 0/9912422 [00:00<?, ?it/s]\n",
      "  1%|▏         | 131072/9912422 [00:00<00:10, 915193.49it/s]\n",
      "  4%|▍         | 393216/9912422 [00:00<00:05, 1725501.44it/s]\n",
      "  9%|▊         | 851968/9912422 [00:00<00:03, 2891697.86it/s]\n",
      " 30%|███       | 2981888/9912422 [00:00<00:01, 5207016.40it/s]\n",
      " 37%|███▋      | 3670016/9912422 [00:00<00:01, 4819473.44it/s]\n",
      " 47%|████▋     | 4620288/9912422 [00:01<00:00, 5877791.94it/s]\n",
      " 54%|█████▍    | 5341184/9912422 [00:01<00:00, 5581754.83it/s]\n",
      " 63%|██████▎   | 6258688/9912422 [00:01<00:00, 5662667.63it/s]\n",
      " 74%|███████▍  | 7372800/9912422 [00:01<00:00, 6913254.33it/s]\n",
      " 82%|████████▏ | 8159232/9912422 [00:01<00:00, 7079233.46it/s]\n",
      " 90%|█████████ | 8945664/9912422 [00:01<00:00, 7044864.56it/s]\n",
      "100%|██████████| 9912422/9912422 [00:01<00:00, 5611378.97it/s]\n"
     ]
    },
    {
     "name": "stdout",
     "output_type": "stream",
     "text": [
      "\u001b[2m\u001b[36m(train_mnist_tune pid=57597)\u001b[0m Extracting data/MNIST/raw/train-images-idx3-ubyte.gz to data/MNIST/raw\n",
      "\u001b[2m\u001b[36m(train_mnist_tune pid=57597)\u001b[0m \n",
      "\u001b[2m\u001b[36m(train_mnist_tune pid=57597)\u001b[0m Downloading http://yann.lecun.com/exdb/mnist/train-labels-idx1-ubyte.gz\n",
      "\u001b[2m\u001b[36m(train_mnist_tune pid=57597)\u001b[0m Downloading http://yann.lecun.com/exdb/mnist/train-labels-idx1-ubyte.gz to data/MNIST/raw/train-labels-idx1-ubyte.gz\n"
     ]
    },
    {
     "name": "stderr",
     "output_type": "stream",
     "text": [
      "  0%|          | 0/28881 [00:00<?, ?it/s] \n",
      "100%|██████████| 28881/28881 [00:00<00:00, 737346.42it/s]\n"
     ]
    },
    {
     "name": "stdout",
     "output_type": "stream",
     "text": [
      "\u001b[2m\u001b[36m(train_mnist_tune pid=57597)\u001b[0m Extracting data/MNIST/raw/train-labels-idx1-ubyte.gz to data/MNIST/raw\n",
      "\u001b[2m\u001b[36m(train_mnist_tune pid=57597)\u001b[0m \n",
      "\u001b[2m\u001b[36m(train_mnist_tune pid=57597)\u001b[0m Downloading http://yann.lecun.com/exdb/mnist/t10k-images-idx3-ubyte.gz\n",
      "\u001b[2m\u001b[36m(train_mnist_tune pid=57597)\u001b[0m Downloading http://yann.lecun.com/exdb/mnist/t10k-images-idx3-ubyte.gz to data/MNIST/raw/t10k-images-idx3-ubyte.gz\n"
     ]
    },
    {
     "name": "stderr",
     "output_type": "stream",
     "text": [
      "  0%|          | 0/1648877 [00:00<?, ?it/s]\n",
      "  8%|▊         | 131072/1648877 [00:00<00:01, 931134.56it/s]\n",
      " 24%|██▍       | 393216/1648877 [00:00<00:00, 1749457.93it/s]\n",
      " 64%|██████▎   | 1048576/1648877 [00:00<00:00, 3706815.30it/s]\n",
      "100%|██████████| 1648877/1648877 [00:00<00:00, 3522669.47it/s]\n"
     ]
    },
    {
     "name": "stdout",
     "output_type": "stream",
     "text": [
      "\u001b[2m\u001b[36m(train_mnist_tune pid=57597)\u001b[0m Extracting data/MNIST/raw/t10k-images-idx3-ubyte.gz to data/MNIST/raw\n",
      "\u001b[2m\u001b[36m(train_mnist_tune pid=57597)\u001b[0m \n",
      "\u001b[2m\u001b[36m(train_mnist_tune pid=57597)\u001b[0m Downloading http://yann.lecun.com/exdb/mnist/t10k-labels-idx1-ubyte.gz\n",
      "\u001b[2m\u001b[36m(train_mnist_tune pid=57597)\u001b[0m Downloading http://yann.lecun.com/exdb/mnist/t10k-labels-idx1-ubyte.gz to data/MNIST/raw/t10k-labels-idx1-ubyte.gz\n"
     ]
    },
    {
     "name": "stderr",
     "output_type": "stream",
     "text": [
      "  0%|          | 0/4542 [00:00<?, ?it/s]m \n",
      "100%|██████████| 4542/4542 [00:00<00:00, 102099.43it/s]\n",
      "\u001b[2m\u001b[36m(train_mnist_tune pid=57597)\u001b[0m \n",
      "\u001b[2m\u001b[36m(train_mnist_tune pid=57597)\u001b[0m   | Name    | Type   | Params\n",
      "\u001b[2m\u001b[36m(train_mnist_tune pid=57597)\u001b[0m -----------------------------------\n",
      "\u001b[2m\u001b[36m(train_mnist_tune pid=57597)\u001b[0m 0 | layer_1 | Linear | 100 K \n",
      "\u001b[2m\u001b[36m(train_mnist_tune pid=57597)\u001b[0m 1 | layer_2 | Linear | 16.5 K\n",
      "\u001b[2m\u001b[36m(train_mnist_tune pid=57597)\u001b[0m 2 | layer_3 | Linear | 1.3 K \n",
      "\u001b[2m\u001b[36m(train_mnist_tune pid=57597)\u001b[0m -----------------------------------\n",
      "\u001b[2m\u001b[36m(train_mnist_tune pid=57597)\u001b[0m 118 K     Trainable params\n",
      "\u001b[2m\u001b[36m(train_mnist_tune pid=57597)\u001b[0m 0         Non-trainable params\n",
      "\u001b[2m\u001b[36m(train_mnist_tune pid=57597)\u001b[0m 118 K     Total params\n",
      "\u001b[2m\u001b[36m(train_mnist_tune pid=57597)\u001b[0m 0.473     Total estimated model params size (MB)\n"
     ]
    },
    {
     "name": "stdout",
     "output_type": "stream",
     "text": [
      "\u001b[2m\u001b[36m(train_mnist_tune pid=57597)\u001b[0m Extracting data/MNIST/raw/t10k-labels-idx1-ubyte.gz to data/MNIST/raw\n",
      "\u001b[2m\u001b[36m(train_mnist_tune pid=57597)\u001b[0m \n"
     ]
    },
    {
     "name": "stderr",
     "output_type": "stream",
     "text": [
      "\u001b[2m\u001b[36m(train_mnist_tune pid=57597)\u001b[0m /Users/anaderi/python_env/py3/lib/python3.8/site-packages/pytorch_lightning/trainer/connectors/data_connector.py:224: PossibleUserWarning: The dataloader, val_dataloader 0, does not have many workers which may be a bottleneck. Consider increasing the value of the `num_workers` argument` (try 8 which is the number of cpus on this machine) in the `DataLoader` init to improve performance.\n",
      "\u001b[2m\u001b[36m(train_mnist_tune pid=57597)\u001b[0m   rank_zero_warn(\n",
      "\u001b[2m\u001b[36m(train_mnist_tune pid=57597)\u001b[0m /Users/anaderi/python_env/py3/lib/python3.8/site-packages/pytorch_lightning/trainer/connectors/data_connector.py:224: PossibleUserWarning: The dataloader, train_dataloader, does not have many workers which may be a bottleneck. Consider increasing the value of the `num_workers` argument` (try 8 which is the number of cpus on this machine) in the `DataLoader` init to improve performance.\n",
      "\u001b[2m\u001b[36m(train_mnist_tune pid=57597)\u001b[0m   rank_zero_warn(\n"
     ]
    },
    {
     "name": "stdout",
     "output_type": "stream",
     "text": [
      "\u001b[2m\u001b[36m(train_mnist_tune pid=57609)\u001b[0m Downloading http://yann.lecun.com/exdb/mnist/train-images-idx3-ubyte.gz\n"
     ]
    },
    {
     "name": "stderr",
     "output_type": "stream",
     "text": [
      "\u001b[2m\u001b[36m(train_mnist_tune pid=57609)\u001b[0m /Users/anaderi/python_env/py3/lib/python3.8/site-packages/pytorch_lightning/trainer/connectors/accelerator_connector.py:478: LightningDeprecationWarning: Setting `Trainer(gpus=0)` is deprecated in v1.7 and will be removed in v2.0. Please use `Trainer(accelerator='gpu', devices=0)` instead.\n",
      "\u001b[2m\u001b[36m(train_mnist_tune pid=57609)\u001b[0m   rank_zero_deprecation(\n",
      "\u001b[2m\u001b[36m(train_mnist_tune pid=57609)\u001b[0m GPU available: False, used: False\n",
      "\u001b[2m\u001b[36m(train_mnist_tune pid=57609)\u001b[0m TPU available: False, using: 0 TPU cores\n",
      "\u001b[2m\u001b[36m(train_mnist_tune pid=57609)\u001b[0m IPU available: False, using: 0 IPUs\n",
      "\u001b[2m\u001b[36m(train_mnist_tune pid=57609)\u001b[0m HPU available: False, using: 0 HPUs\n"
     ]
    },
    {
     "name": "stdout",
     "output_type": "stream",
     "text": [
      "\u001b[2m\u001b[36m(train_mnist_tune pid=57609)\u001b[0m Downloading http://yann.lecun.com/exdb/mnist/train-images-idx3-ubyte.gz to data/MNIST/raw/train-images-idx3-ubyte.gz\n"
     ]
    },
    {
     "name": "stderr",
     "output_type": "stream",
     "text": [
      "  0%|          | 0/9912422 [00:00<?, ?it/s]\n",
      "  1%|          | 98304/9912422 [00:00<00:14, 695577.64it/s]\n",
      "  3%|▎         | 262144/9912422 [00:00<00:08, 1147967.77it/s]\n",
      "  5%|▌         | 524288/9912422 [00:00<00:05, 1686490.68it/s]\n",
      "  9%|▊         | 851968/9912422 [00:00<00:04, 2259684.58it/s]\n",
      " 15%|█▍        | 1441792/9912422 [00:00<00:02, 3476519.37it/s]\n",
      " 18%|█▊        | 1802240/9912422 [00:00<00:02, 2875819.93it/s]\n",
      " 29%|██▉       | 2883584/9912422 [00:00<00:01, 5058356.04it/s]\n",
      " 35%|███▌      | 3473408/9912422 [00:00<00:01, 4544648.09it/s]\n",
      " 40%|████      | 3997696/9912422 [00:01<00:01, 3672083.44it/s]\n",
      " 51%|█████     | 5079040/9912422 [00:01<00:00, 5248103.95it/s]\n",
      " 58%|█████▊    | 5701632/9912422 [00:01<00:01, 2322631.98it/s]\n",
      " 65%|██████▍   | 6422528/9912422 [00:02<00:01, 2932961.93it/s]\n",
      " 70%|███████   | 6979584/9912422 [00:02<00:00, 3042612.04it/s]\n",
      " 77%|███████▋  | 7634944/9912422 [00:02<00:00, 3619644.77it/s]\n",
      " 83%|████████▎ | 8192000/9912422 [00:02<00:00, 3768203.97it/s]\n",
      " 89%|████████▉ | 8847360/9912422 [00:02<00:00, 4051299.94it/s]\n"
     ]
    },
    {
     "name": "stdout",
     "output_type": "stream",
     "text": [
      "\u001b[2m\u001b[36m(train_mnist_tune pid=57609)\u001b[0m Extracting data/MNIST/raw/train-images-idx3-ubyte.gz to data/MNIST/raw\n"
     ]
    },
    {
     "name": "stderr",
     "output_type": "stream",
     "text": [
      "100%|██████████| 9912422/9912422 [00:02<00:00, 3636436.98it/s]\n"
     ]
    },
    {
     "name": "stdout",
     "output_type": "stream",
     "text": [
      "\u001b[2m\u001b[36m(train_mnist_tune pid=57609)\u001b[0m \n",
      "\u001b[2m\u001b[36m(train_mnist_tune pid=57609)\u001b[0m Downloading http://yann.lecun.com/exdb/mnist/train-labels-idx1-ubyte.gz\n",
      "\u001b[2m\u001b[36m(train_mnist_tune pid=57609)\u001b[0m Downloading http://yann.lecun.com/exdb/mnist/train-labels-idx1-ubyte.gz to data/MNIST/raw/train-labels-idx1-ubyte.gz\n",
      "\u001b[2m\u001b[36m(train_mnist_tune pid=57609)\u001b[0m Extracting data/MNIST/raw/train-labels-idx1-ubyte.gz to data/MNIST/raw\n",
      "\u001b[2m\u001b[36m(train_mnist_tune pid=57609)\u001b[0m \n",
      "\u001b[2m\u001b[36m(train_mnist_tune pid=57609)\u001b[0m Downloading http://yann.lecun.com/exdb/mnist/t10k-images-idx3-ubyte.gz\n"
     ]
    },
    {
     "name": "stderr",
     "output_type": "stream",
     "text": [
      "100%|██████████| 28881/28881 [00:00<00:00, 658765.05it/s]\n"
     ]
    },
    {
     "name": "stdout",
     "output_type": "stream",
     "text": [
      "\u001b[2m\u001b[36m(train_mnist_tune pid=57609)\u001b[0m Downloading http://yann.lecun.com/exdb/mnist/t10k-images-idx3-ubyte.gz to data/MNIST/raw/t10k-images-idx3-ubyte.gz\n"
     ]
    },
    {
     "name": "stderr",
     "output_type": "stream",
     "text": [
      "  0%|          | 0/1648877 [00:00<?, ?it/s]\n",
      "  6%|▌         | 98304/1648877 [00:00<00:01, 876783.02it/s]\n",
      " 42%|████▏     | 688128/1648877 [00:00<00:00, 2448610.03it/s]\n",
      " 83%|████████▎ | 1376256/1648877 [00:00<00:00, 4058955.58it/s]\n"
     ]
    },
    {
     "name": "stdout",
     "output_type": "stream",
     "text": [
      "\u001b[2m\u001b[36m(train_mnist_tune pid=57609)\u001b[0m Extracting data/MNIST/raw/t10k-images-idx3-ubyte.gz to data/MNIST/raw\n",
      "\u001b[2m\u001b[36m(train_mnist_tune pid=57609)\u001b[0m \n",
      "\u001b[2m\u001b[36m(train_mnist_tune pid=57609)\u001b[0m Downloading http://yann.lecun.com/exdb/mnist/t10k-labels-idx1-ubyte.gz\n"
     ]
    },
    {
     "name": "stderr",
     "output_type": "stream",
     "text": [
      "100%|██████████| 1648877/1648877 [00:00<00:00, 2998410.76it/s]\n"
     ]
    },
    {
     "name": "stdout",
     "output_type": "stream",
     "text": [
      "\u001b[2m\u001b[36m(train_mnist_tune pid=57609)\u001b[0m Downloading http://yann.lecun.com/exdb/mnist/t10k-labels-idx1-ubyte.gz to data/MNIST/raw/t10k-labels-idx1-ubyte.gz\n"
     ]
    },
    {
     "name": "stderr",
     "output_type": "stream",
     "text": [
      "  0%|          | 0/4542 [00:00<?, ?it/s]m \n",
      "100%|██████████| 4542/4542 [00:00<00:00, 114743.56it/s]\n",
      "\u001b[2m\u001b[36m(train_mnist_tune pid=57609)\u001b[0m \n",
      "\u001b[2m\u001b[36m(train_mnist_tune pid=57609)\u001b[0m   | Name    | Type   | Params\n",
      "\u001b[2m\u001b[36m(train_mnist_tune pid=57609)\u001b[0m -----------------------------------\n",
      "\u001b[2m\u001b[36m(train_mnist_tune pid=57609)\u001b[0m 0 | layer_1 | Linear | 100 K \n",
      "\u001b[2m\u001b[36m(train_mnist_tune pid=57609)\u001b[0m 1 | layer_2 | Linear | 16.5 K\n",
      "\u001b[2m\u001b[36m(train_mnist_tune pid=57609)\u001b[0m 2 | layer_3 | Linear | 1.3 K \n",
      "\u001b[2m\u001b[36m(train_mnist_tune pid=57609)\u001b[0m -----------------------------------\n",
      "\u001b[2m\u001b[36m(train_mnist_tune pid=57609)\u001b[0m 118 K     Trainable params\n",
      "\u001b[2m\u001b[36m(train_mnist_tune pid=57609)\u001b[0m 0         Non-trainable params\n",
      "\u001b[2m\u001b[36m(train_mnist_tune pid=57609)\u001b[0m 118 K     Total params\n",
      "\u001b[2m\u001b[36m(train_mnist_tune pid=57609)\u001b[0m 0.473     Total estimated model params size (MB)\n"
     ]
    },
    {
     "name": "stdout",
     "output_type": "stream",
     "text": [
      "\u001b[2m\u001b[36m(train_mnist_tune pid=57609)\u001b[0m Extracting data/MNIST/raw/t10k-labels-idx1-ubyte.gz to data/MNIST/raw\n",
      "\u001b[2m\u001b[36m(train_mnist_tune pid=57609)\u001b[0m \n"
     ]
    },
    {
     "name": "stderr",
     "output_type": "stream",
     "text": [
      "\u001b[2m\u001b[36m(train_mnist_tune pid=57609)\u001b[0m /Users/anaderi/python_env/py3/lib/python3.8/site-packages/pytorch_lightning/trainer/connectors/data_connector.py:224: PossibleUserWarning: The dataloader, val_dataloader 0, does not have many workers which may be a bottleneck. Consider increasing the value of the `num_workers` argument` (try 8 which is the number of cpus on this machine) in the `DataLoader` init to improve performance.\n",
      "\u001b[2m\u001b[36m(train_mnist_tune pid=57609)\u001b[0m   rank_zero_warn(\n",
      "\u001b[2m\u001b[36m(train_mnist_tune pid=57609)\u001b[0m /Users/anaderi/python_env/py3/lib/python3.8/site-packages/pytorch_lightning/trainer/connectors/data_connector.py:224: PossibleUserWarning: The dataloader, train_dataloader, does not have many workers which may be a bottleneck. Consider increasing the value of the `num_workers` argument` (try 8 which is the number of cpus on this machine) in the `DataLoader` init to improve performance.\n",
      "\u001b[2m\u001b[36m(train_mnist_tune pid=57609)\u001b[0m   rank_zero_warn(\n",
      "\u001b[2m\u001b[36m(train_mnist_tune pid=57618)\u001b[0m /Users/anaderi/python_env/py3/lib/python3.8/site-packages/pytorch_lightning/trainer/connectors/accelerator_connector.py:478: LightningDeprecationWarning: Setting `Trainer(gpus=0)` is deprecated in v1.7 and will be removed in v2.0. Please use `Trainer(accelerator='gpu', devices=0)` instead.\n",
      "\u001b[2m\u001b[36m(train_mnist_tune pid=57618)\u001b[0m   rank_zero_deprecation(\n",
      "\u001b[2m\u001b[36m(train_mnist_tune pid=57618)\u001b[0m GPU available: False, used: False\n",
      "\u001b[2m\u001b[36m(train_mnist_tune pid=57618)\u001b[0m TPU available: False, using: 0 TPU cores\n",
      "\u001b[2m\u001b[36m(train_mnist_tune pid=57618)\u001b[0m IPU available: False, using: 0 IPUs\n",
      "\u001b[2m\u001b[36m(train_mnist_tune pid=57618)\u001b[0m HPU available: False, using: 0 HPUs\n"
     ]
    },
    {
     "name": "stdout",
     "output_type": "stream",
     "text": [
      "\u001b[2m\u001b[36m(train_mnist_tune pid=57618)\u001b[0m Downloading http://yann.lecun.com/exdb/mnist/train-images-idx3-ubyte.gz\n",
      "\u001b[2m\u001b[36m(train_mnist_tune pid=57618)\u001b[0m Downloading http://yann.lecun.com/exdb/mnist/train-images-idx3-ubyte.gz to data/MNIST/raw/train-images-idx3-ubyte.gz\n"
     ]
    },
    {
     "name": "stderr",
     "output_type": "stream",
     "text": [
      "  0%|          | 0/9912422 [00:00<?, ?it/s]\n",
      "  1%|          | 98304/9912422 [00:00<00:11, 865313.86it/s]\n",
      "  3%|▎         | 294912/9912422 [00:00<00:07, 1355131.94it/s]\n",
      "  7%|▋         | 655360/9912422 [00:00<00:04, 2266395.57it/s]\n",
      " 16%|█▌        | 1572864/9912422 [00:00<00:01, 4754257.38it/s]\n",
      " 21%|██        | 2064384/9912422 [00:00<00:02, 3636040.88it/s]\n",
      " 34%|███▍      | 3407872/9912422 [00:00<00:01, 5901976.51it/s]\n",
      " 41%|████      | 4063232/9912422 [00:00<00:01, 4720222.06it/s]\n",
      " 47%|████▋     | 4620288/9912422 [00:01<00:01, 3353891.11it/s]\n",
      " 59%|█████▉    | 5865472/9912422 [00:01<00:01, 3095785.07it/s]\n",
      " 87%|████████▋ | 8585216/9912422 [00:01<00:00, 6424655.18it/s]\n",
      " 98%|█████████▊| 9699328/9912422 [00:02<00:00, 6249566.20it/s]\n",
      "100%|██████████| 9912422/9912422 [00:02<00:00, 4784936.60it/s]\n"
     ]
    },
    {
     "name": "stdout",
     "output_type": "stream",
     "text": [
      "\u001b[2m\u001b[36m(train_mnist_tune pid=57618)\u001b[0m Extracting data/MNIST/raw/train-images-idx3-ubyte.gz to data/MNIST/raw\n",
      "\u001b[2m\u001b[36m(train_mnist_tune pid=57618)\u001b[0m \n",
      "\u001b[2m\u001b[36m(train_mnist_tune pid=57618)\u001b[0m Downloading http://yann.lecun.com/exdb/mnist/train-labels-idx1-ubyte.gz\n",
      "\u001b[2m\u001b[36m(train_mnist_tune pid=57618)\u001b[0m Downloading http://yann.lecun.com/exdb/mnist/train-labels-idx1-ubyte.gz to data/MNIST/raw/train-labels-idx1-ubyte.gz\n"
     ]
    },
    {
     "name": "stderr",
     "output_type": "stream",
     "text": [
      "  0%|          | 0/28881 [00:00<?, ?it/s] \n",
      "100%|██████████| 28881/28881 [00:00<00:00, 617368.34it/s]\n"
     ]
    },
    {
     "name": "stdout",
     "output_type": "stream",
     "text": [
      "\u001b[2m\u001b[36m(train_mnist_tune pid=57618)\u001b[0m Extracting data/MNIST/raw/train-labels-idx1-ubyte.gz to data/MNIST/raw\n",
      "\u001b[2m\u001b[36m(train_mnist_tune pid=57618)\u001b[0m \n",
      "\u001b[2m\u001b[36m(train_mnist_tune pid=57618)\u001b[0m Downloading http://yann.lecun.com/exdb/mnist/t10k-images-idx3-ubyte.gz\n",
      "\u001b[2m\u001b[36m(train_mnist_tune pid=57618)\u001b[0m Downloading http://yann.lecun.com/exdb/mnist/t10k-images-idx3-ubyte.gz to data/MNIST/raw/t10k-images-idx3-ubyte.gz\n"
     ]
    },
    {
     "name": "stderr",
     "output_type": "stream",
     "text": [
      "  0%|          | 0/1648877 [00:00<?, ?it/s]\n",
      "  6%|▌         | 98304/1648877 [00:00<00:01, 843240.67it/s]\n",
      " 18%|█▊        | 294912/1648877 [00:00<00:00, 1397280.96it/s]\n",
      " 46%|████▌     | 753664/1648877 [00:00<00:00, 2740250.63it/s]\n"
     ]
    },
    {
     "name": "stdout",
     "output_type": "stream",
     "text": [
      "\u001b[2m\u001b[36m(train_mnist_tune pid=57618)\u001b[0m Extracting data/MNIST/raw/t10k-images-idx3-ubyte.gz to data/MNIST/raw\n",
      "\u001b[2m\u001b[36m(train_mnist_tune pid=57618)\u001b[0m \n",
      "\u001b[2m\u001b[36m(train_mnist_tune pid=57618)\u001b[0m Downloading http://yann.lecun.com/exdb/mnist/t10k-labels-idx1-ubyte.gz\n"
     ]
    },
    {
     "name": "stderr",
     "output_type": "stream",
     "text": [
      "100%|██████████| 1648877/1648877 [00:00<00:00, 3018628.14it/s]\n"
     ]
    },
    {
     "name": "stdout",
     "output_type": "stream",
     "text": [
      "\u001b[2m\u001b[36m(train_mnist_tune pid=57618)\u001b[0m Downloading http://yann.lecun.com/exdb/mnist/t10k-labels-idx1-ubyte.gz to data/MNIST/raw/t10k-labels-idx1-ubyte.gz\n",
      "\u001b[2m\u001b[36m(train_mnist_tune pid=57618)\u001b[0m Extracting data/MNIST/raw/t10k-labels-idx1-ubyte.gz to data/MNIST/raw\n",
      "\u001b[2m\u001b[36m(train_mnist_tune pid=57618)\u001b[0m \n"
     ]
    },
    {
     "name": "stderr",
     "output_type": "stream",
     "text": [
      "100%|██████████| 4542/4542 [00:00<00:00, 97377.92it/s]\n",
      "\u001b[2m\u001b[36m(train_mnist_tune pid=57618)\u001b[0m \n",
      "\u001b[2m\u001b[36m(train_mnist_tune pid=57618)\u001b[0m   | Name    | Type   | Params\n",
      "\u001b[2m\u001b[36m(train_mnist_tune pid=57618)\u001b[0m -----------------------------------\n",
      "\u001b[2m\u001b[36m(train_mnist_tune pid=57618)\u001b[0m 0 | layer_1 | Linear | 25.1 K\n",
      "\u001b[2m\u001b[36m(train_mnist_tune pid=57618)\u001b[0m 1 | layer_2 | Linear | 4.2 K \n",
      "\u001b[2m\u001b[36m(train_mnist_tune pid=57618)\u001b[0m 2 | layer_3 | Linear | 1.3 K \n",
      "\u001b[2m\u001b[36m(train_mnist_tune pid=57618)\u001b[0m -----------------------------------\n",
      "\u001b[2m\u001b[36m(train_mnist_tune pid=57618)\u001b[0m 30.6 K    Trainable params\n",
      "\u001b[2m\u001b[36m(train_mnist_tune pid=57618)\u001b[0m 0         Non-trainable params\n",
      "\u001b[2m\u001b[36m(train_mnist_tune pid=57618)\u001b[0m 30.6 K    Total params\n",
      "\u001b[2m\u001b[36m(train_mnist_tune pid=57618)\u001b[0m 0.123     Total estimated model params size (MB)\n",
      "\u001b[2m\u001b[36m(train_mnist_tune pid=57618)\u001b[0m /Users/anaderi/python_env/py3/lib/python3.8/site-packages/pytorch_lightning/trainer/connectors/data_connector.py:224: PossibleUserWarning: The dataloader, val_dataloader 0, does not have many workers which may be a bottleneck. Consider increasing the value of the `num_workers` argument` (try 8 which is the number of cpus on this machine) in the `DataLoader` init to improve performance.\n",
      "\u001b[2m\u001b[36m(train_mnist_tune pid=57618)\u001b[0m   rank_zero_warn(\n",
      "\u001b[2m\u001b[36m(train_mnist_tune pid=57618)\u001b[0m /Users/anaderi/python_env/py3/lib/python3.8/site-packages/pytorch_lightning/trainer/connectors/data_connector.py:224: PossibleUserWarning: The dataloader, train_dataloader, does not have many workers which may be a bottleneck. Consider increasing the value of the `num_workers` argument` (try 8 which is the number of cpus on this machine) in the `DataLoader` init to improve performance.\n",
      "\u001b[2m\u001b[36m(train_mnist_tune pid=57618)\u001b[0m   rank_zero_warn(\n",
      "\u001b[2m\u001b[36m(train_mnist_tune pid=57628)\u001b[0m /Users/anaderi/python_env/py3/lib/python3.8/site-packages/pytorch_lightning/trainer/connectors/accelerator_connector.py:478: LightningDeprecationWarning: Setting `Trainer(gpus=0)` is deprecated in v1.7 and will be removed in v2.0. Please use `Trainer(accelerator='gpu', devices=0)` instead.\n",
      "\u001b[2m\u001b[36m(train_mnist_tune pid=57628)\u001b[0m   rank_zero_deprecation(\n",
      "\u001b[2m\u001b[36m(train_mnist_tune pid=57628)\u001b[0m GPU available: False, used: False\n",
      "\u001b[2m\u001b[36m(train_mnist_tune pid=57628)\u001b[0m TPU available: False, using: 0 TPU cores\n",
      "\u001b[2m\u001b[36m(train_mnist_tune pid=57628)\u001b[0m IPU available: False, using: 0 IPUs\n",
      "\u001b[2m\u001b[36m(train_mnist_tune pid=57628)\u001b[0m HPU available: False, using: 0 HPUs\n"
     ]
    },
    {
     "name": "stdout",
     "output_type": "stream",
     "text": [
      "\u001b[2m\u001b[36m(train_mnist_tune pid=57628)\u001b[0m Downloading http://yann.lecun.com/exdb/mnist/train-images-idx3-ubyte.gz\n",
      "\u001b[2m\u001b[36m(train_mnist_tune pid=57628)\u001b[0m Downloading http://yann.lecun.com/exdb/mnist/train-images-idx3-ubyte.gz to data/MNIST/raw/train-images-idx3-ubyte.gz\n"
     ]
    },
    {
     "name": "stderr",
     "output_type": "stream",
     "text": [
      "  0%|          | 0/9912422 [00:00<?, ?it/s]\n",
      "  1%|          | 98304/9912422 [00:00<00:11, 858571.33it/s]\n",
      "  3%|▎         | 327680/9912422 [00:00<00:06, 1576442.32it/s]\n",
      "  7%|▋         | 720896/9912422 [00:00<00:04, 2178632.79it/s]\n",
      " 11%|█         | 1081344/9912422 [00:00<00:03, 2655164.57it/s]\n",
      " 19%|█▊        | 1835008/9912422 [00:00<00:01, 4169449.09it/s]\n",
      " 23%|██▎       | 2293760/9912422 [00:00<00:02, 3739501.46it/s]\n",
      " 33%|███▎      | 3309568/9912422 [00:00<00:01, 5477285.65it/s]\n",
      " 40%|███▉      | 3932160/9912422 [00:00<00:01, 5543715.89it/s]\n",
      " 46%|████▌     | 4521984/9912422 [00:01<00:01, 4536809.80it/s]\n",
      " 59%|█████▊    | 5799936/9912422 [00:01<00:00, 4988170.10it/s]\n",
      " 77%|███████▋  | 7634944/9912422 [00:01<00:00, 7751462.94it/s]\n",
      " 86%|████████▋ | 8552448/9912422 [00:01<00:00, 7593067.99it/s]\n",
      " 95%|█████████▍| 9404416/9912422 [00:01<00:00, 7382134.00it/s]\n",
      "100%|██████████| 9912422/9912422 [00:01<00:00, 5553137.27it/s]\n"
     ]
    },
    {
     "name": "stdout",
     "output_type": "stream",
     "text": [
      "\u001b[2m\u001b[36m(train_mnist_tune pid=57628)\u001b[0m Extracting data/MNIST/raw/train-images-idx3-ubyte.gz to data/MNIST/raw\n",
      "\u001b[2m\u001b[36m(train_mnist_tune pid=57628)\u001b[0m \n",
      "\u001b[2m\u001b[36m(train_mnist_tune pid=57628)\u001b[0m Downloading http://yann.lecun.com/exdb/mnist/train-labels-idx1-ubyte.gz\n",
      "\u001b[2m\u001b[36m(train_mnist_tune pid=57628)\u001b[0m Downloading http://yann.lecun.com/exdb/mnist/train-labels-idx1-ubyte.gz to data/MNIST/raw/train-labels-idx1-ubyte.gz\n"
     ]
    },
    {
     "name": "stderr",
     "output_type": "stream",
     "text": [
      "  0%|          | 0/28881 [00:00<?, ?it/s] \n",
      "100%|██████████| 28881/28881 [00:00<00:00, 632367.54it/s]\n"
     ]
    },
    {
     "name": "stdout",
     "output_type": "stream",
     "text": [
      "\u001b[2m\u001b[36m(train_mnist_tune pid=57628)\u001b[0m Extracting data/MNIST/raw/train-labels-idx1-ubyte.gz to data/MNIST/raw\n",
      "\u001b[2m\u001b[36m(train_mnist_tune pid=57628)\u001b[0m \n",
      "\u001b[2m\u001b[36m(train_mnist_tune pid=57628)\u001b[0m Downloading http://yann.lecun.com/exdb/mnist/t10k-images-idx3-ubyte.gz\n",
      "\u001b[2m\u001b[36m(train_mnist_tune pid=57628)\u001b[0m Downloading http://yann.lecun.com/exdb/mnist/t10k-images-idx3-ubyte.gz to data/MNIST/raw/t10k-images-idx3-ubyte.gz\n"
     ]
    },
    {
     "name": "stderr",
     "output_type": "stream",
     "text": [
      "  0%|          | 0/1648877 [00:00<?, ?it/s]\n",
      "  4%|▍         | 65536/1648877 [00:00<00:02, 641271.70it/s]\n",
      " 12%|█▏        | 196608/1648877 [00:00<00:01, 858987.99it/s]\n",
      " 32%|███▏      | 524288/1648877 [00:00<00:00, 1799898.55it/s]\n",
      " 64%|██████▎   | 1048576/1648877 [00:00<00:00, 3037657.12it/s]\n",
      " 83%|████████▎ | 1376256/1648877 [00:00<00:00, 2718812.78it/s]\n",
      "100%|██████████| 1648877/1648877 [00:00<00:00, 2537806.76it/s]\n"
     ]
    },
    {
     "name": "stdout",
     "output_type": "stream",
     "text": [
      "\u001b[2m\u001b[36m(train_mnist_tune pid=57628)\u001b[0m Extracting data/MNIST/raw/t10k-images-idx3-ubyte.gz to data/MNIST/raw\n",
      "\u001b[2m\u001b[36m(train_mnist_tune pid=57628)\u001b[0m \n",
      "\u001b[2m\u001b[36m(train_mnist_tune pid=57628)\u001b[0m Downloading http://yann.lecun.com/exdb/mnist/t10k-labels-idx1-ubyte.gz\n",
      "\u001b[2m\u001b[36m(train_mnist_tune pid=57628)\u001b[0m Downloading http://yann.lecun.com/exdb/mnist/t10k-labels-idx1-ubyte.gz to data/MNIST/raw/t10k-labels-idx1-ubyte.gz\n"
     ]
    },
    {
     "name": "stderr",
     "output_type": "stream",
     "text": [
      "  0%|          | 0/4542 [00:00<?, ?it/s]m \n",
      "100%|██████████| 4542/4542 [00:00<00:00, 89636.89it/s]\n",
      "\u001b[2m\u001b[36m(train_mnist_tune pid=57628)\u001b[0m \n",
      "\u001b[2m\u001b[36m(train_mnist_tune pid=57628)\u001b[0m   | Name    | Type   | Params\n",
      "\u001b[2m\u001b[36m(train_mnist_tune pid=57628)\u001b[0m -----------------------------------\n",
      "\u001b[2m\u001b[36m(train_mnist_tune pid=57628)\u001b[0m 0 | layer_1 | Linear | 25.1 K\n",
      "\u001b[2m\u001b[36m(train_mnist_tune pid=57628)\u001b[0m 1 | layer_2 | Linear | 8.4 K \n",
      "\u001b[2m\u001b[36m(train_mnist_tune pid=57628)\u001b[0m 2 | layer_3 | Linear | 2.6 K \n",
      "\u001b[2m\u001b[36m(train_mnist_tune pid=57628)\u001b[0m -----------------------------------\n",
      "\u001b[2m\u001b[36m(train_mnist_tune pid=57628)\u001b[0m 36.1 K    Trainable params\n",
      "\u001b[2m\u001b[36m(train_mnist_tune pid=57628)\u001b[0m 0         Non-trainable params\n",
      "\u001b[2m\u001b[36m(train_mnist_tune pid=57628)\u001b[0m 36.1 K    Total params\n",
      "\u001b[2m\u001b[36m(train_mnist_tune pid=57628)\u001b[0m 0.145     Total estimated model params size (MB)\n"
     ]
    },
    {
     "name": "stdout",
     "output_type": "stream",
     "text": [
      "\u001b[2m\u001b[36m(train_mnist_tune pid=57628)\u001b[0m Extracting data/MNIST/raw/t10k-labels-idx1-ubyte.gz to data/MNIST/raw\n",
      "\u001b[2m\u001b[36m(train_mnist_tune pid=57628)\u001b[0m \n"
     ]
    },
    {
     "name": "stderr",
     "output_type": "stream",
     "text": [
      "\u001b[2m\u001b[36m(train_mnist_tune pid=57628)\u001b[0m /Users/anaderi/python_env/py3/lib/python3.8/site-packages/pytorch_lightning/trainer/connectors/data_connector.py:224: PossibleUserWarning: The dataloader, val_dataloader 0, does not have many workers which may be a bottleneck. Consider increasing the value of the `num_workers` argument` (try 8 which is the number of cpus on this machine) in the `DataLoader` init to improve performance.\n",
      "\u001b[2m\u001b[36m(train_mnist_tune pid=57628)\u001b[0m   rank_zero_warn(\n",
      "\u001b[2m\u001b[36m(train_mnist_tune pid=57628)\u001b[0m /Users/anaderi/python_env/py3/lib/python3.8/site-packages/pytorch_lightning/trainer/connectors/data_connector.py:224: PossibleUserWarning: The dataloader, train_dataloader, does not have many workers which may be a bottleneck. Consider increasing the value of the `num_workers` argument` (try 8 which is the number of cpus on this machine) in the `DataLoader` init to improve performance.\n",
      "\u001b[2m\u001b[36m(train_mnist_tune pid=57628)\u001b[0m   rank_zero_warn(\n",
      "\u001b[2m\u001b[36m(train_mnist_tune pid=57635)\u001b[0m /Users/anaderi/python_env/py3/lib/python3.8/site-packages/pytorch_lightning/trainer/connectors/accelerator_connector.py:478: LightningDeprecationWarning: Setting `Trainer(gpus=0)` is deprecated in v1.7 and will be removed in v2.0. Please use `Trainer(accelerator='gpu', devices=0)` instead.\n",
      "\u001b[2m\u001b[36m(train_mnist_tune pid=57635)\u001b[0m   rank_zero_deprecation(\n",
      "\u001b[2m\u001b[36m(train_mnist_tune pid=57635)\u001b[0m GPU available: False, used: False\n",
      "\u001b[2m\u001b[36m(train_mnist_tune pid=57635)\u001b[0m TPU available: False, using: 0 TPU cores\n",
      "\u001b[2m\u001b[36m(train_mnist_tune pid=57635)\u001b[0m IPU available: False, using: 0 IPUs\n",
      "\u001b[2m\u001b[36m(train_mnist_tune pid=57635)\u001b[0m HPU available: False, using: 0 HPUs\n"
     ]
    },
    {
     "name": "stdout",
     "output_type": "stream",
     "text": [
      "\u001b[2m\u001b[36m(train_mnist_tune pid=57635)\u001b[0m Downloading http://yann.lecun.com/exdb/mnist/train-images-idx3-ubyte.gz\n",
      "\u001b[2m\u001b[36m(train_mnist_tune pid=57635)\u001b[0m Downloading http://yann.lecun.com/exdb/mnist/train-images-idx3-ubyte.gz to data/MNIST/raw/train-images-idx3-ubyte.gz\n"
     ]
    },
    {
     "name": "stderr",
     "output_type": "stream",
     "text": [
      "  0%|          | 0/9912422 [00:00<?, ?it/s]\n",
      "  1%|          | 65536/9912422 [00:00<00:19, 514758.42it/s]\n",
      "  2%|▏         | 163840/9912422 [00:00<00:15, 616675.29it/s]\n",
      "  4%|▎         | 360448/9912422 [00:00<00:08, 1114840.18it/s]\n",
      "  6%|▌         | 557056/9912422 [00:00<00:07, 1242428.30it/s]\n",
      " 10%|▉         | 983040/9912422 [00:00<00:04, 2159802.29it/s]\n",
      " 13%|█▎        | 1310720/9912422 [00:00<00:04, 1926071.03it/s]\n",
      " 20%|█▉        | 1933312/9912422 [00:00<00:03, 2645245.51it/s]\n",
      " 25%|██▌       | 2523136/9912422 [00:01<00:02, 3365616.10it/s]\n",
      " 29%|██▉       | 2916352/9912422 [00:01<00:02, 3380089.87it/s]\n",
      " 37%|███▋      | 3637248/9912422 [00:01<00:01, 4324198.52it/s]\n",
      " 42%|████▏     | 4128768/9912422 [00:01<00:01, 3956839.97it/s]\n",
      " 49%|████▉     | 4849664/9912422 [00:01<00:01, 4578872.38it/s]\n",
      " 54%|█████▍    | 5341184/9912422 [00:01<00:01, 2931913.45it/s]\n",
      " 58%|█████▊    | 5734400/9912422 [00:02<00:01, 2110796.24it/s]\n",
      " 66%|██████▌   | 6553600/9912422 [00:02<00:01, 3042039.37it/s]\n",
      " 71%|███████▏  | 7077888/9912422 [00:02<00:00, 2914673.17it/s]\n",
      " 77%|███████▋  | 7634944/9912422 [00:02<00:00, 3384347.34it/s]\n",
      " 85%|████████▍ | 8388608/9912422 [00:02<00:00, 4069702.15it/s]\n",
      " 90%|█████████ | 8945664/9912422 [00:02<00:00, 4256105.45it/s]\n",
      " 96%|█████████▌| 9469952/9912422 [00:03<00:00, 3814864.10it/s]\n",
      "100%|██████████| 9912422/9912422 [00:03<00:00, 3189469.77it/s]\n"
     ]
    },
    {
     "name": "stdout",
     "output_type": "stream",
     "text": [
      "\u001b[2m\u001b[36m(train_mnist_tune pid=57635)\u001b[0m Extracting data/MNIST/raw/train-images-idx3-ubyte.gz to data/MNIST/raw\n",
      "\u001b[2m\u001b[36m(train_mnist_tune pid=57635)\u001b[0m \n",
      "\u001b[2m\u001b[36m(train_mnist_tune pid=57635)\u001b[0m Downloading http://yann.lecun.com/exdb/mnist/train-labels-idx1-ubyte.gz\n",
      "\u001b[2m\u001b[36m(train_mnist_tune pid=57635)\u001b[0m Downloading http://yann.lecun.com/exdb/mnist/train-labels-idx1-ubyte.gz to data/MNIST/raw/train-labels-idx1-ubyte.gz\n"
     ]
    },
    {
     "name": "stderr",
     "output_type": "stream",
     "text": [
      "  0%|          | 0/28881 [00:00<?, ?it/s] \n",
      "100%|██████████| 28881/28881 [00:00<00:00, 802738.80it/s]\n"
     ]
    },
    {
     "name": "stdout",
     "output_type": "stream",
     "text": [
      "\u001b[2m\u001b[36m(train_mnist_tune pid=57635)\u001b[0m Extracting data/MNIST/raw/train-labels-idx1-ubyte.gz to data/MNIST/raw\n",
      "\u001b[2m\u001b[36m(train_mnist_tune pid=57635)\u001b[0m \n",
      "\u001b[2m\u001b[36m(train_mnist_tune pid=57635)\u001b[0m Downloading http://yann.lecun.com/exdb/mnist/t10k-images-idx3-ubyte.gz\n",
      "\u001b[2m\u001b[36m(train_mnist_tune pid=57635)\u001b[0m Downloading http://yann.lecun.com/exdb/mnist/t10k-images-idx3-ubyte.gz to data/MNIST/raw/t10k-images-idx3-ubyte.gz\n"
     ]
    },
    {
     "name": "stderr",
     "output_type": "stream",
     "text": [
      "  0%|          | 0/1648877 [00:00<?, ?it/s]\n",
      "  4%|▍         | 65536/1648877 [00:00<00:02, 571129.77it/s]\n",
      " 12%|█▏        | 196608/1648877 [00:00<00:01, 965676.58it/s]\n",
      " 30%|██▉       | 491520/1648877 [00:00<00:00, 1785381.00it/s]\n",
      " 54%|█████▎    | 884736/1648877 [00:00<00:00, 2577142.55it/s]\n"
     ]
    },
    {
     "name": "stdout",
     "output_type": "stream",
     "text": [
      "\u001b[2m\u001b[36m(train_mnist_tune pid=57635)\u001b[0m Extracting data/MNIST/raw/t10k-images-idx3-ubyte.gz to data/MNIST/raw\n",
      "\u001b[2m\u001b[36m(train_mnist_tune pid=57635)\u001b[0m \n",
      "\u001b[2m\u001b[36m(train_mnist_tune pid=57635)\u001b[0m Downloading http://yann.lecun.com/exdb/mnist/t10k-labels-idx1-ubyte.gz\n"
     ]
    },
    {
     "name": "stderr",
     "output_type": "stream",
     "text": [
      "100%|██████████| 1648877/1648877 [00:00<00:00, 2634489.81it/s]\n"
     ]
    },
    {
     "name": "stdout",
     "output_type": "stream",
     "text": [
      "\u001b[2m\u001b[36m(train_mnist_tune pid=57635)\u001b[0m Downloading http://yann.lecun.com/exdb/mnist/t10k-labels-idx1-ubyte.gz to data/MNIST/raw/t10k-labels-idx1-ubyte.gz\n",
      "\u001b[2m\u001b[36m(train_mnist_tune pid=57635)\u001b[0m Extracting data/MNIST/raw/t10k-labels-idx1-ubyte.gz to data/MNIST/raw\n",
      "\u001b[2m\u001b[36m(train_mnist_tune pid=57635)\u001b[0m \n"
     ]
    },
    {
     "name": "stderr",
     "output_type": "stream",
     "text": [
      "100%|██████████| 4542/4542 [00:00<00:00, 103416.89it/s]\n",
      "\u001b[2m\u001b[36m(train_mnist_tune pid=57635)\u001b[0m \n",
      "\u001b[2m\u001b[36m(train_mnist_tune pid=57635)\u001b[0m   | Name    | Type   | Params\n",
      "\u001b[2m\u001b[36m(train_mnist_tune pid=57635)\u001b[0m -----------------------------------\n",
      "\u001b[2m\u001b[36m(train_mnist_tune pid=57635)\u001b[0m 0 | layer_1 | Linear | 50.2 K\n",
      "\u001b[2m\u001b[36m(train_mnist_tune pid=57635)\u001b[0m 1 | layer_2 | Linear | 8.3 K \n",
      "\u001b[2m\u001b[36m(train_mnist_tune pid=57635)\u001b[0m 2 | layer_3 | Linear | 1.3 K \n",
      "\u001b[2m\u001b[36m(train_mnist_tune pid=57635)\u001b[0m -----------------------------------\n",
      "\u001b[2m\u001b[36m(train_mnist_tune pid=57635)\u001b[0m 59.9 K    Trainable params\n",
      "\u001b[2m\u001b[36m(train_mnist_tune pid=57635)\u001b[0m 0         Non-trainable params\n",
      "\u001b[2m\u001b[36m(train_mnist_tune pid=57635)\u001b[0m 59.9 K    Total params\n",
      "\u001b[2m\u001b[36m(train_mnist_tune pid=57635)\u001b[0m 0.239     Total estimated model params size (MB)\n",
      "\u001b[2m\u001b[36m(train_mnist_tune pid=57635)\u001b[0m /Users/anaderi/python_env/py3/lib/python3.8/site-packages/pytorch_lightning/trainer/connectors/data_connector.py:224: PossibleUserWarning: The dataloader, val_dataloader 0, does not have many workers which may be a bottleneck. Consider increasing the value of the `num_workers` argument` (try 8 which is the number of cpus on this machine) in the `DataLoader` init to improve performance.\n",
      "\u001b[2m\u001b[36m(train_mnist_tune pid=57635)\u001b[0m   rank_zero_warn(\n",
      "\u001b[2m\u001b[36m(train_mnist_tune pid=57635)\u001b[0m /Users/anaderi/python_env/py3/lib/python3.8/site-packages/pytorch_lightning/trainer/connectors/data_connector.py:224: PossibleUserWarning: The dataloader, train_dataloader, does not have many workers which may be a bottleneck. Consider increasing the value of the `num_workers` argument` (try 8 which is the number of cpus on this machine) in the `DataLoader` init to improve performance.\n",
      "\u001b[2m\u001b[36m(train_mnist_tune pid=57635)\u001b[0m   rank_zero_warn(\n",
      "\u001b[2m\u001b[36m(train_mnist_tune pid=57646)\u001b[0m /Users/anaderi/python_env/py3/lib/python3.8/site-packages/pytorch_lightning/trainer/connectors/accelerator_connector.py:478: LightningDeprecationWarning: Setting `Trainer(gpus=0)` is deprecated in v1.7 and will be removed in v2.0. Please use `Trainer(accelerator='gpu', devices=0)` instead.\n",
      "\u001b[2m\u001b[36m(train_mnist_tune pid=57646)\u001b[0m   rank_zero_deprecation(\n",
      "\u001b[2m\u001b[36m(train_mnist_tune pid=57646)\u001b[0m GPU available: False, used: False\n",
      "\u001b[2m\u001b[36m(train_mnist_tune pid=57646)\u001b[0m TPU available: False, using: 0 TPU cores\n",
      "\u001b[2m\u001b[36m(train_mnist_tune pid=57646)\u001b[0m IPU available: False, using: 0 IPUs\n",
      "\u001b[2m\u001b[36m(train_mnist_tune pid=57646)\u001b[0m HPU available: False, using: 0 HPUs\n"
     ]
    },
    {
     "name": "stdout",
     "output_type": "stream",
     "text": [
      "\u001b[2m\u001b[36m(train_mnist_tune pid=57646)\u001b[0m Downloading http://yann.lecun.com/exdb/mnist/train-images-idx3-ubyte.gz\n",
      "\u001b[2m\u001b[36m(train_mnist_tune pid=57646)\u001b[0m Downloading http://yann.lecun.com/exdb/mnist/train-images-idx3-ubyte.gz to data/MNIST/raw/train-images-idx3-ubyte.gz\n"
     ]
    },
    {
     "name": "stderr",
     "output_type": "stream",
     "text": [
      "  0%|          | 0/9912422 [00:00<?, ?it/s]\n",
      "  1%|          | 98304/9912422 [00:00<00:11, 881388.06it/s]\n",
      "  3%|▎         | 262144/9912422 [00:00<00:08, 1201388.27it/s]\n",
      "  5%|▌         | 524288/9912422 [00:00<00:05, 1697631.12it/s]\n",
      "  8%|▊         | 753664/9912422 [00:00<00:04, 1901384.87it/s]\n",
      " 15%|█▍        | 1441792/9912422 [00:00<00:02, 3583522.19it/s]\n",
      " 19%|█▊        | 1835008/9912422 [00:00<00:02, 3198025.86it/s]\n",
      " 31%|███       | 3047424/9912422 [00:00<00:01, 5151887.47it/s]\n",
      " 36%|███▌      | 3571712/9912422 [00:00<00:01, 4688955.99it/s]\n",
      " 41%|████      | 4063232/9912422 [00:01<00:01, 4671659.58it/s]\n",
      " 46%|████▌     | 4554752/9912422 [00:01<00:01, 4025326.98it/s]\n",
      " 53%|█████▎    | 5242880/9912422 [00:01<00:01, 3861766.87it/s]\n",
      " 67%|██████▋   | 6619136/9912422 [00:01<00:00, 5610160.97it/s]\n",
      " 73%|███████▎  | 7208960/9912422 [00:01<00:00, 5268007.58it/s]\n",
      " 78%|███████▊  | 7766016/9912422 [00:01<00:00, 4654688.83it/s]\n",
      " 91%|█████████ | 9011200/9912422 [00:01<00:00, 6338651.78it/s]\n",
      " 98%|█████████▊| 9732096/9912422 [00:02<00:00, 6175137.97it/s]\n",
      "100%|██████████| 9912422/9912422 [00:02<00:00, 4549996.49it/s]\n"
     ]
    },
    {
     "name": "stdout",
     "output_type": "stream",
     "text": [
      "\u001b[2m\u001b[36m(train_mnist_tune pid=57646)\u001b[0m Extracting data/MNIST/raw/train-images-idx3-ubyte.gz to data/MNIST/raw\n",
      "\u001b[2m\u001b[36m(train_mnist_tune pid=57646)\u001b[0m \n",
      "\u001b[2m\u001b[36m(train_mnist_tune pid=57646)\u001b[0m Downloading http://yann.lecun.com/exdb/mnist/train-labels-idx1-ubyte.gz\n",
      "\u001b[2m\u001b[36m(train_mnist_tune pid=57646)\u001b[0m Downloading http://yann.lecun.com/exdb/mnist/train-labels-idx1-ubyte.gz to data/MNIST/raw/train-labels-idx1-ubyte.gz\n"
     ]
    },
    {
     "name": "stderr",
     "output_type": "stream",
     "text": [
      "  0%|          | 0/28881 [00:00<?, ?it/s] \n",
      "100%|██████████| 28881/28881 [00:00<00:00, 814308.34it/s]\n"
     ]
    },
    {
     "name": "stdout",
     "output_type": "stream",
     "text": [
      "\u001b[2m\u001b[36m(train_mnist_tune pid=57646)\u001b[0m Extracting data/MNIST/raw/train-labels-idx1-ubyte.gz to data/MNIST/raw\n",
      "\u001b[2m\u001b[36m(train_mnist_tune pid=57646)\u001b[0m \n",
      "\u001b[2m\u001b[36m(train_mnist_tune pid=57646)\u001b[0m Downloading http://yann.lecun.com/exdb/mnist/t10k-images-idx3-ubyte.gz\n",
      "\u001b[2m\u001b[36m(train_mnist_tune pid=57646)\u001b[0m Downloading http://yann.lecun.com/exdb/mnist/t10k-images-idx3-ubyte.gz to data/MNIST/raw/t10k-images-idx3-ubyte.gz\n"
     ]
    },
    {
     "name": "stderr",
     "output_type": "stream",
     "text": [
      "  0%|          | 0/1648877 [00:00<?, ?it/s]\n",
      "  4%|▍         | 65536/1648877 [00:00<00:02, 635162.27it/s]\n",
      " 14%|█▍        | 229376/1648877 [00:00<00:01, 1158193.53it/s]\n",
      " 22%|██▏       | 360448/1648877 [00:00<00:01, 1200580.55it/s]\n",
      " 48%|████▊     | 786432/1648877 [00:00<00:00, 2366476.33it/s]\n",
      " 85%|████████▌ | 1409024/1648877 [00:00<00:00, 3705546.34it/s]\n",
      "100%|██████████| 1648877/1648877 [00:00<00:00, 2476266.85it/s]\n"
     ]
    },
    {
     "name": "stdout",
     "output_type": "stream",
     "text": [
      "\u001b[2m\u001b[36m(train_mnist_tune pid=57646)\u001b[0m Extracting data/MNIST/raw/t10k-images-idx3-ubyte.gz to data/MNIST/raw\n",
      "\u001b[2m\u001b[36m(train_mnist_tune pid=57646)\u001b[0m \n",
      "\u001b[2m\u001b[36m(train_mnist_tune pid=57646)\u001b[0m Downloading http://yann.lecun.com/exdb/mnist/t10k-labels-idx1-ubyte.gz\n",
      "\u001b[2m\u001b[36m(train_mnist_tune pid=57646)\u001b[0m Downloading http://yann.lecun.com/exdb/mnist/t10k-labels-idx1-ubyte.gz to data/MNIST/raw/t10k-labels-idx1-ubyte.gz\n"
     ]
    },
    {
     "name": "stderr",
     "output_type": "stream",
     "text": [
      "  0%|          | 0/4542 [00:00<?, ?it/s]m \n",
      "100%|██████████| 4542/4542 [00:00<00:00, 87997.68it/s]\n"
     ]
    },
    {
     "name": "stdout",
     "output_type": "stream",
     "text": [
      "\u001b[2m\u001b[36m(train_mnist_tune pid=57646)\u001b[0m Extracting data/MNIST/raw/t10k-labels-idx1-ubyte.gz to data/MNIST/raw\n",
      "\u001b[2m\u001b[36m(train_mnist_tune pid=57646)\u001b[0m \n"
     ]
    },
    {
     "name": "stderr",
     "output_type": "stream",
     "text": [
      "\u001b[2m\u001b[36m(train_mnist_tune pid=57646)\u001b[0m \n",
      "\u001b[2m\u001b[36m(train_mnist_tune pid=57646)\u001b[0m   | Name    | Type   | Params\n",
      "\u001b[2m\u001b[36m(train_mnist_tune pid=57646)\u001b[0m -----------------------------------\n",
      "\u001b[2m\u001b[36m(train_mnist_tune pid=57646)\u001b[0m 0 | layer_1 | Linear | 50.2 K\n",
      "\u001b[2m\u001b[36m(train_mnist_tune pid=57646)\u001b[0m 1 | layer_2 | Linear | 4.2 K \n",
      "\u001b[2m\u001b[36m(train_mnist_tune pid=57646)\u001b[0m 2 | layer_3 | Linear | 650   \n",
      "\u001b[2m\u001b[36m(train_mnist_tune pid=57646)\u001b[0m -----------------------------------\n",
      "\u001b[2m\u001b[36m(train_mnist_tune pid=57646)\u001b[0m 55.1 K    Trainable params\n",
      "\u001b[2m\u001b[36m(train_mnist_tune pid=57646)\u001b[0m 0         Non-trainable params\n",
      "\u001b[2m\u001b[36m(train_mnist_tune pid=57646)\u001b[0m 55.1 K    Total params\n",
      "\u001b[2m\u001b[36m(train_mnist_tune pid=57646)\u001b[0m 0.220     Total estimated model params size (MB)\n",
      "\u001b[2m\u001b[36m(train_mnist_tune pid=57646)\u001b[0m /Users/anaderi/python_env/py3/lib/python3.8/site-packages/pytorch_lightning/trainer/connectors/data_connector.py:224: PossibleUserWarning: The dataloader, val_dataloader 0, does not have many workers which may be a bottleneck. Consider increasing the value of the `num_workers` argument` (try 8 which is the number of cpus on this machine) in the `DataLoader` init to improve performance.\n",
      "\u001b[2m\u001b[36m(train_mnist_tune pid=57646)\u001b[0m   rank_zero_warn(\n",
      "\u001b[2m\u001b[36m(train_mnist_tune pid=57646)\u001b[0m /Users/anaderi/python_env/py3/lib/python3.8/site-packages/pytorch_lightning/trainer/connectors/data_connector.py:224: PossibleUserWarning: The dataloader, train_dataloader, does not have many workers which may be a bottleneck. Consider increasing the value of the `num_workers` argument` (try 8 which is the number of cpus on this machine) in the `DataLoader` init to improve performance.\n",
      "\u001b[2m\u001b[36m(train_mnist_tune pid=57646)\u001b[0m   rank_zero_warn(\n",
      "\u001b[2m\u001b[36m(train_mnist_tune pid=57654)\u001b[0m /Users/anaderi/python_env/py3/lib/python3.8/site-packages/pytorch_lightning/trainer/connectors/accelerator_connector.py:478: LightningDeprecationWarning: Setting `Trainer(gpus=0)` is deprecated in v1.7 and will be removed in v2.0. Please use `Trainer(accelerator='gpu', devices=0)` instead.\n",
      "\u001b[2m\u001b[36m(train_mnist_tune pid=57654)\u001b[0m   rank_zero_deprecation(\n",
      "\u001b[2m\u001b[36m(train_mnist_tune pid=57654)\u001b[0m GPU available: False, used: False\n",
      "\u001b[2m\u001b[36m(train_mnist_tune pid=57654)\u001b[0m TPU available: False, using: 0 TPU cores\n",
      "\u001b[2m\u001b[36m(train_mnist_tune pid=57654)\u001b[0m IPU available: False, using: 0 IPUs\n",
      "\u001b[2m\u001b[36m(train_mnist_tune pid=57654)\u001b[0m HPU available: False, using: 0 HPUs\n"
     ]
    },
    {
     "name": "stdout",
     "output_type": "stream",
     "text": [
      "\u001b[2m\u001b[36m(train_mnist_tune pid=57654)\u001b[0m Downloading http://yann.lecun.com/exdb/mnist/train-images-idx3-ubyte.gz\n",
      "\u001b[2m\u001b[36m(train_mnist_tune pid=57654)\u001b[0m Downloading http://yann.lecun.com/exdb/mnist/train-images-idx3-ubyte.gz to data/MNIST/raw/train-images-idx3-ubyte.gz\n"
     ]
    },
    {
     "name": "stderr",
     "output_type": "stream",
     "text": [
      "  0%|          | 0/9912422 [00:00<?, ?it/s]\n",
      "  1%|          | 65536/9912422 [00:00<00:22, 447396.80it/s]\n",
      "  2%|▏         | 229376/9912422 [00:00<00:10, 905377.43it/s]\n",
      "  5%|▍         | 458752/9912422 [00:00<00:06, 1426149.36it/s]\n",
      " 10%|▉         | 950272/9912422 [00:00<00:03, 2650893.90it/s]\n",
      " 13%|█▎        | 1245184/9912422 [00:00<00:03, 2538110.17it/s]\n",
      " 20%|█▉        | 1966080/9912422 [00:00<00:02, 3719034.96it/s]\n",
      " 24%|██▍       | 2359296/9912422 [00:01<00:03, 2392756.16it/s]\n",
      " 30%|███       | 3014656/9912422 [00:01<00:02, 3184939.22it/s]\n",
      " 34%|███▍      | 3407872/9912422 [00:01<00:02, 2985198.26it/s]\n",
      " 38%|███▊      | 3768320/9912422 [00:01<00:02, 2372401.09it/s]\n",
      " 44%|████▍     | 4358144/9912422 [00:01<00:02, 2693507.13it/s]\n",
      " 47%|████▋     | 4685824/9912422 [00:02<00:04, 1072250.31it/s]\n",
      " 58%|█████▊    | 5701632/9912422 [00:02<00:02, 1935912.80it/s]\n",
      " 62%|██████▏   | 6160384/9912422 [00:02<00:01, 2061309.93it/s]\n",
      " 71%|███████   | 7045120/9912422 [00:03<00:00, 2917427.54it/s]\n",
      " 76%|███████▋  | 7569408/9912422 [00:03<00:00, 3236812.60it/s]\n",
      " 81%|████████▏ | 8060928/9912422 [00:03<00:00, 3187081.79it/s]\n",
      " 88%|████████▊ | 8749056/9912422 [00:03<00:00, 3867261.66it/s]\n",
      " 94%|█████████▎| 9273344/9912422 [00:03<00:00, 4100528.79it/s]\n",
      "100%|██████████| 9912422/9912422 [00:03<00:00, 2737562.08it/s]\n"
     ]
    },
    {
     "name": "stdout",
     "output_type": "stream",
     "text": [
      "\u001b[2m\u001b[36m(train_mnist_tune pid=57654)\u001b[0m Extracting data/MNIST/raw/train-images-idx3-ubyte.gz to data/MNIST/raw\n",
      "\u001b[2m\u001b[36m(train_mnist_tune pid=57654)\u001b[0m \n",
      "\u001b[2m\u001b[36m(train_mnist_tune pid=57654)\u001b[0m Downloading http://yann.lecun.com/exdb/mnist/train-labels-idx1-ubyte.gz\n",
      "\u001b[2m\u001b[36m(train_mnist_tune pid=57654)\u001b[0m Downloading http://yann.lecun.com/exdb/mnist/train-labels-idx1-ubyte.gz to data/MNIST/raw/train-labels-idx1-ubyte.gz\n"
     ]
    },
    {
     "name": "stderr",
     "output_type": "stream",
     "text": [
      "  0%|          | 0/28881 [00:00<?, ?it/s] \n",
      "100%|██████████| 28881/28881 [00:00<00:00, 570377.79it/s]\n"
     ]
    },
    {
     "name": "stdout",
     "output_type": "stream",
     "text": [
      "\u001b[2m\u001b[36m(train_mnist_tune pid=57654)\u001b[0m Extracting data/MNIST/raw/train-labels-idx1-ubyte.gz to data/MNIST/raw\n",
      "\u001b[2m\u001b[36m(train_mnist_tune pid=57654)\u001b[0m \n",
      "\u001b[2m\u001b[36m(train_mnist_tune pid=57654)\u001b[0m Downloading http://yann.lecun.com/exdb/mnist/t10k-images-idx3-ubyte.gz\n",
      "\u001b[2m\u001b[36m(train_mnist_tune pid=57654)\u001b[0m Downloading http://yann.lecun.com/exdb/mnist/t10k-images-idx3-ubyte.gz to data/MNIST/raw/t10k-images-idx3-ubyte.gz\n"
     ]
    },
    {
     "name": "stderr",
     "output_type": "stream",
     "text": [
      "  0%|          | 0/1648877 [00:00<?, ?it/s]\n",
      "  6%|▌         | 98304/1648877 [00:00<00:02, 694512.62it/s]\n",
      " 16%|█▌        | 262144/1648877 [00:00<00:01, 1130975.56it/s]\n",
      " 28%|██▊       | 458752/1648877 [00:00<00:00, 1444633.05it/s]\n",
      " 54%|█████▎    | 884736/1648877 [00:00<00:00, 2428338.44it/s]\n",
      " 81%|████████▏ | 1343488/1648877 [00:00<00:00, 2738574.73it/s]\n",
      "100%|██████████| 1648877/1648877 [00:00<00:00, 2460140.86it/s]\n"
     ]
    },
    {
     "name": "stdout",
     "output_type": "stream",
     "text": [
      "\u001b[2m\u001b[36m(train_mnist_tune pid=57654)\u001b[0m Extracting data/MNIST/raw/t10k-images-idx3-ubyte.gz to data/MNIST/raw\n",
      "\u001b[2m\u001b[36m(train_mnist_tune pid=57654)\u001b[0m \n",
      "\u001b[2m\u001b[36m(train_mnist_tune pid=57654)\u001b[0m Downloading http://yann.lecun.com/exdb/mnist/t10k-labels-idx1-ubyte.gz\n",
      "\u001b[2m\u001b[36m(train_mnist_tune pid=57654)\u001b[0m Downloading http://yann.lecun.com/exdb/mnist/t10k-labels-idx1-ubyte.gz to data/MNIST/raw/t10k-labels-idx1-ubyte.gz\n"
     ]
    },
    {
     "name": "stderr",
     "output_type": "stream",
     "text": [
      "100%|██████████| 4542/4542 [00:00<00:00, 17070366.28it/s]\n",
      "\u001b[2m\u001b[36m(train_mnist_tune pid=57654)\u001b[0m \n",
      "\u001b[2m\u001b[36m(train_mnist_tune pid=57654)\u001b[0m   | Name    | Type   | Params\n",
      "\u001b[2m\u001b[36m(train_mnist_tune pid=57654)\u001b[0m -----------------------------------\n",
      "\u001b[2m\u001b[36m(train_mnist_tune pid=57654)\u001b[0m 0 | layer_1 | Linear | 25.1 K\n",
      "\u001b[2m\u001b[36m(train_mnist_tune pid=57654)\u001b[0m 1 | layer_2 | Linear | 8.4 K \n",
      "\u001b[2m\u001b[36m(train_mnist_tune pid=57654)\u001b[0m 2 | layer_3 | Linear | 2.6 K \n",
      "\u001b[2m\u001b[36m(train_mnist_tune pid=57654)\u001b[0m -----------------------------------\n",
      "\u001b[2m\u001b[36m(train_mnist_tune pid=57654)\u001b[0m 36.1 K    Trainable params\n",
      "\u001b[2m\u001b[36m(train_mnist_tune pid=57654)\u001b[0m 0         Non-trainable params\n",
      "\u001b[2m\u001b[36m(train_mnist_tune pid=57654)\u001b[0m 36.1 K    Total params\n",
      "\u001b[2m\u001b[36m(train_mnist_tune pid=57654)\u001b[0m 0.145     Total estimated model params size (MB)\n"
     ]
    },
    {
     "name": "stdout",
     "output_type": "stream",
     "text": [
      "\u001b[2m\u001b[36m(train_mnist_tune pid=57654)\u001b[0m Extracting data/MNIST/raw/t10k-labels-idx1-ubyte.gz to data/MNIST/raw\n",
      "\u001b[2m\u001b[36m(train_mnist_tune pid=57654)\u001b[0m \n"
     ]
    },
    {
     "name": "stderr",
     "output_type": "stream",
     "text": [
      "\u001b[2m\u001b[36m(train_mnist_tune pid=57654)\u001b[0m /Users/anaderi/python_env/py3/lib/python3.8/site-packages/pytorch_lightning/trainer/connectors/data_connector.py:224: PossibleUserWarning: The dataloader, val_dataloader 0, does not have many workers which may be a bottleneck. Consider increasing the value of the `num_workers` argument` (try 8 which is the number of cpus on this machine) in the `DataLoader` init to improve performance.\n",
      "\u001b[2m\u001b[36m(train_mnist_tune pid=57654)\u001b[0m   rank_zero_warn(\n",
      "\u001b[2m\u001b[36m(train_mnist_tune pid=57654)\u001b[0m /Users/anaderi/python_env/py3/lib/python3.8/site-packages/pytorch_lightning/trainer/connectors/data_connector.py:224: PossibleUserWarning: The dataloader, train_dataloader, does not have many workers which may be a bottleneck. Consider increasing the value of the `num_workers` argument` (try 8 which is the number of cpus on this machine) in the `DataLoader` init to improve performance.\n",
      "\u001b[2m\u001b[36m(train_mnist_tune pid=57654)\u001b[0m   rank_zero_warn(\n"
     ]
    },
    {
     "data": {
      "text/html": [
       "<div class=\"trialProgress\">\n",
       "  <h3>Trial Progress</h3>\n",
       "  <table>\n",
       "<thead>\n",
       "<tr><th>Trial name                  </th><th>date               </th><th>done  </th><th>episodes_total  </th><th>experiment_id                   </th><th>hostname            </th><th style=\"text-align: right;\">  iterations_since_restore</th><th style=\"text-align: right;\">   loss</th><th style=\"text-align: right;\">  mean_accuracy</th><th>node_ip  </th><th style=\"text-align: right;\">  pid</th><th style=\"text-align: right;\">  time_since_restore</th><th style=\"text-align: right;\">  time_this_iter_s</th><th style=\"text-align: right;\">  time_total_s</th><th style=\"text-align: right;\">  timestamp</th><th style=\"text-align: right;\">  timesteps_since_restore</th><th>timesteps_total  </th><th style=\"text-align: right;\">  training_iteration</th><th>trial_id   </th><th style=\"text-align: right;\">  warmup_time</th></tr>\n",
       "</thead>\n",
       "<tbody>\n",
       "<tr><td>train_mnist_tune_977e2_00001</td><td>2023-04-15_07-02-22</td><td>False </td><td>                </td><td>ee690cfea05d4fb18ab2e2505453dac7</td><td>20-MacBook-Pro.local</td><td style=\"text-align: right;\">                         1</td><td style=\"text-align: right;\">0.21598</td><td style=\"text-align: right;\">        0.93551</td><td>127.0.0.1</td><td style=\"text-align: right;\">57609</td><td style=\"text-align: right;\">             35.8776</td><td style=\"text-align: right;\">           35.8776</td><td style=\"text-align: right;\">       35.8776</td><td style=\"text-align: right;\"> 1681534942</td><td style=\"text-align: right;\">                        0</td><td>                 </td><td style=\"text-align: right;\">                   1</td><td>977e2_00001</td><td style=\"text-align: right;\">   0.00870395</td></tr>\n",
       "</tbody>\n",
       "</table>\n",
       "</div>\n",
       "<style>\n",
       ".trialProgress {\n",
       "  display: flex;\n",
       "  flex-direction: column;\n",
       "  color: var(--jp-ui-font-color1);\n",
       "}\n",
       ".trialProgress h3 {\n",
       "  font-weight: bold;\n",
       "}\n",
       ".trialProgress td {\n",
       "  white-space: nowrap;\n",
       "}\n",
       "</style>\n"
      ],
      "text/plain": [
       "<IPython.core.display.HTML object>"
      ]
     },
     "metadata": {},
     "output_type": "display_data"
    },
    {
     "name": "stdout",
     "output_type": "stream",
     "text": [
      "\u001b[2m\u001b[36m(train_mnist_tune pid=57628)\u001b[0m Downloading http://yann.lecun.com/exdb/mnist/train-images-idx3-ubyte.gz\n",
      "\u001b[2m\u001b[36m(train_mnist_tune pid=57628)\u001b[0m Downloading http://yann.lecun.com/exdb/mnist/train-images-idx3-ubyte.gz to data/MNIST/raw/train-images-idx3-ubyte.gz\n"
     ]
    },
    {
     "name": "stderr",
     "output_type": "stream",
     "text": [
      "  0%|          | 0/9912422 [00:00<?, ?it/s]\n",
      "  1%|          | 98304/9912422 [00:00<00:10, 959586.07it/s]\n",
      "  3%|▎         | 262144/9912422 [00:00<00:07, 1244020.72it/s]\n",
      "  7%|▋         | 655360/9912422 [00:00<00:03, 2394638.48it/s]\n",
      " 15%|█▍        | 1441792/9912422 [00:00<00:01, 4395549.67it/s]\n",
      " 19%|█▉        | 1900544/9912422 [00:00<00:02, 3602593.18it/s]\n",
      " 28%|██▊       | 2785280/9912422 [00:00<00:01, 4338405.26it/s]\n",
      " 36%|███▋      | 3604480/9912422 [00:00<00:01, 4785080.78it/s]\n",
      " 42%|████▏     | 4194304/9912422 [00:00<00:01, 5049508.54it/s]\n",
      " 52%|█████▏    | 5144576/9912422 [00:01<00:00, 6199670.90it/s]\n",
      " 59%|█████▊    | 5799936/9912422 [00:01<00:00, 5420020.70it/s]\n",
      " 70%|██████▉   | 6914048/9912422 [00:01<00:00, 6726432.31it/s]\n",
      " 77%|███████▋  | 7634944/9912422 [00:01<00:00, 6407647.27it/s]\n",
      " 85%|████████▍ | 8421376/9912422 [00:01<00:00, 6779432.71it/s]\n",
      " 92%|█████████▏| 9142272/9912422 [00:01<00:00, 6633123.93it/s]\n",
      "100%|██████████| 9912422/9912422 [00:01<00:00, 5188280.02it/s]\n"
     ]
    },
    {
     "name": "stdout",
     "output_type": "stream",
     "text": [
      "\u001b[2m\u001b[36m(train_mnist_tune pid=57628)\u001b[0m Extracting data/MNIST/raw/train-images-idx3-ubyte.gz to data/MNIST/raw\n",
      "\u001b[2m\u001b[36m(train_mnist_tune pid=57628)\u001b[0m \n",
      "\u001b[2m\u001b[36m(train_mnist_tune pid=57628)\u001b[0m Downloading http://yann.lecun.com/exdb/mnist/train-labels-idx1-ubyte.gz\n",
      "\u001b[2m\u001b[36m(train_mnist_tune pid=57628)\u001b[0m Downloading http://yann.lecun.com/exdb/mnist/train-labels-idx1-ubyte.gz to data/MNIST/raw/train-labels-idx1-ubyte.gz\n"
     ]
    },
    {
     "name": "stderr",
     "output_type": "stream",
     "text": [
      "  0%|          | 0/28881 [00:00<?, ?it/s] \n",
      "100%|██████████| 28881/28881 [00:00<00:00, 580824.97it/s]\n"
     ]
    },
    {
     "name": "stdout",
     "output_type": "stream",
     "text": [
      "\u001b[2m\u001b[36m(train_mnist_tune pid=57628)\u001b[0m Extracting data/MNIST/raw/train-labels-idx1-ubyte.gz to data/MNIST/raw\n",
      "\u001b[2m\u001b[36m(train_mnist_tune pid=57628)\u001b[0m \n",
      "\u001b[2m\u001b[36m(train_mnist_tune pid=57628)\u001b[0m Downloading http://yann.lecun.com/exdb/mnist/t10k-images-idx3-ubyte.gz\n",
      "\u001b[2m\u001b[36m(train_mnist_tune pid=57628)\u001b[0m Downloading http://yann.lecun.com/exdb/mnist/t10k-images-idx3-ubyte.gz to data/MNIST/raw/t10k-images-idx3-ubyte.gz\n"
     ]
    },
    {
     "name": "stderr",
     "output_type": "stream",
     "text": [
      "  0%|          | 0/1648877 [00:00<?, ?it/s]\n",
      "  4%|▍         | 65536/1648877 [00:00<00:02, 602863.24it/s]\n",
      " 12%|█▏        | 196608/1648877 [00:00<00:01, 906781.25it/s]\n",
      " 26%|██▌       | 425984/1648877 [00:00<00:00, 1472801.12it/s]\n",
      " 52%|█████▏    | 851968/1648877 [00:00<00:00, 2490653.20it/s]\n",
      " 87%|████████▋ | 1441792/1648877 [00:00<00:00, 3664970.88it/s]\n",
      "100%|██████████| 1648877/1648877 [00:00<00:00, 2230832.68it/s]\n"
     ]
    },
    {
     "name": "stdout",
     "output_type": "stream",
     "text": [
      "\u001b[2m\u001b[36m(train_mnist_tune pid=57628)\u001b[0m Extracting data/MNIST/raw/t10k-images-idx3-ubyte.gz to data/MNIST/raw\n",
      "\u001b[2m\u001b[36m(train_mnist_tune pid=57628)\u001b[0m \n",
      "\u001b[2m\u001b[36m(train_mnist_tune pid=57628)\u001b[0m Downloading http://yann.lecun.com/exdb/mnist/t10k-labels-idx1-ubyte.gz\n",
      "\u001b[2m\u001b[36m(train_mnist_tune pid=57628)\u001b[0m Downloading http://yann.lecun.com/exdb/mnist/t10k-labels-idx1-ubyte.gz to data/MNIST/raw/t10k-labels-idx1-ubyte.gz\n"
     ]
    },
    {
     "name": "stderr",
     "output_type": "stream",
     "text": [
      "  0%|          | 0/4542 [00:00<?, ?it/s]m \n",
      "100%|██████████| 4542/4542 [00:00<00:00, 145620.64it/s]\n",
      "\u001b[2m\u001b[36m(train_mnist_tune pid=57628)\u001b[0m \n",
      "\u001b[2m\u001b[36m(train_mnist_tune pid=57628)\u001b[0m   | Name    | Type   | Params\n",
      "\u001b[2m\u001b[36m(train_mnist_tune pid=57628)\u001b[0m -----------------------------------\n",
      "\u001b[2m\u001b[36m(train_mnist_tune pid=57628)\u001b[0m 0 | layer_1 | Linear | 50.2 K\n",
      "\u001b[2m\u001b[36m(train_mnist_tune pid=57628)\u001b[0m 1 | layer_2 | Linear | 8.3 K \n",
      "\u001b[2m\u001b[36m(train_mnist_tune pid=57628)\u001b[0m 2 | layer_3 | Linear | 1.3 K \n",
      "\u001b[2m\u001b[36m(train_mnist_tune pid=57628)\u001b[0m -----------------------------------\n",
      "\u001b[2m\u001b[36m(train_mnist_tune pid=57628)\u001b[0m 59.9 K    Trainable params\n",
      "\u001b[2m\u001b[36m(train_mnist_tune pid=57628)\u001b[0m 0         Non-trainable params\n",
      "\u001b[2m\u001b[36m(train_mnist_tune pid=57628)\u001b[0m 59.9 K    Total params\n",
      "\u001b[2m\u001b[36m(train_mnist_tune pid=57628)\u001b[0m 0.239     Total estimated model params size (MB)\n"
     ]
    },
    {
     "name": "stdout",
     "output_type": "stream",
     "text": [
      "\u001b[2m\u001b[36m(train_mnist_tune pid=57597)\u001b[0m Downloading http://yann.lecun.com/exdb/mnist/train-images-idx3-ubyte.gz\n",
      "\u001b[2m\u001b[36m(train_mnist_tune pid=57628)\u001b[0m Extracting data/MNIST/raw/t10k-labels-idx1-ubyte.gz to data/MNIST/raw\n",
      "\u001b[2m\u001b[36m(train_mnist_tune pid=57628)\u001b[0m \n",
      "\u001b[2m\u001b[36m(train_mnist_tune pid=57597)\u001b[0m Downloading http://yann.lecun.com/exdb/mnist/train-images-idx3-ubyte.gz to data/MNIST/raw/train-images-idx3-ubyte.gz\n"
     ]
    },
    {
     "name": "stderr",
     "output_type": "stream",
     "text": [
      "  0%|          | 0/9912422 [00:00<?, ?it/s]\n",
      "  1%|          | 65536/9912422 [00:00<00:19, 509178.37it/s]\n",
      "  1%|▏         | 131072/9912422 [00:00<00:17, 565345.93it/s]\n",
      "  2%|▏         | 196608/9912422 [00:00<00:17, 546091.69it/s]\n",
      "  3%|▎         | 294912/9912422 [00:00<00:14, 672342.49it/s]\n",
      "  5%|▍         | 458752/9912422 [00:00<00:10, 944234.83it/s]\n",
      "  8%|▊         | 753664/9912422 [00:00<00:05, 1538933.77it/s]\n",
      " 14%|█▎        | 1343488/9912422 [00:00<00:03, 2821376.36it/s]\n",
      " 17%|█▋        | 1638400/9912422 [00:01<00:04, 2019517.09it/s]\n",
      " 26%|██▌       | 2588672/9912422 [00:01<00:01, 3742229.63it/s]\n",
      " 31%|███       | 3047424/9912422 [00:01<00:01, 3503526.24it/s]\n",
      " 39%|███▉      | 3866624/9912422 [00:01<00:01, 4090866.37it/s]\n",
      " 44%|████▎     | 4325376/9912422 [00:01<00:01, 3759410.25it/s]\n",
      " 54%|█████▍    | 5341184/9912422 [00:01<00:01, 4569154.45it/s]\n",
      " 61%|██████    | 6029312/9912422 [00:01<00:00, 5080422.16it/s]\n",
      " 68%|██████▊   | 6717440/9912422 [00:01<00:00, 5496128.44it/s]\n",
      " 74%|███████▍  | 7372800/9912422 [00:02<00:00, 4583932.42it/s]\n",
      " 91%|█████████ | 8978432/9912422 [00:02<00:00, 7149332.91it/s]\n",
      "100%|██████████| 9912422/9912422 [00:02<00:00, 4133766.83it/s]\n"
     ]
    },
    {
     "name": "stderr",
     "output_type": "stream",
     "text": [
      "\u001b[2m\u001b[36m(train_mnist_tune pid=57635)\u001b[0m GPU available: False, used: False\n",
      "\u001b[2m\u001b[36m(train_mnist_tune pid=57635)\u001b[0m TPU available: False, using: 0 TPU cores\n",
      "\u001b[2m\u001b[36m(train_mnist_tune pid=57635)\u001b[0m IPU available: False, using: 0 IPUs\n",
      "\u001b[2m\u001b[36m(train_mnist_tune pid=57635)\u001b[0m HPU available: False, using: 0 HPUs\n"
     ]
    },
    {
     "name": "stdout",
     "output_type": "stream",
     "text": [
      "\u001b[2m\u001b[36m(train_mnist_tune pid=57597)\u001b[0m \n",
      "\u001b[2m\u001b[36m(train_mnist_tune pid=57597)\u001b[0m Downloading http://yann.lecun.com/exdb/mnist/train-labels-idx1-ubyte.gz\n",
      "\u001b[2m\u001b[36m(train_mnist_tune pid=57597)\u001b[0m Downloading http://yann.lecun.com/exdb/mnist/train-labels-idx1-ubyte.gz to data/MNIST/raw/train-labels-idx1-ubyte.gz\n"
     ]
    },
    {
     "name": "stderr",
     "output_type": "stream",
     "text": [
      "100%|██████████| 28881/28881 [00:00<00:00, 667830.08it/s]\n"
     ]
    },
    {
     "name": "stdout",
     "output_type": "stream",
     "text": [
      "\u001b[2m\u001b[36m(train_mnist_tune pid=57597)\u001b[0m Extracting data/MNIST/raw/train-labels-idx1-ubyte.gz to data/MNIST/raw\n",
      "\u001b[2m\u001b[36m(train_mnist_tune pid=57597)\u001b[0m \n",
      "\u001b[2m\u001b[36m(train_mnist_tune pid=57597)\u001b[0m Downloading http://yann.lecun.com/exdb/mnist/t10k-images-idx3-ubyte.gz\n",
      "\u001b[2m\u001b[36m(train_mnist_tune pid=57597)\u001b[0m Downloading http://yann.lecun.com/exdb/mnist/t10k-images-idx3-ubyte.gz to data/MNIST/raw/t10k-images-idx3-ubyte.gz\n"
     ]
    },
    {
     "name": "stderr",
     "output_type": "stream",
     "text": [
      "  0%|          | 0/1648877 [00:00<?, ?it/s]\n",
      "  6%|▌         | 98304/1648877 [00:00<00:02, 765190.65it/s]\n",
      " 16%|█▌        | 262144/1648877 [00:00<00:01, 1199265.67it/s]\n",
      " 42%|████▏     | 688128/1648877 [00:00<00:00, 2439504.04it/s]\n",
      "100%|██████████| 1648877/1648877 [00:00<00:00, 2871812.98it/s]\n"
     ]
    },
    {
     "name": "stdout",
     "output_type": "stream",
     "text": [
      "\u001b[2m\u001b[36m(train_mnist_tune pid=57597)\u001b[0m Extracting data/MNIST/raw/t10k-images-idx3-ubyte.gz to data/MNIST/raw\n",
      "\u001b[2m\u001b[36m(train_mnist_tune pid=57597)\u001b[0m \n",
      "\u001b[2m\u001b[36m(train_mnist_tune pid=57597)\u001b[0m Downloading http://yann.lecun.com/exdb/mnist/t10k-labels-idx1-ubyte.gz\n",
      "\u001b[2m\u001b[36m(train_mnist_tune pid=57597)\u001b[0m Downloading http://yann.lecun.com/exdb/mnist/t10k-labels-idx1-ubyte.gz to data/MNIST/raw/t10k-labels-idx1-ubyte.gz\n"
     ]
    },
    {
     "name": "stderr",
     "output_type": "stream",
     "text": [
      "100%|██████████| 4542/4542 [00:00<00:00, 100101.56it/s]\n",
      "\u001b[2m\u001b[36m(train_mnist_tune pid=57597)\u001b[0m \n",
      "\u001b[2m\u001b[36m(train_mnist_tune pid=57597)\u001b[0m   | Name    | Type   | Params\n",
      "\u001b[2m\u001b[36m(train_mnist_tune pid=57597)\u001b[0m -----------------------------------\n",
      "\u001b[2m\u001b[36m(train_mnist_tune pid=57597)\u001b[0m 0 | layer_1 | Linear | 50.2 K\n",
      "\u001b[2m\u001b[36m(train_mnist_tune pid=57597)\u001b[0m 1 | layer_2 | Linear | 4.2 K \n",
      "\u001b[2m\u001b[36m(train_mnist_tune pid=57597)\u001b[0m 2 | layer_3 | Linear | 650   \n",
      "\u001b[2m\u001b[36m(train_mnist_tune pid=57597)\u001b[0m -----------------------------------\n",
      "\u001b[2m\u001b[36m(train_mnist_tune pid=57597)\u001b[0m 55.1 K    Trainable params\n",
      "\u001b[2m\u001b[36m(train_mnist_tune pid=57597)\u001b[0m 0         Non-trainable params\n",
      "\u001b[2m\u001b[36m(train_mnist_tune pid=57597)\u001b[0m 55.1 K    Total params\n",
      "\u001b[2m\u001b[36m(train_mnist_tune pid=57597)\u001b[0m 0.220     Total estimated model params size (MB)\n"
     ]
    },
    {
     "name": "stdout",
     "output_type": "stream",
     "text": [
      "\u001b[2m\u001b[36m(train_mnist_tune pid=57597)\u001b[0m Extracting data/MNIST/raw/t10k-labels-idx1-ubyte.gz to data/MNIST/raw\n",
      "\u001b[2m\u001b[36m(train_mnist_tune pid=57597)\u001b[0m \n",
      "\u001b[2m\u001b[36m(train_mnist_tune pid=57635)\u001b[0m Downloading http://yann.lecun.com/exdb/mnist/train-images-idx3-ubyte.gz\n",
      "\u001b[2m\u001b[36m(train_mnist_tune pid=57635)\u001b[0m Downloading http://yann.lecun.com/exdb/mnist/train-images-idx3-ubyte.gz to data/MNIST/raw/train-images-idx3-ubyte.gz\n"
     ]
    },
    {
     "name": "stderr",
     "output_type": "stream",
     "text": [
      "  0%|          | 0/9912422 [00:00<?, ?it/s]\n",
      "  1%|          | 65536/9912422 [00:00<00:15, 642700.60it/s]\n",
      "  2%|▏         | 229376/9912422 [00:00<00:08, 1094439.72it/s]\n",
      "  5%|▌         | 524288/9912422 [00:00<00:05, 1855863.28it/s]\n",
      " 11%|█         | 1114112/9912422 [00:00<00:02, 3334943.90it/s]\n",
      " 18%|█▊        | 1769472/9912422 [00:00<00:02, 3885249.38it/s]\n",
      " 31%|███▏      | 3112960/9912422 [00:00<00:01, 5885486.15it/s]\n",
      " 37%|███▋      | 3702784/9912422 [00:00<00:01, 5058110.98it/s]\n",
      " 50%|████▉     | 4947968/9912422 [00:01<00:01, 4001149.92it/s]\n",
      " 76%|███████▋  | 7569408/9912422 [00:01<00:00, 7504658.11it/s]\n"
     ]
    },
    {
     "name": "stdout",
     "output_type": "stream",
     "text": [
      "\u001b[2m\u001b[36m(train_mnist_tune pid=57635)\u001b[0m Extracting data/MNIST/raw/train-images-idx3-ubyte.gz to data/MNIST/raw\n"
     ]
    },
    {
     "name": "stderr",
     "output_type": "stream",
     "text": [
      "100%|██████████| 9912422/9912422 [00:01<00:00, 5275604.71it/s]\n"
     ]
    },
    {
     "name": "stdout",
     "output_type": "stream",
     "text": [
      "\u001b[2m\u001b[36m(train_mnist_tune pid=57635)\u001b[0m \n",
      "\u001b[2m\u001b[36m(train_mnist_tune pid=57635)\u001b[0m Downloading http://yann.lecun.com/exdb/mnist/train-labels-idx1-ubyte.gz\n",
      "\u001b[2m\u001b[36m(train_mnist_tune pid=57635)\u001b[0m Downloading http://yann.lecun.com/exdb/mnist/train-labels-idx1-ubyte.gz to data/MNIST/raw/train-labels-idx1-ubyte.gz\n"
     ]
    },
    {
     "name": "stderr",
     "output_type": "stream",
     "text": [
      "  0%|          | 0/28881 [00:00<?, ?it/s] \n",
      "100%|██████████| 28881/28881 [00:00<00:00, 660936.03it/s]\n"
     ]
    },
    {
     "name": "stdout",
     "output_type": "stream",
     "text": [
      "\u001b[2m\u001b[36m(train_mnist_tune pid=57635)\u001b[0m Extracting data/MNIST/raw/train-labels-idx1-ubyte.gz to data/MNIST/raw\n",
      "\u001b[2m\u001b[36m(train_mnist_tune pid=57635)\u001b[0m \n",
      "\u001b[2m\u001b[36m(train_mnist_tune pid=57635)\u001b[0m Downloading http://yann.lecun.com/exdb/mnist/t10k-images-idx3-ubyte.gz\n",
      "\u001b[2m\u001b[36m(train_mnist_tune pid=57635)\u001b[0m Downloading http://yann.lecun.com/exdb/mnist/t10k-images-idx3-ubyte.gz to data/MNIST/raw/t10k-images-idx3-ubyte.gz\n"
     ]
    },
    {
     "name": "stderr",
     "output_type": "stream",
     "text": [
      "  0%|          | 0/1648877 [00:00<?, ?it/s]\n",
      "  4%|▍         | 65536/1648877 [00:00<00:03, 510309.88it/s]\n",
      "  8%|▊         | 131072/1648877 [00:00<00:02, 584260.67it/s]\n",
      " 14%|█▍        | 229376/1648877 [00:00<00:02, 676086.52it/s]\n",
      " 24%|██▍       | 393216/1648877 [00:00<00:01, 993896.68it/s]\n",
      " 46%|████▌     | 753664/1648877 [00:00<00:00, 1837654.28it/s]\n",
      " 81%|████████▏ | 1343488/1648877 [00:00<00:00, 3121335.83it/s]\n",
      "100%|██████████| 1648877/1648877 [00:00<00:00, 2089195.61it/s]\n"
     ]
    },
    {
     "name": "stdout",
     "output_type": "stream",
     "text": [
      "\u001b[2m\u001b[36m(train_mnist_tune pid=57635)\u001b[0m Extracting data/MNIST/raw/t10k-images-idx3-ubyte.gz to data/MNIST/raw\n",
      "\u001b[2m\u001b[36m(train_mnist_tune pid=57635)\u001b[0m \n",
      "\u001b[2m\u001b[36m(train_mnist_tune pid=57635)\u001b[0m Downloading http://yann.lecun.com/exdb/mnist/t10k-labels-idx1-ubyte.gz\n",
      "\u001b[2m\u001b[36m(train_mnist_tune pid=57635)\u001b[0m Downloading http://yann.lecun.com/exdb/mnist/t10k-labels-idx1-ubyte.gz to data/MNIST/raw/t10k-labels-idx1-ubyte.gz\n",
      "\u001b[2m\u001b[36m(train_mnist_tune pid=57635)\u001b[0m Extracting data/MNIST/raw/t10k-labels-idx1-ubyte.gz to data/MNIST/raw\n",
      "\u001b[2m\u001b[36m(train_mnist_tune pid=57635)\u001b[0m \n",
      "\u001b[2m\u001b[36m(train_mnist_tune pid=57661)\u001b[0m Downloading http://yann.lecun.com/exdb/mnist/train-images-idx3-ubyte.gz\n"
     ]
    },
    {
     "name": "stderr",
     "output_type": "stream",
     "text": [
      "100%|██████████| 4542/4542 [00:00<00:00, 884220.41it/s]\n",
      "\u001b[2m\u001b[36m(train_mnist_tune pid=57635)\u001b[0m \n",
      "\u001b[2m\u001b[36m(train_mnist_tune pid=57635)\u001b[0m   | Name    | Type   | Params\n",
      "\u001b[2m\u001b[36m(train_mnist_tune pid=57635)\u001b[0m -----------------------------------\n",
      "\u001b[2m\u001b[36m(train_mnist_tune pid=57635)\u001b[0m 0 | layer_1 | Linear | 50.2 K\n",
      "\u001b[2m\u001b[36m(train_mnist_tune pid=57635)\u001b[0m 1 | layer_2 | Linear | 4.2 K \n",
      "\u001b[2m\u001b[36m(train_mnist_tune pid=57635)\u001b[0m 2 | layer_3 | Linear | 650   \n",
      "\u001b[2m\u001b[36m(train_mnist_tune pid=57635)\u001b[0m -----------------------------------\n",
      "\u001b[2m\u001b[36m(train_mnist_tune pid=57635)\u001b[0m 55.1 K    Trainable params\n",
      "\u001b[2m\u001b[36m(train_mnist_tune pid=57635)\u001b[0m 0         Non-trainable params\n",
      "\u001b[2m\u001b[36m(train_mnist_tune pid=57635)\u001b[0m 55.1 K    Total params\n",
      "\u001b[2m\u001b[36m(train_mnist_tune pid=57635)\u001b[0m 0.220     Total estimated model params size (MB)\n"
     ]
    },
    {
     "name": "stdout",
     "output_type": "stream",
     "text": [
      "\u001b[2m\u001b[36m(train_mnist_tune pid=57661)\u001b[0m Downloading http://yann.lecun.com/exdb/mnist/train-images-idx3-ubyte.gz to data/MNIST/raw/train-images-idx3-ubyte.gz\n"
     ]
    },
    {
     "name": "stderr",
     "output_type": "stream",
     "text": [
      "  0%|          | 0/9912422 [00:00<?, ?it/s]\n",
      "  1%|          | 98304/9912422 [00:00<00:11, 876063.93it/s]\n",
      "  2%|▏         | 229376/9912422 [00:00<00:09, 1070444.80it/s]\n",
      "  5%|▌         | 524288/9912422 [00:00<00:05, 1873122.18it/s]\n",
      " 13%|█▎        | 1245184/9912422 [00:00<00:02, 3888066.05it/s]\n",
      " 17%|█▋        | 1671168/9912422 [00:00<00:03, 2666333.30it/s]\n",
      " 33%|███▎      | 3244032/9912422 [00:00<00:01, 5464421.45it/s]\n",
      " 44%|████▍     | 4358144/9912422 [00:01<00:01, 3301202.07it/s]\n",
      " 57%|█████▋    | 5603328/9912422 [00:01<00:00, 4612514.74it/s]\n",
      " 62%|██████▏   | 6160384/9912422 [00:01<00:00, 3756374.21it/s]\n",
      " 75%|███████▌  | 7438336/9912422 [00:01<00:00, 4061214.53it/s]\n",
      " 88%|████████▊ | 8716288/9912422 [00:02<00:00, 4641152.32it/s]\n",
      "100%|██████████| 9912422/9912422 [00:02<00:00, 4288372.05it/s]\n"
     ]
    },
    {
     "name": "stdout",
     "output_type": "stream",
     "text": [
      "\u001b[2m\u001b[36m(train_mnist_tune pid=57661)\u001b[0m Extracting data/MNIST/raw/train-images-idx3-ubyte.gz to data/MNIST/raw\n",
      "\u001b[2m\u001b[36m(train_mnist_tune pid=57661)\u001b[0m \n",
      "\u001b[2m\u001b[36m(train_mnist_tune pid=57661)\u001b[0m Downloading http://yann.lecun.com/exdb/mnist/train-labels-idx1-ubyte.gz\n",
      "\u001b[2m\u001b[36m(train_mnist_tune pid=57661)\u001b[0m Downloading http://yann.lecun.com/exdb/mnist/train-labels-idx1-ubyte.gz to data/MNIST/raw/train-labels-idx1-ubyte.gz\n"
     ]
    },
    {
     "name": "stderr",
     "output_type": "stream",
     "text": [
      "  0%|          | 0/28881 [00:00<?, ?it/s] \n",
      "100%|██████████| 28881/28881 [00:00<00:00, 617535.14it/s]\n"
     ]
    },
    {
     "name": "stdout",
     "output_type": "stream",
     "text": [
      "\u001b[2m\u001b[36m(train_mnist_tune pid=57661)\u001b[0m Extracting data/MNIST/raw/train-labels-idx1-ubyte.gz to data/MNIST/raw\n",
      "\u001b[2m\u001b[36m(train_mnist_tune pid=57661)\u001b[0m \n",
      "\u001b[2m\u001b[36m(train_mnist_tune pid=57661)\u001b[0m Downloading http://yann.lecun.com/exdb/mnist/t10k-images-idx3-ubyte.gz\n",
      "\u001b[2m\u001b[36m(train_mnist_tune pid=57661)\u001b[0m Downloading http://yann.lecun.com/exdb/mnist/t10k-images-idx3-ubyte.gz to data/MNIST/raw/t10k-images-idx3-ubyte.gz\n"
     ]
    },
    {
     "name": "stderr",
     "output_type": "stream",
     "text": [
      "  0%|          | 0/1648877 [00:00<?, ?it/s]\n",
      "  6%|▌         | 98304/1648877 [00:00<00:01, 847643.86it/s]\n",
      " 16%|█▌        | 262144/1648877 [00:00<00:01, 1199522.92it/s]\n",
      " 34%|███▍      | 557056/1648877 [00:00<00:00, 1769927.50it/s]\n",
      " 72%|███████▏  | 1179648/1648877 [00:00<00:00, 3331286.12it/s]\n",
      "100%|██████████| 1648877/1648877 [00:00<00:00, 3017898.39it/s]\n"
     ]
    },
    {
     "name": "stdout",
     "output_type": "stream",
     "text": [
      "\u001b[2m\u001b[36m(train_mnist_tune pid=57661)\u001b[0m Extracting data/MNIST/raw/t10k-images-idx3-ubyte.gz to data/MNIST/raw\n",
      "\u001b[2m\u001b[36m(train_mnist_tune pid=57661)\u001b[0m \n",
      "\u001b[2m\u001b[36m(train_mnist_tune pid=57661)\u001b[0m Downloading http://yann.lecun.com/exdb/mnist/t10k-labels-idx1-ubyte.gz\n",
      "\u001b[2m\u001b[36m(train_mnist_tune pid=57661)\u001b[0m Downloading http://yann.lecun.com/exdb/mnist/t10k-labels-idx1-ubyte.gz to data/MNIST/raw/t10k-labels-idx1-ubyte.gz\n"
     ]
    },
    {
     "name": "stderr",
     "output_type": "stream",
     "text": [
      "  0%|          | 0/4542 [00:00<?, ?it/s]m \n",
      "100%|██████████| 4542/4542 [00:00<00:00, 98546.56it/s]\n"
     ]
    },
    {
     "name": "stdout",
     "output_type": "stream",
     "text": [
      "\u001b[2m\u001b[36m(train_mnist_tune pid=57661)\u001b[0m Extracting data/MNIST/raw/t10k-labels-idx1-ubyte.gz to data/MNIST/raw\n",
      "\u001b[2m\u001b[36m(train_mnist_tune pid=57661)\u001b[0m \n"
     ]
    },
    {
     "name": "stderr",
     "output_type": "stream",
     "text": [
      "\u001b[2m\u001b[36m(train_mnist_tune pid=57661)\u001b[0m \n",
      "\u001b[2m\u001b[36m(train_mnist_tune pid=57661)\u001b[0m   | Name    | Type   | Params\n",
      "\u001b[2m\u001b[36m(train_mnist_tune pid=57661)\u001b[0m -----------------------------------\n",
      "\u001b[2m\u001b[36m(train_mnist_tune pid=57661)\u001b[0m 0 | layer_1 | Linear | 25.1 K\n",
      "\u001b[2m\u001b[36m(train_mnist_tune pid=57661)\u001b[0m 1 | layer_2 | Linear | 2.1 K \n",
      "\u001b[2m\u001b[36m(train_mnist_tune pid=57661)\u001b[0m 2 | layer_3 | Linear | 650   \n",
      "\u001b[2m\u001b[36m(train_mnist_tune pid=57661)\u001b[0m -----------------------------------\n",
      "\u001b[2m\u001b[36m(train_mnist_tune pid=57661)\u001b[0m 27.9 K    Trainable params\n",
      "\u001b[2m\u001b[36m(train_mnist_tune pid=57661)\u001b[0m 0         Non-trainable params\n",
      "\u001b[2m\u001b[36m(train_mnist_tune pid=57661)\u001b[0m 27.9 K    Total params\n",
      "\u001b[2m\u001b[36m(train_mnist_tune pid=57661)\u001b[0m 0.112     Total estimated model params size (MB)\n",
      "\u001b[2m\u001b[36m(train_mnist_tune pid=57661)\u001b[0m /Users/anaderi/python_env/py3/lib/python3.8/site-packages/pytorch_lightning/trainer/connectors/data_connector.py:224: PossibleUserWarning: The dataloader, val_dataloader 0, does not have many workers which may be a bottleneck. Consider increasing the value of the `num_workers` argument` (try 8 which is the number of cpus on this machine) in the `DataLoader` init to improve performance.\n",
      "\u001b[2m\u001b[36m(train_mnist_tune pid=57661)\u001b[0m   rank_zero_warn(\n",
      "\u001b[2m\u001b[36m(train_mnist_tune pid=57661)\u001b[0m /Users/anaderi/python_env/py3/lib/python3.8/site-packages/pytorch_lightning/trainer/connectors/data_connector.py:224: PossibleUserWarning: The dataloader, train_dataloader, does not have many workers which may be a bottleneck. Consider increasing the value of the `num_workers` argument` (try 8 which is the number of cpus on this machine) in the `DataLoader` init to improve performance.\n",
      "\u001b[2m\u001b[36m(train_mnist_tune pid=57661)\u001b[0m   rank_zero_warn(\n",
      "\u001b[2m\u001b[36m(train_mnist_tune pid=57646)\u001b[0m GPU available: False, used: False\n",
      "\u001b[2m\u001b[36m(train_mnist_tune pid=57646)\u001b[0m TPU available: False, using: 0 TPU cores\n",
      "\u001b[2m\u001b[36m(train_mnist_tune pid=57646)\u001b[0m IPU available: False, using: 0 IPUs\n",
      "\u001b[2m\u001b[36m(train_mnist_tune pid=57646)\u001b[0m HPU available: False, using: 0 HPUs\n"
     ]
    },
    {
     "name": "stdout",
     "output_type": "stream",
     "text": [
      "\u001b[2m\u001b[36m(train_mnist_tune pid=57646)\u001b[0m Downloading http://yann.lecun.com/exdb/mnist/train-images-idx3-ubyte.gz\n",
      "\u001b[2m\u001b[36m(train_mnist_tune pid=57646)\u001b[0m Downloading http://yann.lecun.com/exdb/mnist/train-images-idx3-ubyte.gz to data/MNIST/raw/train-images-idx3-ubyte.gz\n"
     ]
    },
    {
     "name": "stderr",
     "output_type": "stream",
     "text": [
      "  0%|          | 0/9912422 [00:00<?, ?it/s]\n",
      "  1%|          | 65536/9912422 [00:00<00:23, 412534.47it/s]\n",
      "  2%|▏         | 163840/9912422 [00:00<00:16, 608784.99it/s]\n",
      "  4%|▎         | 360448/9912422 [00:00<00:09, 1039790.07it/s]\n",
      "  8%|▊         | 819200/9912422 [00:00<00:04, 2220492.46it/s]\n",
      " 13%|█▎        | 1277952/9912422 [00:00<00:03, 2318169.45it/s]\n",
      " 25%|██▍       | 2457600/9912422 [00:00<00:01, 4333551.18it/s]\n",
      " 29%|██▉       | 2916352/9912422 [00:01<00:02, 2968401.30it/s]\n",
      " 41%|████      | 4063232/9912422 [00:01<00:01, 4217124.91it/s]\n",
      " 46%|████▌     | 4554752/9912422 [00:01<00:01, 3895172.46it/s]\n",
      " 56%|█████▌    | 5505024/9912422 [00:01<00:00, 5048911.51it/s]\n",
      " 61%|██████▏   | 6094848/9912422 [00:01<00:00, 4858536.57it/s]\n",
      " 67%|██████▋   | 6651904/9912422 [00:01<00:00, 4435339.63it/s]\n",
      " 78%|███████▊  | 7766016/9912422 [00:01<00:00, 5932769.25it/s]\n",
      " 85%|████████▌ | 8454144/9912422 [00:02<00:00, 4781185.90it/s]\n",
      " 96%|█████████▌| 9469952/9912422 [00:02<00:00, 5903705.50it/s]\n",
      "100%|██████████| 9912422/9912422 [00:02<00:00, 3460276.60it/s]\n"
     ]
    },
    {
     "name": "stdout",
     "output_type": "stream",
     "text": [
      "\u001b[2m\u001b[36m(train_mnist_tune pid=57646)\u001b[0m Extracting data/MNIST/raw/train-images-idx3-ubyte.gz to data/MNIST/raw\n",
      "\u001b[2m\u001b[36m(train_mnist_tune pid=57646)\u001b[0m \n",
      "\u001b[2m\u001b[36m(train_mnist_tune pid=57646)\u001b[0m Downloading http://yann.lecun.com/exdb/mnist/train-labels-idx1-ubyte.gz\n",
      "\u001b[2m\u001b[36m(train_mnist_tune pid=57646)\u001b[0m Downloading http://yann.lecun.com/exdb/mnist/train-labels-idx1-ubyte.gz to data/MNIST/raw/train-labels-idx1-ubyte.gz\n"
     ]
    },
    {
     "name": "stderr",
     "output_type": "stream",
     "text": [
      "100%|██████████| 28881/28881 [00:00<00:00, 1305819.95it/s]\n"
     ]
    },
    {
     "name": "stdout",
     "output_type": "stream",
     "text": [
      "\u001b[2m\u001b[36m(train_mnist_tune pid=57646)\u001b[0m Extracting data/MNIST/raw/train-labels-idx1-ubyte.gz to data/MNIST/raw\n",
      "\u001b[2m\u001b[36m(train_mnist_tune pid=57646)\u001b[0m \n",
      "\u001b[2m\u001b[36m(train_mnist_tune pid=57646)\u001b[0m Downloading http://yann.lecun.com/exdb/mnist/t10k-images-idx3-ubyte.gz\n",
      "\u001b[2m\u001b[36m(train_mnist_tune pid=57646)\u001b[0m Downloading http://yann.lecun.com/exdb/mnist/t10k-images-idx3-ubyte.gz to data/MNIST/raw/t10k-images-idx3-ubyte.gz\n"
     ]
    },
    {
     "name": "stderr",
     "output_type": "stream",
     "text": [
      "  0%|          | 0/1648877 [00:00<?, ?it/s]\n",
      "  6%|▌         | 98304/1648877 [00:00<00:02, 625889.90it/s]\n",
      " 14%|█▍        | 229376/1648877 [00:00<00:01, 760438.52it/s]\n",
      " 30%|██▉       | 491520/1648877 [00:00<00:00, 1373086.27it/s]\n",
      " 62%|██████▏   | 1015808/1648877 [00:00<00:00, 2627522.93it/s]\n",
      "100%|██████████| 1648877/1648877 [00:00<00:00, 2540967.65it/s]\n"
     ]
    },
    {
     "name": "stdout",
     "output_type": "stream",
     "text": [
      "\u001b[2m\u001b[36m(train_mnist_tune pid=57646)\u001b[0m Extracting data/MNIST/raw/t10k-images-idx3-ubyte.gz to data/MNIST/raw\n",
      "\u001b[2m\u001b[36m(train_mnist_tune pid=57646)\u001b[0m \n",
      "\u001b[2m\u001b[36m(train_mnist_tune pid=57646)\u001b[0m Downloading http://yann.lecun.com/exdb/mnist/t10k-labels-idx1-ubyte.gz\n",
      "\u001b[2m\u001b[36m(train_mnist_tune pid=57646)\u001b[0m Downloading http://yann.lecun.com/exdb/mnist/t10k-labels-idx1-ubyte.gz to data/MNIST/raw/t10k-labels-idx1-ubyte.gz\n"
     ]
    },
    {
     "name": "stderr",
     "output_type": "stream",
     "text": [
      "100%|██████████| 4542/4542 [00:00<00:00, 114879.87it/s]\n",
      "\u001b[2m\u001b[36m(train_mnist_tune pid=57646)\u001b[0m \n",
      "\u001b[2m\u001b[36m(train_mnist_tune pid=57646)\u001b[0m   | Name    | Type   | Params\n",
      "\u001b[2m\u001b[36m(train_mnist_tune pid=57646)\u001b[0m -----------------------------------\n",
      "\u001b[2m\u001b[36m(train_mnist_tune pid=57646)\u001b[0m 0 | layer_1 | Linear | 100 K \n",
      "\u001b[2m\u001b[36m(train_mnist_tune pid=57646)\u001b[0m 1 | layer_2 | Linear | 16.5 K\n",
      "\u001b[2m\u001b[36m(train_mnist_tune pid=57646)\u001b[0m 2 | layer_3 | Linear | 1.3 K \n",
      "\u001b[2m\u001b[36m(train_mnist_tune pid=57646)\u001b[0m -----------------------------------\n",
      "\u001b[2m\u001b[36m(train_mnist_tune pid=57646)\u001b[0m 118 K     Trainable params\n",
      "\u001b[2m\u001b[36m(train_mnist_tune pid=57646)\u001b[0m 0         Non-trainable params\n",
      "\u001b[2m\u001b[36m(train_mnist_tune pid=57646)\u001b[0m 118 K     Total params\n",
      "\u001b[2m\u001b[36m(train_mnist_tune pid=57646)\u001b[0m 0.473     Total estimated model params size (MB)\n"
     ]
    },
    {
     "name": "stdout",
     "output_type": "stream",
     "text": [
      "\u001b[2m\u001b[36m(train_mnist_tune pid=57646)\u001b[0m Extracting data/MNIST/raw/t10k-labels-idx1-ubyte.gz to data/MNIST/raw\n",
      "\u001b[2m\u001b[36m(train_mnist_tune pid=57646)\u001b[0m \n"
     ]
    },
    {
     "name": "stderr",
     "output_type": "stream",
     "text": [
      "\u001b[2m\u001b[36m(train_mnist_tune pid=57597)\u001b[0m GPU available: False, used: False\n",
      "\u001b[2m\u001b[36m(train_mnist_tune pid=57597)\u001b[0m TPU available: False, using: 0 TPU cores\n",
      "\u001b[2m\u001b[36m(train_mnist_tune pid=57597)\u001b[0m IPU available: False, using: 0 IPUs\n",
      "\u001b[2m\u001b[36m(train_mnist_tune pid=57597)\u001b[0m HPU available: False, using: 0 HPUs\n"
     ]
    },
    {
     "name": "stdout",
     "output_type": "stream",
     "text": [
      "\u001b[2m\u001b[36m(train_mnist_tune pid=57597)\u001b[0m Downloading http://yann.lecun.com/exdb/mnist/train-images-idx3-ubyte.gz\n",
      "\u001b[2m\u001b[36m(train_mnist_tune pid=57597)\u001b[0m Downloading http://yann.lecun.com/exdb/mnist/train-images-idx3-ubyte.gz to data/MNIST/raw/train-images-idx3-ubyte.gz\n"
     ]
    },
    {
     "name": "stderr",
     "output_type": "stream",
     "text": [
      "  0%|          | 0/9912422 [00:00<?, ?it/s]\n",
      "  1%|          | 98304/9912422 [00:00<00:10, 979952.23it/s]\n",
      "  3%|▎         | 262144/9912422 [00:00<00:07, 1306689.40it/s]\n",
      "  7%|▋         | 720896/9912422 [00:00<00:03, 2738783.22it/s]\n",
      " 17%|█▋        | 1671168/9912422 [00:00<00:01, 4181834.63it/s]\n",
      " 29%|██▉       | 2883584/9912422 [00:00<00:01, 6508170.61it/s]\n",
      " 39%|███▉      | 3866624/9912422 [00:00<00:00, 6141528.75it/s]\n",
      " 46%|████▌     | 4521984/9912422 [00:00<00:00, 5706576.70it/s]\n",
      " 53%|█████▎    | 5242880/9912422 [00:00<00:00, 6072277.92it/s]\n",
      " 60%|█████▉    | 5898240/9912422 [00:01<00:01, 3489988.82it/s]\n",
      " 80%|████████  | 7962624/9912422 [00:01<00:00, 6244935.48it/s]\n",
      " 89%|████████▉ | 8814592/9912422 [00:01<00:00, 5414631.81it/s]\n",
      " 96%|█████████▌| 9535488/9912422 [00:01<00:00, 4821077.90it/s]\n",
      "100%|██████████| 9912422/9912422 [00:02<00:00, 4890951.15it/s]\n"
     ]
    },
    {
     "name": "stdout",
     "output_type": "stream",
     "text": [
      "\u001b[2m\u001b[36m(train_mnist_tune pid=57597)\u001b[0m Extracting data/MNIST/raw/train-images-idx3-ubyte.gz to data/MNIST/raw\n",
      "\u001b[2m\u001b[36m(train_mnist_tune pid=57597)\u001b[0m \n",
      "\u001b[2m\u001b[36m(train_mnist_tune pid=57597)\u001b[0m Downloading http://yann.lecun.com/exdb/mnist/train-labels-idx1-ubyte.gz\n",
      "\u001b[2m\u001b[36m(train_mnist_tune pid=57597)\u001b[0m Downloading http://yann.lecun.com/exdb/mnist/train-labels-idx1-ubyte.gz to data/MNIST/raw/train-labels-idx1-ubyte.gz\n"
     ]
    },
    {
     "name": "stderr",
     "output_type": "stream",
     "text": [
      "  0%|          | 0/28881 [00:00<?, ?it/s] \n",
      "100%|██████████| 28881/28881 [00:00<00:00, 598257.09it/s]\n"
     ]
    },
    {
     "name": "stdout",
     "output_type": "stream",
     "text": [
      "\u001b[2m\u001b[36m(train_mnist_tune pid=57597)\u001b[0m Extracting data/MNIST/raw/train-labels-idx1-ubyte.gz to data/MNIST/raw\n",
      "\u001b[2m\u001b[36m(train_mnist_tune pid=57597)\u001b[0m \n",
      "\u001b[2m\u001b[36m(train_mnist_tune pid=57597)\u001b[0m Downloading http://yann.lecun.com/exdb/mnist/t10k-images-idx3-ubyte.gz\n",
      "\u001b[2m\u001b[36m(train_mnist_tune pid=57597)\u001b[0m Downloading http://yann.lecun.com/exdb/mnist/t10k-images-idx3-ubyte.gz to data/MNIST/raw/t10k-images-idx3-ubyte.gz\n"
     ]
    },
    {
     "name": "stdout",
     "output_type": "stream",
     "text": [
      "\u001b[2m\u001b[36m(train_mnist_tune pid=57597)\u001b[0m Extracting data/MNIST/raw/t10k-images-idx3-ubyte.gz to data/MNIST/raw\n",
      "\u001b[2m\u001b[36m(train_mnist_tune pid=57597)\u001b[0m \n",
      "\u001b[2m\u001b[36m(train_mnist_tune pid=57597)\u001b[0m Downloading http://yann.lecun.com/exdb/mnist/t10k-labels-idx1-ubyte.gz\n",
      "\u001b[2m\u001b[36m(train_mnist_tune pid=57597)\u001b[0m Downloading http://yann.lecun.com/exdb/mnist/t10k-labels-idx1-ubyte.gz to data/MNIST/raw/t10k-labels-idx1-ubyte.gz\n"
     ]
    },
    {
     "name": "stderr",
     "output_type": "stream",
     "text": [
      "100%|██████████| 4542/4542 [00:00<00:00, 108894.39it/s]\n",
      "\u001b[2m\u001b[36m(train_mnist_tune pid=57597)\u001b[0m \n",
      "\u001b[2m\u001b[36m(train_mnist_tune pid=57597)\u001b[0m   | Name    | Type   | Params\n",
      "\u001b[2m\u001b[36m(train_mnist_tune pid=57597)\u001b[0m -----------------------------------\n",
      "\u001b[2m\u001b[36m(train_mnist_tune pid=57597)\u001b[0m 0 | layer_1 | Linear | 50.2 K\n",
      "\u001b[2m\u001b[36m(train_mnist_tune pid=57597)\u001b[0m 1 | layer_2 | Linear | 16.6 K\n",
      "\u001b[2m\u001b[36m(train_mnist_tune pid=57597)\u001b[0m 2 | layer_3 | Linear | 2.6 K \n",
      "\u001b[2m\u001b[36m(train_mnist_tune pid=57597)\u001b[0m -----------------------------------\n",
      "\u001b[2m\u001b[36m(train_mnist_tune pid=57597)\u001b[0m 69.5 K    Trainable params\n",
      "\u001b[2m\u001b[36m(train_mnist_tune pid=57597)\u001b[0m 0         Non-trainable params\n",
      "\u001b[2m\u001b[36m(train_mnist_tune pid=57597)\u001b[0m 69.5 K    Total params\n",
      "\u001b[2m\u001b[36m(train_mnist_tune pid=57597)\u001b[0m 0.278     Total estimated model params size (MB)\n"
     ]
    },
    {
     "name": "stdout",
     "output_type": "stream",
     "text": [
      "\u001b[2m\u001b[36m(train_mnist_tune pid=57597)\u001b[0m Extracting data/MNIST/raw/t10k-labels-idx1-ubyte.gz to data/MNIST/raw\n",
      "\u001b[2m\u001b[36m(train_mnist_tune pid=57597)\u001b[0m \n"
     ]
    },
    {
     "name": "stderr",
     "output_type": "stream",
     "text": [
      "\u001b[2m\u001b[36m(train_mnist_tune pid=57646)\u001b[0m GPU available: False, used: False\n",
      "\u001b[2m\u001b[36m(train_mnist_tune pid=57646)\u001b[0m TPU available: False, using: 0 TPU cores\n",
      "\u001b[2m\u001b[36m(train_mnist_tune pid=57646)\u001b[0m IPU available: False, using: 0 IPUs\n",
      "\u001b[2m\u001b[36m(train_mnist_tune pid=57646)\u001b[0m HPU available: False, using: 0 HPUs\n"
     ]
    },
    {
     "name": "stdout",
     "output_type": "stream",
     "text": [
      "\u001b[2m\u001b[36m(train_mnist_tune pid=57646)\u001b[0m Downloading http://yann.lecun.com/exdb/mnist/train-images-idx3-ubyte.gz\n",
      "\u001b[2m\u001b[36m(train_mnist_tune pid=57646)\u001b[0m Downloading http://yann.lecun.com/exdb/mnist/train-images-idx3-ubyte.gz to data/MNIST/raw/train-images-idx3-ubyte.gz\n"
     ]
    },
    {
     "name": "stderr",
     "output_type": "stream",
     "text": [
      "  0%|          | 0/9912422 [00:00<?, ?it/s]\n",
      "  1%|          | 98304/9912422 [00:00<00:14, 675225.27it/s]\n",
      "  6%|▋         | 622592/9912422 [00:00<00:04, 2064528.58it/s]\n",
      " 14%|█▍        | 1409024/9912422 [00:00<00:02, 4092781.01it/s]\n",
      " 19%|█▉        | 1867776/9912422 [00:00<00:02, 4012092.59it/s]\n",
      " 23%|██▎       | 2293760/9912422 [00:00<00:02, 3683982.61it/s]\n",
      " 37%|███▋      | 3670016/9912422 [00:01<00:01, 3666853.86it/s]\n",
      " 54%|█████▍    | 5341184/9912422 [00:01<00:00, 5739587.20it/s]\n",
      " 60%|██████    | 5996544/9912422 [00:01<00:00, 4271187.43it/s]\n",
      " 73%|███████▎  | 7274496/9912422 [00:01<00:00, 4901617.01it/s]\n",
      " 79%|███████▉  | 7864320/9912422 [00:01<00:00, 4949143.70it/s]\n",
      " 90%|█████████ | 8945664/9912422 [00:01<00:00, 5972496.74it/s]\n",
      " 97%|█████████▋| 9633792/9912422 [00:02<00:00, 6129358.81it/s]\n",
      "100%|██████████| 9912422/9912422 [00:02<00:00, 4664706.86it/s]\n"
     ]
    },
    {
     "name": "stdout",
     "output_type": "stream",
     "text": [
      "\u001b[2m\u001b[36m(train_mnist_tune pid=57646)\u001b[0m Extracting data/MNIST/raw/train-images-idx3-ubyte.gz to data/MNIST/raw\n",
      "\u001b[2m\u001b[36m(train_mnist_tune pid=57646)\u001b[0m \n",
      "\u001b[2m\u001b[36m(train_mnist_tune pid=57646)\u001b[0m Downloading http://yann.lecun.com/exdb/mnist/train-labels-idx1-ubyte.gz\n",
      "\u001b[2m\u001b[36m(train_mnist_tune pid=57646)\u001b[0m Downloading http://yann.lecun.com/exdb/mnist/train-labels-idx1-ubyte.gz to data/MNIST/raw/train-labels-idx1-ubyte.gz\n"
     ]
    },
    {
     "name": "stderr",
     "output_type": "stream",
     "text": [
      "100%|██████████| 28881/28881 [00:00<00:00, 491026.29it/s]\n"
     ]
    },
    {
     "name": "stdout",
     "output_type": "stream",
     "text": [
      "\u001b[2m\u001b[36m(train_mnist_tune pid=57646)\u001b[0m Extracting data/MNIST/raw/train-labels-idx1-ubyte.gz to data/MNIST/raw\n",
      "\u001b[2m\u001b[36m(train_mnist_tune pid=57646)\u001b[0m \n",
      "\u001b[2m\u001b[36m(train_mnist_tune pid=57646)\u001b[0m Downloading http://yann.lecun.com/exdb/mnist/t10k-images-idx3-ubyte.gz\n",
      "\u001b[2m\u001b[36m(train_mnist_tune pid=57646)\u001b[0m Downloading http://yann.lecun.com/exdb/mnist/t10k-images-idx3-ubyte.gz to data/MNIST/raw/t10k-images-idx3-ubyte.gz\n"
     ]
    },
    {
     "name": "stderr",
     "output_type": "stream",
     "text": [
      "  0%|          | 0/1648877 [00:00<?, ?it/s]\n",
      "  6%|▌         | 98304/1648877 [00:00<00:02, 723376.87it/s]\n",
      " 18%|█▊        | 294912/1648877 [00:00<00:00, 1359038.61it/s]\n",
      " 48%|████▊     | 786432/1648877 [00:00<00:00, 2833709.44it/s]\n",
      " 68%|██████▊   | 1114112/1648877 [00:00<00:00, 2582841.04it/s]\n",
      "100%|██████████| 1648877/1648877 [00:00<00:00, 1785888.21it/s]\n"
     ]
    },
    {
     "name": "stdout",
     "output_type": "stream",
     "text": [
      "\u001b[2m\u001b[36m(train_mnist_tune pid=57646)\u001b[0m Extracting data/MNIST/raw/t10k-images-idx3-ubyte.gz to data/MNIST/raw\n",
      "\u001b[2m\u001b[36m(train_mnist_tune pid=57646)\u001b[0m \n",
      "\u001b[2m\u001b[36m(train_mnist_tune pid=57646)\u001b[0m Downloading http://yann.lecun.com/exdb/mnist/t10k-labels-idx1-ubyte.gz\n",
      "\u001b[2m\u001b[36m(train_mnist_tune pid=57646)\u001b[0m Downloading http://yann.lecun.com/exdb/mnist/t10k-labels-idx1-ubyte.gz to data/MNIST/raw/t10k-labels-idx1-ubyte.gz\n"
     ]
    },
    {
     "name": "stderr",
     "output_type": "stream",
     "text": [
      "  0%|          | 0/4542 [00:00<?, ?it/s]m \n",
      "100%|██████████| 4542/4542 [00:00<00:00, 99175.02it/s]\n",
      "\u001b[2m\u001b[36m(train_mnist_tune pid=57646)\u001b[0m \n",
      "\u001b[2m\u001b[36m(train_mnist_tune pid=57646)\u001b[0m   | Name    | Type   | Params\n",
      "\u001b[2m\u001b[36m(train_mnist_tune pid=57646)\u001b[0m -----------------------------------\n",
      "\u001b[2m\u001b[36m(train_mnist_tune pid=57646)\u001b[0m 0 | layer_1 | Linear | 50.2 K\n",
      "\u001b[2m\u001b[36m(train_mnist_tune pid=57646)\u001b[0m 1 | layer_2 | Linear | 4.2 K \n",
      "\u001b[2m\u001b[36m(train_mnist_tune pid=57646)\u001b[0m 2 | layer_3 | Linear | 650   \n",
      "\u001b[2m\u001b[36m(train_mnist_tune pid=57646)\u001b[0m -----------------------------------\n",
      "\u001b[2m\u001b[36m(train_mnist_tune pid=57646)\u001b[0m 55.1 K    Trainable params\n",
      "\u001b[2m\u001b[36m(train_mnist_tune pid=57646)\u001b[0m 0         Non-trainable params\n",
      "\u001b[2m\u001b[36m(train_mnist_tune pid=57646)\u001b[0m 55.1 K    Total params\n",
      "\u001b[2m\u001b[36m(train_mnist_tune pid=57646)\u001b[0m 0.220     Total estimated model params size (MB)\n"
     ]
    },
    {
     "name": "stdout",
     "output_type": "stream",
     "text": [
      "\u001b[2m\u001b[36m(train_mnist_tune pid=57646)\u001b[0m Extracting data/MNIST/raw/t10k-labels-idx1-ubyte.gz to data/MNIST/raw\n",
      "\u001b[2m\u001b[36m(train_mnist_tune pid=57646)\u001b[0m \n"
     ]
    },
    {
     "name": "stderr",
     "output_type": "stream",
     "text": [
      "\u001b[2m\u001b[36m(train_mnist_tune pid=57597)\u001b[0m GPU available: False, used: False\n",
      "\u001b[2m\u001b[36m(train_mnist_tune pid=57597)\u001b[0m TPU available: False, using: 0 TPU cores\n",
      "\u001b[2m\u001b[36m(train_mnist_tune pid=57597)\u001b[0m IPU available: False, using: 0 IPUs\n",
      "\u001b[2m\u001b[36m(train_mnist_tune pid=57597)\u001b[0m HPU available: False, using: 0 HPUs\n"
     ]
    },
    {
     "name": "stdout",
     "output_type": "stream",
     "text": [
      "\u001b[2m\u001b[36m(train_mnist_tune pid=57597)\u001b[0m Downloading http://yann.lecun.com/exdb/mnist/train-images-idx3-ubyte.gz\n",
      "\u001b[2m\u001b[36m(train_mnist_tune pid=57597)\u001b[0m Downloading http://yann.lecun.com/exdb/mnist/train-images-idx3-ubyte.gz to data/MNIST/raw/train-images-idx3-ubyte.gz\n"
     ]
    },
    {
     "name": "stderr",
     "output_type": "stream",
     "text": [
      "  0%|          | 0/9912422 [00:00<?, ?it/s]\n",
      "  1%|          | 98304/9912422 [00:00<00:10, 945604.96it/s]\n",
      "  3%|▎         | 262144/9912422 [00:00<00:07, 1274576.71it/s]\n",
      "  6%|▋         | 622592/9912422 [00:00<00:04, 2249512.98it/s]\n",
      " 12%|█▏        | 1146880/9912422 [00:00<00:02, 3375702.52it/s]\n",
      " 15%|█▌        | 1507328/9912422 [00:00<00:02, 2977523.04it/s]\n",
      " 23%|██▎       | 2293760/9912422 [00:00<00:01, 4391131.84it/s]\n",
      " 28%|██▊       | 2752512/9912422 [00:00<00:02, 3502950.04it/s]\n",
      " 38%|███▊      | 3735552/9912422 [00:00<00:01, 5081975.06it/s]\n",
      " 44%|████▎     | 4325376/9912422 [00:01<00:01, 4586382.95it/s]\n",
      " 52%|█████▏    | 5144576/9912422 [00:01<00:00, 4943008.06it/s]\n",
      " 64%|██████▍   | 6356992/9912422 [00:01<00:00, 6670596.64it/s]\n",
      " 72%|███████▏  | 7110656/9912422 [00:01<00:00, 5401581.50it/s]\n",
      " 79%|███████▉  | 7831552/9912422 [00:06<00:04, 476196.19it/s] \n",
      " 84%|████████▎ | 8290304/9912422 [00:06<00:02, 559356.61it/s]\n",
      " 92%|█████████▏| 9109504/9912422 [00:07<00:01, 799330.55it/s]\n",
      " 97%|█████████▋| 9633792/9912422 [00:07<00:00, 940574.09it/s]\n",
      "100%|██████████| 9912422/9912422 [00:07<00:00, 1331940.79it/s]\n"
     ]
    },
    {
     "name": "stdout",
     "output_type": "stream",
     "text": [
      "\u001b[2m\u001b[36m(train_mnist_tune pid=57597)\u001b[0m Extracting data/MNIST/raw/train-images-idx3-ubyte.gz to data/MNIST/raw\n",
      "\u001b[2m\u001b[36m(train_mnist_tune pid=57597)\u001b[0m \n",
      "\u001b[2m\u001b[36m(train_mnist_tune pid=57597)\u001b[0m Downloading http://yann.lecun.com/exdb/mnist/train-labels-idx1-ubyte.gz\n",
      "\u001b[2m\u001b[36m(train_mnist_tune pid=57597)\u001b[0m Downloading http://yann.lecun.com/exdb/mnist/train-labels-idx1-ubyte.gz to data/MNIST/raw/train-labels-idx1-ubyte.gz\n"
     ]
    },
    {
     "name": "stderr",
     "output_type": "stream",
     "text": [
      "100%|██████████| 28881/28881 [00:00<00:00, 518305.17it/s]\n"
     ]
    },
    {
     "name": "stdout",
     "output_type": "stream",
     "text": [
      "\u001b[2m\u001b[36m(train_mnist_tune pid=57597)\u001b[0m Extracting data/MNIST/raw/train-labels-idx1-ubyte.gz to data/MNIST/raw\n",
      "\u001b[2m\u001b[36m(train_mnist_tune pid=57597)\u001b[0m \n",
      "\u001b[2m\u001b[36m(train_mnist_tune pid=57597)\u001b[0m Downloading http://yann.lecun.com/exdb/mnist/t10k-images-idx3-ubyte.gz\n",
      "\u001b[2m\u001b[36m(train_mnist_tune pid=57597)\u001b[0m Downloading http://yann.lecun.com/exdb/mnist/t10k-images-idx3-ubyte.gz to data/MNIST/raw/t10k-images-idx3-ubyte.gz\n"
     ]
    },
    {
     "name": "stderr",
     "output_type": "stream",
     "text": [
      "  0%|          | 0/1648877 [00:00<?, ?it/s]\n",
      "  4%|▍         | 65536/1648877 [00:00<00:02, 558707.42it/s]\n",
      " 12%|█▏        | 196608/1648877 [00:00<00:01, 948515.91it/s]\n",
      " 30%|██▉       | 491520/1648877 [00:00<00:00, 1799304.04it/s]\n",
      "100%|██████████| 1648877/1648877 [00:00<00:00, 3321562.35it/s]\n"
     ]
    },
    {
     "name": "stdout",
     "output_type": "stream",
     "text": [
      "\u001b[2m\u001b[36m(train_mnist_tune pid=57597)\u001b[0m Extracting data/MNIST/raw/t10k-images-idx3-ubyte.gz to data/MNIST/raw\n",
      "\u001b[2m\u001b[36m(train_mnist_tune pid=57597)\u001b[0m \n",
      "\u001b[2m\u001b[36m(train_mnist_tune pid=57597)\u001b[0m Downloading http://yann.lecun.com/exdb/mnist/t10k-labels-idx1-ubyte.gz\n",
      "\u001b[2m\u001b[36m(train_mnist_tune pid=57597)\u001b[0m Downloading http://yann.lecun.com/exdb/mnist/t10k-labels-idx1-ubyte.gz to data/MNIST/raw/t10k-labels-idx1-ubyte.gz\n"
     ]
    },
    {
     "name": "stderr",
     "output_type": "stream",
     "text": [
      "  0%|          | 0/4542 [00:00<?, ?it/s]m \n",
      "100%|██████████| 4542/4542 [00:00<00:00, 1637909.79it/s]\n",
      "\u001b[2m\u001b[36m(train_mnist_tune pid=57597)\u001b[0m \n",
      "\u001b[2m\u001b[36m(train_mnist_tune pid=57597)\u001b[0m   | Name    | Type   | Params\n",
      "\u001b[2m\u001b[36m(train_mnist_tune pid=57597)\u001b[0m -----------------------------------\n",
      "\u001b[2m\u001b[36m(train_mnist_tune pid=57597)\u001b[0m 0 | layer_1 | Linear | 100 K \n",
      "\u001b[2m\u001b[36m(train_mnist_tune pid=57597)\u001b[0m 1 | layer_2 | Linear | 33.0 K\n",
      "\u001b[2m\u001b[36m(train_mnist_tune pid=57597)\u001b[0m 2 | layer_3 | Linear | 2.6 K \n",
      "\u001b[2m\u001b[36m(train_mnist_tune pid=57597)\u001b[0m -----------------------------------\n",
      "\u001b[2m\u001b[36m(train_mnist_tune pid=57597)\u001b[0m 136 K     Trainable params\n",
      "\u001b[2m\u001b[36m(train_mnist_tune pid=57597)\u001b[0m 0         Non-trainable params\n",
      "\u001b[2m\u001b[36m(train_mnist_tune pid=57597)\u001b[0m 136 K     Total params\n",
      "\u001b[2m\u001b[36m(train_mnist_tune pid=57597)\u001b[0m 0.544     Total estimated model params size (MB)\n"
     ]
    },
    {
     "name": "stdout",
     "output_type": "stream",
     "text": [
      "\u001b[2m\u001b[36m(train_mnist_tune pid=57597)\u001b[0m Extracting data/MNIST/raw/t10k-labels-idx1-ubyte.gz to data/MNIST/raw\n",
      "\u001b[2m\u001b[36m(train_mnist_tune pid=57597)\u001b[0m \n"
     ]
    },
    {
     "name": "stderr",
     "output_type": "stream",
     "text": [
      "\u001b[2m\u001b[36m(train_mnist_tune pid=57646)\u001b[0m GPU available: False, used: False\n",
      "\u001b[2m\u001b[36m(train_mnist_tune pid=57646)\u001b[0m TPU available: False, using: 0 TPU cores\n",
      "\u001b[2m\u001b[36m(train_mnist_tune pid=57646)\u001b[0m IPU available: False, using: 0 IPUs\n",
      "\u001b[2m\u001b[36m(train_mnist_tune pid=57646)\u001b[0m HPU available: False, using: 0 HPUs\n"
     ]
    },
    {
     "name": "stdout",
     "output_type": "stream",
     "text": [
      "\u001b[2m\u001b[36m(train_mnist_tune pid=57646)\u001b[0m Downloading http://yann.lecun.com/exdb/mnist/train-images-idx3-ubyte.gz\n",
      "\u001b[2m\u001b[36m(train_mnist_tune pid=57646)\u001b[0m Downloading http://yann.lecun.com/exdb/mnist/train-images-idx3-ubyte.gz to data/MNIST/raw/train-images-idx3-ubyte.gz\n"
     ]
    },
    {
     "name": "stderr",
     "output_type": "stream",
     "text": [
      "  0%|          | 0/9912422 [00:00<?, ?it/s]\n",
      "  1%|          | 65536/9912422 [00:00<00:15, 646133.01it/s]\n",
      "  8%|▊         | 819200/9912422 [00:00<00:06, 1494110.43it/s]\n",
      " 14%|█▍        | 1409024/9912422 [00:00<00:03, 2598562.87it/s]\n",
      " 20%|██        | 2031616/9912422 [00:00<00:02, 3536715.60it/s]\n",
      " 25%|██▍       | 2457600/9912422 [00:00<00:02, 3317169.54it/s]\n",
      " 35%|███▌      | 3506176/9912422 [00:01<00:01, 4661696.39it/s]\n",
      " 46%|████▋     | 4587520/9912422 [00:01<00:00, 6180347.85it/s]\n",
      " 53%|█████▎    | 5275648/9912422 [00:01<00:00, 5578247.46it/s]\n",
      " 60%|█████▉    | 5898240/9912422 [00:01<00:00, 4784726.17it/s]\n",
      " 67%|██████▋   | 6684672/9912422 [00:01<00:00, 5468718.88it/s]\n",
      " 75%|███████▌  | 7471104/9912422 [00:01<00:00, 6005516.70it/s]\n",
      " 84%|████████▍ | 8323072/9912422 [00:01<00:00, 6631257.30it/s]\n",
      " 93%|█████████▎| 9207808/9912422 [00:01<00:00, 7215206.85it/s]\n",
      "100%|██████████| 9912422/9912422 [00:02<00:00, 4913941.16it/s]\n"
     ]
    },
    {
     "name": "stdout",
     "output_type": "stream",
     "text": [
      "\u001b[2m\u001b[36m(train_mnist_tune pid=57646)\u001b[0m Extracting data/MNIST/raw/train-images-idx3-ubyte.gz to data/MNIST/raw\n",
      "\u001b[2m\u001b[36m(train_mnist_tune pid=57646)\u001b[0m \n",
      "\u001b[2m\u001b[36m(train_mnist_tune pid=57646)\u001b[0m Downloading http://yann.lecun.com/exdb/mnist/train-labels-idx1-ubyte.gz\n",
      "\u001b[2m\u001b[36m(train_mnist_tune pid=57646)\u001b[0m Downloading http://yann.lecun.com/exdb/mnist/train-labels-idx1-ubyte.gz to data/MNIST/raw/train-labels-idx1-ubyte.gz\n"
     ]
    },
    {
     "name": "stderr",
     "output_type": "stream",
     "text": [
      "  0%|          | 0/28881 [00:00<?, ?it/s] \n",
      "100%|██████████| 28881/28881 [00:00<00:00, 723362.28it/s]\n"
     ]
    },
    {
     "name": "stdout",
     "output_type": "stream",
     "text": [
      "\u001b[2m\u001b[36m(train_mnist_tune pid=57646)\u001b[0m Extracting data/MNIST/raw/train-labels-idx1-ubyte.gz to data/MNIST/raw\n",
      "\u001b[2m\u001b[36m(train_mnist_tune pid=57646)\u001b[0m \n",
      "\u001b[2m\u001b[36m(train_mnist_tune pid=57646)\u001b[0m Downloading http://yann.lecun.com/exdb/mnist/t10k-images-idx3-ubyte.gz\n",
      "\u001b[2m\u001b[36m(train_mnist_tune pid=57646)\u001b[0m Downloading http://yann.lecun.com/exdb/mnist/t10k-images-idx3-ubyte.gz to data/MNIST/raw/t10k-images-idx3-ubyte.gz\n"
     ]
    },
    {
     "name": "stderr",
     "output_type": "stream",
     "text": [
      "  0%|          | 0/1648877 [00:00<?, ?it/s]\n",
      " 24%|██▍       | 393216/1648877 [00:00<00:01, 1101515.26it/s]\n",
      " 46%|████▌     | 753664/1648877 [00:00<00:00, 1874605.02it/s]\n",
      " 60%|█████▉    | 983040/1648877 [00:00<00:00, 1592734.08it/s]\n",
      " 95%|█████████▌| 1572864/1648877 [00:00<00:00, 2715980.63it/s]\n",
      "100%|██████████| 1648877/1648877 [00:00<00:00, 1893339.32it/s]\n"
     ]
    },
    {
     "name": "stdout",
     "output_type": "stream",
     "text": [
      "\u001b[2m\u001b[36m(train_mnist_tune pid=57646)\u001b[0m Extracting data/MNIST/raw/t10k-images-idx3-ubyte.gz to data/MNIST/raw\n",
      "\u001b[2m\u001b[36m(train_mnist_tune pid=57646)\u001b[0m \n",
      "\u001b[2m\u001b[36m(train_mnist_tune pid=57646)\u001b[0m Downloading http://yann.lecun.com/exdb/mnist/t10k-labels-idx1-ubyte.gz\n",
      "\u001b[2m\u001b[36m(train_mnist_tune pid=57646)\u001b[0m Downloading http://yann.lecun.com/exdb/mnist/t10k-labels-idx1-ubyte.gz to data/MNIST/raw/t10k-labels-idx1-ubyte.gz\n"
     ]
    },
    {
     "name": "stderr",
     "output_type": "stream",
     "text": [
      "100%|██████████| 4542/4542 [00:00<00:00, 95492.33it/s]\n",
      "\u001b[2m\u001b[36m(train_mnist_tune pid=57646)\u001b[0m \n",
      "\u001b[2m\u001b[36m(train_mnist_tune pid=57646)\u001b[0m   | Name    | Type   | Params\n",
      "\u001b[2m\u001b[36m(train_mnist_tune pid=57646)\u001b[0m -----------------------------------\n",
      "\u001b[2m\u001b[36m(train_mnist_tune pid=57646)\u001b[0m 0 | layer_1 | Linear | 100 K \n",
      "\u001b[2m\u001b[36m(train_mnist_tune pid=57646)\u001b[0m 1 | layer_2 | Linear | 16.5 K\n",
      "\u001b[2m\u001b[36m(train_mnist_tune pid=57646)\u001b[0m 2 | layer_3 | Linear | 1.3 K \n",
      "\u001b[2m\u001b[36m(train_mnist_tune pid=57646)\u001b[0m -----------------------------------\n",
      "\u001b[2m\u001b[36m(train_mnist_tune pid=57646)\u001b[0m 118 K     Trainable params\n",
      "\u001b[2m\u001b[36m(train_mnist_tune pid=57646)\u001b[0m 0         Non-trainable params\n",
      "\u001b[2m\u001b[36m(train_mnist_tune pid=57646)\u001b[0m 118 K     Total params\n",
      "\u001b[2m\u001b[36m(train_mnist_tune pid=57646)\u001b[0m 0.473     Total estimated model params size (MB)\n"
     ]
    },
    {
     "name": "stdout",
     "output_type": "stream",
     "text": [
      "\u001b[2m\u001b[36m(train_mnist_tune pid=57646)\u001b[0m Extracting data/MNIST/raw/t10k-labels-idx1-ubyte.gz to data/MNIST/raw\n",
      "\u001b[2m\u001b[36m(train_mnist_tune pid=57646)\u001b[0m \n"
     ]
    },
    {
     "name": "stderr",
     "output_type": "stream",
     "text": [
      "\u001b[2m\u001b[36m(train_mnist_tune pid=57661)\u001b[0m /Library/Developer/CommandLineTools/Library/Frameworks/Python3.framework/Versions/3.8/lib/python3.8/multiprocessing/resource_tracker.py:216: UserWarning: resource_tracker: There appear to be 1 leaked semaphore objects to clean up at shutdown\n",
      "\u001b[2m\u001b[36m(train_mnist_tune pid=57661)\u001b[0m   warnings.warn('resource_tracker: There appear to be %d '\n",
      "\u001b[2m\u001b[36m(train_mnist_tune pid=57609)\u001b[0m /Library/Developer/CommandLineTools/Library/Frameworks/Python3.framework/Versions/3.8/lib/python3.8/multiprocessing/resource_tracker.py:216: UserWarning: resource_tracker: There appear to be 1 leaked semaphore objects to clean up at shutdown\n",
      "\u001b[2m\u001b[36m(train_mnist_tune pid=57609)\u001b[0m   warnings.warn('resource_tracker: There appear to be %d '\n",
      "\u001b[2m\u001b[36m(train_mnist_tune pid=57646)\u001b[0m /Library/Developer/CommandLineTools/Library/Frameworks/Python3.framework/Versions/3.8/lib/python3.8/multiprocessing/resource_tracker.py:216: UserWarning: resource_tracker: There appear to be 1 leaked semaphore objects to clean up at shutdown\n",
      "\u001b[2m\u001b[36m(train_mnist_tune pid=57646)\u001b[0m   warnings.warn('resource_tracker: There appear to be %d '\n",
      "\u001b[2m\u001b[36m(train_mnist_tune pid=57597)\u001b[0m /Library/Developer/CommandLineTools/Library/Frameworks/Python3.framework/Versions/3.8/lib/python3.8/multiprocessing/resource_tracker.py:216: UserWarning: resource_tracker: There appear to be 1 leaked semaphore objects to clean up at shutdown\n",
      "\u001b[2m\u001b[36m(train_mnist_tune pid=57597)\u001b[0m   warnings.warn('resource_tracker: There appear to be %d '\n",
      "\u001b[2m\u001b[36m(train_mnist_tune pid=57618)\u001b[0m /Library/Developer/CommandLineTools/Library/Frameworks/Python3.framework/Versions/3.8/lib/python3.8/multiprocessing/resource_tracker.py:216: UserWarning: resource_tracker: There appear to be 1 leaked semaphore objects to clean up at shutdown\n",
      "\u001b[2m\u001b[36m(train_mnist_tune pid=57618)\u001b[0m   warnings.warn('resource_tracker: There appear to be %d '\n",
      "\u001b[2m\u001b[36m(train_mnist_tune pid=57628)\u001b[0m /Library/Developer/CommandLineTools/Library/Frameworks/Python3.framework/Versions/3.8/lib/python3.8/multiprocessing/resource_tracker.py:216: UserWarning: resource_tracker: There appear to be 1 leaked semaphore objects to clean up at shutdown\n",
      "\u001b[2m\u001b[36m(train_mnist_tune pid=57628)\u001b[0m   warnings.warn('resource_tracker: There appear to be %d '\n",
      "\u001b[2m\u001b[36m(train_mnist_tune pid=57635)\u001b[0m /Library/Developer/CommandLineTools/Library/Frameworks/Python3.framework/Versions/3.8/lib/python3.8/multiprocessing/resource_tracker.py:216: UserWarning: resource_tracker: There appear to be 1 leaked semaphore objects to clean up at shutdown\n",
      "\u001b[2m\u001b[36m(train_mnist_tune pid=57635)\u001b[0m   warnings.warn('resource_tracker: There appear to be %d '\n",
      "2023-04-15 07:06:29,866\tINFO tune.py:798 -- Total run time: 296.48 seconds (296.26 seconds for the tuning loop).\n"
     ]
    },
    {
     "name": "stdout",
     "output_type": "stream",
     "text": [
      "Best hyperparameters found were:  {'layer_1_size': 64, 'layer_2_size': 128, 'lr': 0.0018351694463587221, 'batch_size': 128}\n"
     ]
    },
    {
     "name": "stderr",
     "output_type": "stream",
     "text": [
      "\u001b[2m\u001b[36m(train_mnist_tune pid=57654)\u001b[0m /Library/Developer/CommandLineTools/Library/Frameworks/Python3.framework/Versions/3.8/lib/python3.8/multiprocessing/resource_tracker.py:216: UserWarning: resource_tracker: There appear to be 1 leaked semaphore objects to clean up at shutdown\n",
      "\u001b[2m\u001b[36m(train_mnist_tune pid=57654)\u001b[0m   warnings.warn('resource_tracker: There appear to be %d '\n"
     ]
    }
   ],
   "source": [
    "!mkdir -p data\n",
    "data_dir = \"data/\"\n",
    "\n",
    "tune_mnist_asha(num_samples=16, num_epochs=6, gpus_per_trial=0, data_dir=data_dir)\n"
   ]
  },
  {
   "cell_type": "code",
   "execution_count": 18,
   "id": "d64c412f",
   "metadata": {},
   "outputs": [
    {
     "name": "stdout",
     "output_type": "stream",
     "text": [
      "1\n"
     ]
    }
   ],
   "source": [
    "\n",
    "print(1)"
   ]
  },
  {
   "cell_type": "code",
   "execution_count": null,
   "id": "dbd40f87",
   "metadata": {},
   "outputs": [],
   "source": [
    "tune_mnist_pbt(num_samples=10, num_epochs=6, gpus_per_trial=0, data_dir=data_dir)"
   ]
  },
  {
   "attachments": {},
   "cell_type": "markdown",
   "id": "3ae0eea6",
   "metadata": {
    "pycharm": {
     "name": "#%% md\n"
    }
   },
   "source": [
    "If you have more resources available (e.g. a GPU), you can modify the above parameters accordingly.\n",
    "\n",
    "An example output of a run could look like this:\n",
    "\n",
    "```bash\n",
    "+-----------------------------------------+------------+-------+----------------+----------------+-----------+--------------+-----------+-----------------+----------------------+\n",
    "| Trial name                              | status     | loc   |   layer_1_size |   layer_2_size |        lr |   batch_size |      loss |   mean_accuracy |   training_iteration |\n",
    "|-----------------------------------------+------------+-------+----------------+----------------+-----------+--------------+-----------+-----------------+----------------------|\n",
    "| train_mnist_tune_checkpoint_85489_00000 | TERMINATED |       |            128 |            128 | 0.001     |           64 | 0.108734  |        0.973101 |                   10 |\n",
    "| train_mnist_tune_checkpoint_85489_00001 | TERMINATED |       |            128 |            128 | 0.001     |           64 | 0.093577  |        0.978639 |                   10 |\n",
    "| train_mnist_tune_checkpoint_85489_00002 | TERMINATED |       |            128 |            256 | 0.0008    |           32 | 0.0922348 |        0.979299 |                   10 |\n",
    "| train_mnist_tune_checkpoint_85489_00003 | TERMINATED |       |             64 |            256 | 0.001     |           64 | 0.124648  |        0.973892 |                   10 |\n",
    "| train_mnist_tune_checkpoint_85489_00004 | TERMINATED |       |            128 |             64 | 0.001     |           64 | 0.101717  |        0.975079 |                   10 |\n",
    "| train_mnist_tune_checkpoint_85489_00005 | TERMINATED |       |             64 |             64 | 0.001     |           64 | 0.121467  |        0.969146 |                   10 |\n",
    "| train_mnist_tune_checkpoint_85489_00006 | TERMINATED |       |            128 |            256 | 0.00064   |           32 | 0.053446  |        0.987062 |                   10 |\n",
    "| train_mnist_tune_checkpoint_85489_00007 | TERMINATED |       |            128 |            256 | 0.001     |           64 | 0.129804  |        0.973497 |                   10 |\n",
    "| train_mnist_tune_checkpoint_85489_00008 | TERMINATED |       |             64 |            256 | 0.0285125 |          128 | 0.363236  |        0.913867 |                   10 |\n",
    "| train_mnist_tune_checkpoint_85489_00009 | TERMINATED |       |             32 |            256 | 0.001     |           64 | 0.150946  |        0.964201 |                   10 |\n",
    "+-----------------------------------------+------------+-------+----------------+----------------+-----------+--------------+-----------+-----------------+----------------------+\n",
    "```\n",
    "\n",
    "As you can see, each sample ran the full number of 10 iterations.\n",
    "All trials ended with quite good parameter combinations and showed relatively good performances.\n",
    "In some runs, the parameters have been perturbed. And the best configuration even reached a\n",
    "mean validation accuracy of `0.987062`!\n",
    "\n",
    "In summary, PyTorch Lightning Modules are easy to extend to use with Tune. It just took\n",
    "us importing one or two callbacks and a small wrapper function to get great performing\n",
    "parameter configurations.\n",
    "\n",
    "## More PyTorch Lightning Examples\n",
    "\n",
    "- {doc}`/tune/examples/includes/mnist_ptl_mini`:\n",
    "  A minimal example of using [Pytorch Lightning](https://github.com/PyTorchLightning/pytorch-lightning)\n",
    "  to train a MNIST model. This example utilizes the Ray Tune-provided\n",
    "  {ref}`PyTorch Lightning callbacks <tune-integration-pytorch-lightning>`.\n",
    "  See also {ref}`this tutorial for a full walkthrough <tune-pytorch-lightning-ref>`.\n",
    "- {ref}`A walkthrough tutorial for using Ray Tune with Pytorch-Lightning <tune-pytorch-lightning-ref>`.\n",
    "- {doc}`/tune/examples/includes/mlflow_ptl_example`: Example for using [MLflow](https://github.com/mlflow/mlflow/)\n",
    "  and [Pytorch Lightning](https://github.com/PyTorchLightning/pytorch-lightning) with Ray Tune."
   ]
  }
 ],
 "metadata": {
  "kernelspec": {
   "display_name": "Python 3 (ipykernel)",
   "language": "python",
   "name": "python3"
  },
  "language_info": {
   "codemirror_mode": {
    "name": "ipython",
    "version": 3
   },
   "file_extension": ".py",
   "mimetype": "text/x-python",
   "name": "python",
   "nbconvert_exporter": "python",
   "pygments_lexer": "ipython3",
   "version": "3.8.9"
  },
  "orphan": true
 },
 "nbformat": 4,
 "nbformat_minor": 5
}
