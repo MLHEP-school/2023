{
  "cells": [
    {
      "cell_type": "markdown",
      "metadata": {
        "colab_type": "text",
        "id": "bwJ8PhXrr5OW"
      },
      "source": [
        "# Bayesian optimization with `skopt`\n",
        "\n",
        "(based on scikit-optimize documentation https://scikit-optimize.github.io/notebooks/sklearn-gridsearchcv-replacement.html)"
      ]
    },
    {
      "cell_type": "code",
      "execution_count": 3,
      "metadata": {
        "colab": {
          "base_uri": "https://localhost:8080/",
          "height": 187
        },
        "colab_type": "code",
        "id": "6mH_S_RfsRo-",
        "outputId": "93d4f520-8024-448c-d3ca-be620e457be5"
      },
      "outputs": [],
      "source": [
        "# sklearn version fixed to avoid known skopt issue\n",
        "#!pip install scikit-optimize \n",
        "# scikit-learn==0.20.3 "
      ]
    },
    {
      "cell_type": "code",
      "execution_count": 4,
      "metadata": {
        "colab": {},
        "colab_type": "code",
        "id": "MnKNBiQTr5Oc"
      },
      "outputs": [],
      "source": [
        "import numpy as np\n",
        "\n",
        "%matplotlib inline\n",
        "import matplotlib.pyplot as plt\n",
        "import pandas as pd\n",
        "from skopt import BayesSearchCV\n",
        "from sklearn.ensemble import RandomForestClassifier\n",
        "from sklearn.model_selection import train_test_split\n",
        "from sklearn.datasets import make_classification"
      ]
    },
    {
      "cell_type": "markdown",
      "metadata": {
        "colab_type": "text",
        "id": "YnkUBtXcww23"
      },
      "source": [
        "## Optimising a classifier"
      ]
    },
    {
      "cell_type": "code",
      "execution_count": 5,
      "metadata": {
        "colab": {
          "base_uri": "https://localhost:8080/",
          "height": 75
        },
        "colab_type": "code",
        "id": "j5-QBPE_s6pg",
        "outputId": "48beac76-e735-4ebd-b41c-d37f8e3055b4"
      },
      "outputs": [],
      "source": [
        "from sklearn.datasets import load_digits\n",
        "X, y = make_classification(2000, 20, n_informative=10, n_classes=2, random_state=0)\n",
        "X = X.astype(np.float32)\n",
        "# X, y = load_digits(10, True)\n",
        "X_train, X_test, y_train, y_test = train_test_split(X, y, train_size=0.75,\n",
        "                                                    random_state=0)"
      ]
    },
    {
      "cell_type": "markdown",
      "metadata": {
        "colab_type": "text",
        "id": "531c3cie1Dxf"
      },
      "source": [
        "dimensions for parameters  [list, shape=(n_dims,)]: List of search space dimensions. Each search dimension can be defined either as\n",
        "\n",
        "- a (lower_bound, upper_bound) tuple (for Real or Integer dimensions),\n",
        "- a (lower_bound, upper_bound, prior) tuple (for Real dimensions),\n",
        "- as a list of categories (for Categorical dimensions), or\n",
        "- an instance of a Dimension object (Real, Integer or Categorical)."
      ]
    },
    {
      "cell_type": "code",
      "execution_count": null,
      "metadata": {
        "colab": {},
        "colab_type": "code",
        "id": "h8UFVdNmyXS9"
      },
      "outputs": [],
      "source": [
        "param_dist = {\n",
        "    \"max_depth\": (3, 10,),\n",
        "    \"max_features\": (1, 11),\n",
        "    \"min_samples_split\": <YOUR CODE>, # from 2 to 10\n",
        "    \"min_samples_leaf\": <YOUR CODE>, # from 1 to 10\n",
        "    \"bootstrap\": [True, False], # categorical valued parameter\n",
        "    \"criterion\": <YOUR CODE> # either \"gini\" or \"entropy\"\n",
        "   }"
      ]
    },
    {
      "cell_type": "code",
      "execution_count": 6,
      "metadata": {},
      "outputs": [],
      "source": [
        "param_dist = {\n",
        "    \"max_depth\": (3, 10,),\n",
        "    \"max_features\": (1, 11),\n",
        "    \"min_samples_split\": [2, 5, 10], # from 2 to 10\n",
        "    \"min_samples_leaf\": [1, 3, 10], # from 1 to 10\n",
        "    \"bootstrap\": [True, False], # categorical valued parameter\n",
        "    \"criterion\": [\"gini\", \"entropy\"] # either \"gini\" or \"entropy\"\n",
        "   }"
      ]
    },
    {
      "cell_type": "code",
      "execution_count": 7,
      "metadata": {
        "colab": {},
        "colab_type": "code",
        "id": "KVdB96xzzOcY"
      },
      "outputs": [],
      "source": [
        "clf = RandomForestClassifier(n_estimators=20)\n",
        "opt = BayesSearchCV(clf, param_dist, n_iter=10, return_train_score=True, cv=3)"
      ]
    },
    {
      "cell_type": "code",
      "execution_count": 8,
      "metadata": {
        "colab": {},
        "colab_type": "code",
        "id": "Y24slK8AzUG6"
      },
      "outputs": [],
      "source": [
        "opt.fit(X_train, y_train);"
      ]
    },
    {
      "cell_type": "code",
      "execution_count": 9,
      "metadata": {
        "colab": {
          "base_uri": "https://localhost:8080/",
          "height": 55
        },
        "colab_type": "code",
        "id": "7aY681Q_xiPD",
        "outputId": "38d12d49-6e3a-4ab8-e121-fd478c358a64"
      },
      "outputs": [
        {
          "name": "stdout",
          "output_type": "stream",
          "text": [
            "val. score: 0.8686666666666666\n",
            "test score: 0.864\n"
          ]
        }
      ],
      "source": [
        "print(\"val. score: %s\" % opt.best_score_)\n",
        "print(\"test score: %s\" % opt.score(X_test, y_test))"
      ]
    },
    {
      "cell_type": "code",
      "execution_count": 10,
      "metadata": {
        "colab": {},
        "colab_type": "code",
        "id": "ySuKwUxu1hHh"
      },
      "outputs": [],
      "source": [
        "# Utility function to report best scores\n",
        "import pandas as pd\n",
        "\n",
        "def report(results, n_top=3):\n",
        "  res = pd.DataFrame(results)\n",
        "  res = res.sort_values(by=['mean_test_score'], ascending=False, axis=0)\n",
        "  res.reset_index(inplace = True, drop=True)\n",
        "#   a = res[['mean_test_score', 'std_test_score']]\n",
        "\n",
        "  for candidate in range(0, n_top):\n",
        "    print(\"Model with rank: {0}\".format(candidate))\n",
        "    print(\"Mean validation score: {0:.3f} (std: {1:.3f})\".format(\n",
        "          res['mean_test_score'][candidate],\n",
        "          res['std_test_score'][candidate]))\n",
        "    print(\"Parameters: {0}\".format(res['params'][candidate]))\n",
        "    print(\"\")"
      ]
    },
    {
      "cell_type": "code",
      "execution_count": 11,
      "metadata": {
        "colab": {
          "base_uri": "https://localhost:8080/",
          "height": 261
        },
        "colab_type": "code",
        "id": "Ip5ROztL1mPp",
        "outputId": "3d12931d-0290-44be-ce58-d7fa78d97246"
      },
      "outputs": [
        {
          "name": "stdout",
          "output_type": "stream",
          "text": [
            "Model with rank: 0\n",
            "Mean validation score: 0.869 (std: 0.006)\n",
            "Parameters: OrderedDict([('bootstrap', True), ('criterion', 'gini'), ('max_depth', 9), ('max_features', 10), ('min_samples_leaf', 3), ('min_samples_split', 5)])\n",
            "\n",
            "Model with rank: 1\n",
            "Mean validation score: 0.865 (std: 0.015)\n",
            "Parameters: OrderedDict([('bootstrap', True), ('criterion', 'entropy'), ('max_depth', 8), ('max_features', 5), ('min_samples_leaf', 1), ('min_samples_split', 10)])\n",
            "\n",
            "Model with rank: 2\n",
            "Mean validation score: 0.862 (std: 0.017)\n",
            "Parameters: OrderedDict([('bootstrap', False), ('criterion', 'entropy'), ('max_depth', 9), ('max_features', 10), ('min_samples_leaf', 3), ('min_samples_split', 5)])\n",
            "\n"
          ]
        }
      ],
      "source": [
        "report(opt.cv_results_)"
      ]
    },
    {
      "cell_type": "markdown",
      "metadata": {
        "colab_type": "text",
        "id": "56dsimIm0KAt"
      },
      "source": [
        "## Task\n",
        "Optimise the neural net from the previous notebook via `BayesSearchCV` \n"
      ]
    },
    {
      "cell_type": "code",
      "execution_count": 12,
      "metadata": {
        "colab": {},
        "colab_type": "code",
        "id": "NHyak9rb8NbZ"
      },
      "outputs": [],
      "source": [
        "import torch\n",
        "from torch import nn\n",
        "import torch.nn.functional as F\n",
        "from skorch import NeuralNetClassifier\n",
        "torch.manual_seed(0);"
      ]
    },
    {
      "cell_type": "code",
      "execution_count": 13,
      "metadata": {
        "colab": {},
        "colab_type": "code",
        "id": "EL8NhGT48LMW"
      },
      "outputs": [],
      "source": [
        "class ClassifierModule(nn.Module):\n",
        "    def __init__(\n",
        "            self,\n",
        "            num_units=10,\n",
        "            nonlin=F.relu,\n",
        "            dropout=0.5,\n",
        "    ):\n",
        "        super(ClassifierModule, self).__init__()\n",
        "        self.num_units = num_units\n",
        "        self.nonlin = nonlin\n",
        "        self.dropout = dropout\n",
        "\n",
        "        self.dense0 = nn.Linear(20, num_units)\n",
        "        self.nonlin = nonlin\n",
        "        self.dropout = nn.Dropout(dropout)\n",
        "        self.dense1 = nn.Linear(num_units, 10)\n",
        "        self.output = nn.Linear(10, 2)\n",
        "\n",
        "    def forward(self, X, **kwargs):\n",
        "        X = self.nonlin(self.dense0(X))\n",
        "        X = self.dropout(X)\n",
        "        X = F.relu(self.dense1(X))\n",
        "        X = F.softmax(self.output(X), dim=-1)\n",
        "        return X"
      ]
    },
    {
      "cell_type": "code",
      "execution_count": 14,
      "metadata": {
        "colab": {},
        "colab_type": "code",
        "id": "LXv7qEAh8iD-"
      },
      "outputs": [],
      "source": [
        "net = NeuralNetClassifier(\n",
        "    ClassifierModule,\n",
        "    max_epochs=20,\n",
        "    lr=0.1,\n",
        "    # device='cuda',  # comment this to train with CPU\n",
        "    optimizer__momentum=0.9,\n",
        "    verbose=0\n",
        ")"
      ]
    },
    {
      "cell_type": "code",
      "execution_count": 15,
      "metadata": {
        "colab": {},
        "colab_type": "code",
        "id": "ZBEXtAIC8j0W"
      },
      "outputs": [],
      "source": [
        "params = {\n",
        "    'lr': [0.05, 0.1],\n",
        "    'module__num_units': [10, 20, 30], # range from 10 to 50\n",
        "    'module__dropout': [0.1, 0.3], # range from 0.1 to 0.3\n",
        "    'optimizer__nesterov': [False, True],\n",
        "}"
      ]
    },
    {
      "cell_type": "code",
      "execution_count": 16,
      "metadata": {
        "colab": {},
        "colab_type": "code",
        "id": "E3lT0R1681FF"
      },
      "outputs": [],
      "source": [
        "bs = BayesSearchCV(net, params, refit=False, cv=3, scoring='accuracy', \n",
        "                  verbose=0, n_jobs=1, n_iter=10, return_train_score=True)"
      ]
    },
    {
      "cell_type": "code",
      "execution_count": 17,
      "metadata": {
        "colab": {},
        "colab_type": "code",
        "id": "jSoqTdZr8717"
      },
      "outputs": [],
      "source": [
        "bs.fit(X, y);"
      ]
    },
    {
      "cell_type": "code",
      "execution_count": 18,
      "metadata": {
        "colab": {
          "base_uri": "https://localhost:8080/",
          "height": 261
        },
        "colab_type": "code",
        "id": "lcszRHhc8_qh",
        "outputId": "f5ea4743-8783-4552-bc35-300a73b8cbf3"
      },
      "outputs": [
        {
          "name": "stdout",
          "output_type": "stream",
          "text": [
            "Model with rank: 0\n",
            "Mean validation score: 0.913 (std: 0.005)\n",
            "Parameters: OrderedDict([('lr', 0.07466666417632838), ('module__dropout', 0.2246868018085015), ('module__num_units', 30), ('optimizer__nesterov', True)])\n",
            "\n",
            "Model with rank: 1\n",
            "Mean validation score: 0.910 (std: 0.007)\n",
            "Parameters: OrderedDict([('lr', 0.07807046199427649), ('module__dropout', 0.22018623626930195), ('module__num_units', 20), ('optimizer__nesterov', True)])\n",
            "\n",
            "Model with rank: 2\n",
            "Mean validation score: 0.905 (std: 0.001)\n",
            "Parameters: OrderedDict([('lr', 0.08636171749534188), ('module__dropout', 0.18055205199824917), ('module__num_units', 20), ('optimizer__nesterov', True)])\n",
            "\n"
          ]
        }
      ],
      "source": [
        "report(bs.cv_results_)"
      ]
    },
    {
      "cell_type": "code",
      "execution_count": 20,
      "metadata": {},
      "outputs": [
        {
          "data": {
            "image/png": "[encoded data removed]",
            "text/plain": [
              "<Figure size 576x576 with 16 Axes>"
            ]
          },
          "metadata": {
            "needs_background": "light"
          },
          "output_type": "display_data"
        }
      ],
      "source": [
        "from skopt.plots import plot_objective, plot_histogram\n",
        "\n",
        "_ = plot_objective(bs.optimizer_results_[0],\n",
        "                   dimensions=[\"lr\", \"module__num_units\", \"module__dropout\", \"optimizer__nesterov\"],\n",
        "                   n_minimum_search=int(1e8))\n",
        "plt.show()"
      ]
    },
    {
      "cell_type": "code",
      "execution_count": 24,
      "metadata": {},
      "outputs": [
        {
          "data": {
            "image/png": "[encoded data removed]",
            "text/plain": [
              "<Figure size 432x288 with 1 Axes>"
            ]
          },
          "metadata": {
            "needs_background": "light"
          },
          "output_type": "display_data"
        }
      ],
      "source": [
        "_ = plot_histogram(bs.optimizer_results_[0], 1)\n",
        "plt.show()"
      ]
    },
    {
      "cell_type": "code",
      "execution_count": null,
      "metadata": {},
      "outputs": [],
      "source": []
    }
  ],
  "metadata": {
    "accelerator": "GPU",
    "colab": {
      "collapsed_sections": [],
      "name": "3-bayesian_optimization.ipynb",
      "provenance": [],
      "version": "0.3.2"
    },
    "kernelspec": {
      "display_name": "Python 3",
      "name": "python3"
    },
    "language_info": {
      "codemirror_mode": {
        "name": "ipython",
        "version": 3
      },
      "file_extension": ".py",
      "mimetype": "text/x-python",
      "name": "python",
      "nbconvert_exporter": "python",
      "pygments_lexer": "ipython3",
      "version": "3.8.9"
    }
  },
  "nbformat": 4,
  "nbformat_minor": 0
}
